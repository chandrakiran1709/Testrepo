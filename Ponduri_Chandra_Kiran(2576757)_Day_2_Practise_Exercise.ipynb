{
 "cells": [
  {
   "cell_type": "markdown",
   "id": "215ba4c8",
   "metadata": {},
   "source": [
    "# 1. Write a python function to list even and odd numbers in a list"
   ]
  },
  {
   "cell_type": "code",
   "execution_count": 2,
   "id": "a8db0c8b",
   "metadata": {},
   "outputs": [
    {
     "name": "stdout",
     "output_type": "stream",
     "text": [
      "even numbers in list =  [2, 78, 42, 66, 8, 24, 36]\n",
      "odd numbers in list =  [59, 81, 13, 17, 75, 91, 63]\n"
     ]
    }
   ],
   "source": [
    "def even_odd_list(lst):\n",
    "    even_list=[];\n",
    "    odd_list=[];\n",
    "    for i in lst:\n",
    "        if i%2==0:\n",
    "            even_list.append(i);\n",
    "        else:\n",
    "            odd_list.append(i);\n",
    "    print(\"even numbers in list = \",even_list)\n",
    "    print(\"odd numbers in list = \",odd_list)\n",
    "\n",
    "list_1=[2,78,59,81,13,17,42,75,91,63,66,8,24,36]\n",
    "even_odd_list(list_1);"
   ]
  },
  {
   "cell_type": "markdown",
   "id": "bd5cc730",
   "metadata": {},
   "source": [
    "# 2. write and run a python program that asks user to enter 8 integers(one at a time) and then prints out how many of those were even integers. For Example, if the user entered 19,6,9,20,13,7,6 and 1. then your program should print out 3 since 3 of those numbers were even."
   ]
  },
  {
   "cell_type": "code",
   "execution_count": 6,
   "id": "f6c30cb7",
   "metadata": {},
   "outputs": [
    {
     "name": "stdout",
     "output_type": "stream",
     "text": [
      "Enter the values into List :\n",
      "19\n",
      "6\n",
      "9\n",
      "20\n",
      "13\n",
      "7\n",
      "6\n",
      "1\n",
      "No. of even numbers in the list =  3\n"
     ]
    }
   ],
   "source": [
    "def even_count(lst):\n",
    "    count=0;\n",
    "    for i in lst:\n",
    "        if i%2==0:\n",
    "            count=count+1;\n",
    "    print(\"No. of even numbers in the list = \",count);\n",
    "list_2=[]\n",
    "print(\"Enter the values into List :\")\n",
    "for i in range(1,9):\n",
    "    list_2.append(int(input()))\n",
    "                  \n",
    "even_count(list_2)"
   ]
  },
  {
   "cell_type": "markdown",
   "id": "8bd99394",
   "metadata": {},
   "source": [
    "# 3.Write a python program where you take any positive integer n, if n is even, divide it by 2 to get n/2 . if n is odd, multiply it by 3 and add 1 to obtain 3n+1. Repeat the process until you  reach 1"
   ]
  },
  {
   "cell_type": "code",
   "execution_count": 7,
   "id": "6a8dec31",
   "metadata": {},
   "outputs": [
    {
     "name": "stdout",
     "output_type": "stream",
     "text": [
      "enter n value : 12\n",
      "6.0  \n",
      "3.0  \n",
      "10.0\n",
      "5.0  \n",
      "16.0\n",
      "8.0  \n",
      "4.0  \n",
      "2.0  \n",
      "1.0  \n"
     ]
    }
   ],
   "source": [
    "def seq(x):\n",
    "    while(x>1):\n",
    "        if x%2==0:\n",
    "            x=x/2\n",
    "            print(x,\" \")\n",
    "        else:\n",
    "            x=x*3+1;\n",
    "            print(x)\n",
    "n=int(input(\"enter n value : \"))\n",
    "seq(n)"
   ]
  },
  {
   "cell_type": "markdown",
   "id": "ba0a36ab",
   "metadata": {},
   "source": [
    "# 4.Write a python program to compute sum of  all the multiples of 3 or 5 below 500"
   ]
  },
  {
   "cell_type": "code",
   "execution_count": 9,
   "id": "d9d3fe0c",
   "metadata": {},
   "outputs": [
    {
     "name": "stdout",
     "output_type": "stream",
     "text": [
      "The sum of all multiples of 3 or 5 below 500 =  57918\n"
     ]
    }
   ],
   "source": [
    "def mul_sum():\n",
    "    sum=0;\n",
    "    for i in range(1,500):\n",
    "        if i%3==0 or i%5==0:\n",
    "            sum=sum+i;\n",
    "    print(\"The sum of all multiples of 3 or 5 below 500 = \",sum)\n",
    "\n",
    "mul_sum()"
   ]
  },
  {
   "cell_type": "markdown",
   "id": "69e95c9a",
   "metadata": {},
   "source": [
    "# 5.To write a python program to find first n prime numbers from a list of numbers "
   ]
  },
  {
   "cell_type": "code",
   "execution_count": 3,
   "id": "a8ca45b2",
   "metadata": {},
   "outputs": [
    {
     "name": "stdout",
     "output_type": "stream",
     "text": [
      "enter n value : 7\n",
      "2\n",
      "3\n",
      "5\n",
      "7\n",
      "11\n",
      "13\n",
      "17\n"
     ]
    }
   ],
   "source": [
    "def isPrime(x):\n",
    "    c=0\n",
    "    for i in range(1,x+1):\n",
    "        if x%i==0:\n",
    "            c=c+1\n",
    "    if c==2:\n",
    "        return 1;\n",
    "    else: \n",
    "        return 0;\n",
    "\n",
    "n=int(input(\"enter n value : \"))\n",
    "t=0\n",
    "x=1\n",
    "while(t!=n):  \n",
    "    if isPrime(x)==1:\n",
    "        t=t+1\n",
    "        print(x)\n",
    "    x=x+1;"
   ]
  },
  {
   "cell_type": "markdown",
   "id": "03bf6a19",
   "metadata": {},
   "source": [
    "# 6. To write a python program to matrix multiplication "
   ]
  },
  {
   "cell_type": "code",
   "execution_count": 5,
   "id": "55052e2f",
   "metadata": {},
   "outputs": [
    {
     "name": "stdout",
     "output_type": "stream",
     "text": [
      "the multiplication of two matrices = \n",
      "[246, 474, 545, 349]\n",
      "[396, 755, 413, 176]\n",
      "[247, 471, 294, 139]\n"
     ]
    }
   ],
   "source": [
    "mat_1 = [[11,24,3],\n",
    "     [5,9,34],\n",
    "     [4,8,19]]\n",
    "\n",
    "mat_2 = [[9,21,13,14],\n",
    "     [5,8,16,8],\n",
    "     [9,17,6,1]]\n",
    "\n",
    "res_mat = [[0,0,0,0],\n",
    "          [0,0,0,0],\n",
    "          [0,0,0,0]]\n",
    "\n",
    "for i in range(len(mat_1)):\n",
    "    for j in range(len(mat_2[0])):\n",
    "        for k in range(len(mat_2)):\n",
    "            res_mat[i][j] += mat_1[i][k] * mat_2[k][j]\n",
    "            \n",
    "print(\"the multiplication of two matrices = \")\n",
    "for i in res_mat:\n",
    "    print(i)"
   ]
  },
  {
   "cell_type": "markdown",
   "id": "7e65c745",
   "metadata": {},
   "source": [
    "# 7. write a python function to print number of vowels in a string"
   ]
  },
  {
   "cell_type": "code",
   "execution_count": 10,
   "id": "2946d652",
   "metadata": {},
   "outputs": [
    {
     "name": "stdout",
     "output_type": "stream",
     "text": [
      "enter the string :machine learning\n",
      "6\n"
     ]
    }
   ],
   "source": [
    "def isVowel(a):\n",
    "    lst=['a','e','i','o','u','A','E','I','O','U']\n",
    "    if a in lst:\n",
    "        return 1\n",
    "    if a not in lst:\n",
    "        return 0\n",
    "str1=input(\"enter the string :\")\n",
    "con=0\n",
    "for i in str1:\n",
    "    if isVowel(i)==1:\n",
    "        con=con+1;  \n",
    "print(con)"
   ]
  },
  {
   "cell_type": "markdown",
   "id": "96bf925c",
   "metadata": {},
   "source": [
    "# 8. write a python program to finding factorial for a given number using recursive function"
   ]
  },
  {
   "cell_type": "code",
   "execution_count": 17,
   "id": "ddcc8959",
   "metadata": {},
   "outputs": [
    {
     "name": "stdout",
     "output_type": "stream",
     "text": [
      "enter N value : 5\n",
      "120\n"
     ]
    }
   ],
   "source": [
    "def fact(x):\n",
    "    if x == 1:\n",
    "        return x\n",
    "    else:\n",
    "        return x * fact(x-1)\n",
    "\n",
    "n=int(input(\"enter N value : \"))\n",
    "print(fact(n))"
   ]
  },
  {
   "cell_type": "markdown",
   "id": "2c59cbff",
   "metadata": {},
   "source": [
    "#  9. write a python function to generating fibanocci series using the function"
   ]
  },
  {
   "cell_type": "code",
   "execution_count": 15,
   "id": "56415558",
   "metadata": {},
   "outputs": [
    {
     "name": "stdout",
     "output_type": "stream",
     "text": [
      "enter n value :8\n",
      "0 1 1 2 3 5 8 13 "
     ]
    }
   ],
   "source": [
    "def fib_series(x):\n",
    "    a = 0\n",
    "    b = 1\n",
    "    if x == 1:\n",
    "        print(a)\n",
    "    else:\n",
    "        print(a,end=\" \")\n",
    "        print(b,end=\" \")\n",
    "        for i in range(2,n):\n",
    "            c = a + b\n",
    "            a = b\n",
    "            b = c\n",
    "            print(c,end=\" \")\n",
    "\n",
    "n=int(input(\"enter n value :\"))\n",
    "fib_series(n);"
   ]
  },
  {
   "cell_type": "markdown",
   "id": "8b4d7c1f",
   "metadata": {},
   "source": [
    "#  10. python program to display given integer in reverse order without using in-built functions"
   ]
  },
  {
   "cell_type": "code",
   "execution_count": 22,
   "id": "4b943bdf",
   "metadata": {},
   "outputs": [
    {
     "name": "stdout",
     "output_type": "stream",
     "text": [
      "enter the number to reverse : 721984984\n",
      "The Reveresed number =  489489127\n"
     ]
    }
   ],
   "source": [
    "def number_reverse(a):\n",
    "    rev=0\n",
    "    while a != 0:\n",
    "        digit = a % 10\n",
    "        rev = rev * 10 + digit\n",
    "        a //= 10\n",
    "    return rev\n",
    "    \n",
    "n=int(input(\"enter the number to reverse : \"))\n",
    "print(\"The Reveresed number = \", number_reverse(n))"
   ]
  },
  {
   "cell_type": "markdown",
   "id": "5de6287b",
   "metadata": {},
   "source": [
    "#  11. write a python function to display all integers within the range 200-300 whose sum of digits is an even number"
   ]
  },
  {
   "cell_type": "code",
   "execution_count": 25,
   "id": "5cea8961",
   "metadata": {},
   "outputs": [
    {
     "name": "stdout",
     "output_type": "stream",
     "text": [
      "the sum of digits of integer between 200 and 300 whose sum is even = \n",
      "200 202 204 206 208 211 213 215 217 219 220 222 224 226 228 231 233 235 237 239 240 242 244 246 248 251 253 255 257 259 260 262 264 266 268 271 273 275 277 279 280 282 284 286 288 291 293 295 297 299 "
     ]
    }
   ],
   "source": [
    "def even_digit_sum(n):\n",
    "    sum=0;\n",
    "    while n!=0:\n",
    "        digit=n%10;\n",
    "        sum=sum+digit;\n",
    "        n=n//10;\n",
    "    if sum%2==0:\n",
    "        return 1\n",
    "    else:\n",
    "        return 0\n",
    "print(\"the sum of digits of integer between 200 and 300 whose sum is even = \")\n",
    "for i in range(200,300):\n",
    "    if even_digit_sum(i)==1:\n",
    "        print(i,end=\" \")"
   ]
  },
  {
   "cell_type": "markdown",
   "id": "1784ba9a",
   "metadata": {},
   "source": [
    "# 12. write a python function to find number of digits and sum of digits for a  given integer"
   ]
  },
  {
   "cell_type": "code",
   "execution_count": 26,
   "id": "7ef9ddaf",
   "metadata": {},
   "outputs": [
    {
     "name": "stdout",
     "output_type": "stream",
     "text": [
      "enter the value of integer : 61864\n",
      "No. of Digits =  5\n",
      "Sum of Digits =  25\n"
     ]
    }
   ],
   "source": [
    "def num_sum_digits(n):\n",
    "    sum=0\n",
    "    count=0\n",
    "    while(n!=0):\n",
    "        digit=n%10;\n",
    "        sum=sum+digit;\n",
    "        count=count+1;\n",
    "        n=n//10;\n",
    "    print(\"No. of Digits = \",count)\n",
    "    print(\"Sum of Digits = \",sum)\n",
    "\n",
    "n=int(input(\"enter the value of integer : \"))\n",
    "num_sum_digits(n)"
   ]
  },
  {
   "cell_type": "markdown",
   "id": "4b5e03d9",
   "metadata": {},
   "source": [
    "# 13. write function called is_sorted that takes list as parameter and returns True if list is sorted in ascending order and False otherwise and has_duplicates that takes a list and returns True if there is any element that appears more than once. it should not modify the original list"
   ]
  },
  {
   "cell_type": "code",
   "execution_count": 39,
   "id": "1f221de4",
   "metadata": {},
   "outputs": [
    {
     "name": "stdout",
     "output_type": "stream",
     "text": [
      " elements in list are sorted ? False\n",
      "list has duplicate elements ? True\n"
     ]
    }
   ],
   "source": [
    "def is_sorted(a):\n",
    "    list=[]\n",
    "    if list.sort()==a:\n",
    "        return True\n",
    "    else:\n",
    "        return False\n",
    "def has_duplicates(a):\n",
    "    if len(a)==len(set(a)):\n",
    "        return True\n",
    "    else :\n",
    "        return False\n",
    "\n",
    "list1=[51,34,58,6,4,17]\n",
    "print(\" elements in list are sorted ?\",is_sorted(list1))\n",
    "print(\"list has duplicate elements ?\",has_duplicates(list1))"
   ]
  },
  {
   "cell_type": "markdown",
   "id": "ea3a9f29",
   "metadata": {},
   "source": [
    "# 14. write functions called nested_sum that takes a list of integers and adds up the elements from all the nested lists and cum_sum that takes a list of numbers and return cumulative sum; that is, a new list where the i th element is the sum of first i+1 elements from the original list "
   ]
  },
  {
   "cell_type": "code",
   "execution_count": 47,
   "id": "90f6c014",
   "metadata": {},
   "outputs": [
    {
     "name": "stdout",
     "output_type": "stream",
     "text": [
      "the sum of all elements in nested list =  114\n",
      "the cumulative sum list of given list =  [4, 15, 18, 32, 33, 42, 47]\n"
     ]
    }
   ],
   "source": [
    "def nested_sum(lst):\n",
    "    total = 0\n",
    "    for i in lst:\n",
    "        if type(i) == list:\n",
    "            total = total+nested_sum(i)\n",
    "        else:\n",
    "            total = total+i\n",
    "    return total\n",
    "def cum_sum(s):\n",
    "    c_sum=0\n",
    "    cum_sum_list=[]\n",
    "    for i in s:\n",
    "        c_sum=c_sum+i\n",
    "        cum_sum_list.append(c_sum)\n",
    "    return cum_sum_list\n",
    "            \n",
    "nested_list=[10,[11,13,2],48,[2,17],4,7]\n",
    "list3=[4,11,3,14,1,9,5]\n",
    "print(\"the sum of all elements in nested list = \",nested_sum(nested_list))\n",
    "print(\"the cumulative sum list of given list = \",cum_sum(list3))"
   ]
  },
  {
   "cell_type": "code",
   "execution_count": null,
   "id": "b09dfb69",
   "metadata": {},
   "outputs": [],
   "source": []
  }
 ],
 "metadata": {
  "kernelspec": {
   "display_name": "Python 3 (ipykernel)",
   "language": "python",
   "name": "python3"
  },
  "language_info": {
   "codemirror_mode": {
    "name": "ipython",
    "version": 3
   },
   "file_extension": ".py",
   "mimetype": "text/x-python",
   "name": "python",
   "nbconvert_exporter": "python",
   "pygments_lexer": "ipython3",
   "version": "3.11.4"
  }
 },
 "nbformat": 4,
 "nbformat_minor": 5
}
