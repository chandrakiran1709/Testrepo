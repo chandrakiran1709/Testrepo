{
 "cells": [
  {
   "cell_type": "markdown",
   "id": "1a51d2f4",
   "metadata": {},
   "source": [
    "# 1. Create a 3*3*3  array with random values"
   ]
  },
  {
   "cell_type": "code",
   "execution_count": 4,
   "id": "d2409fa5",
   "metadata": {},
   "outputs": [
    {
     "name": "stdout",
     "output_type": "stream",
     "text": [
      "[[[0.87676025 0.10620397 0.29288434]\n",
      "  [0.00444318 0.19729968 0.43851939]\n",
      "  [0.87852918 0.83087851 0.16319893]]\n",
      "\n",
      " [[0.15750292 0.29884352 0.0541759 ]\n",
      "  [0.61553692 0.93719235 0.44509564]\n",
      "  [0.45350142 0.42602872 0.69177423]]\n",
      "\n",
      " [[0.38424428 0.51620404 0.77435427]\n",
      "  [0.60919457 0.08498312 0.09665517]\n",
      "  [0.68211527 0.09139541 0.67426986]]]\n"
     ]
    }
   ],
   "source": [
    "import numpy as np\n",
    "random_array = np.random.rand(3, 3, 3)\n",
    "\n",
    "print(random_array)"
   ]
  },
  {
   "cell_type": "markdown",
   "id": "2564900d",
   "metadata": {},
   "source": [
    "# 2. Create a 5*5 matrix values with 1,2,3,4 just below the diagonal "
   ]
  },
  {
   "cell_type": "code",
   "execution_count": 6,
   "id": "70d8c24e",
   "metadata": {},
   "outputs": [
    {
     "name": "stdout",
     "output_type": "stream",
     "text": [
      "[[0 0 0 0 0]\n",
      " [1 0 0 0 0]\n",
      " [0 2 0 0 0]\n",
      " [0 0 3 0 0]\n",
      " [0 0 0 4 0]]\n"
     ]
    }
   ],
   "source": [
    "import numpy as np\n",
    "\n",
    "matrix = np.zeros((5, 5), dtype=int)\n",
    "\n",
    "\n",
    "for i in range(1, 5):\n",
    "    matrix[i, i - 1] = i\n",
    "\n",
    "print(matrix)\n"
   ]
  },
  {
   "cell_type": "markdown",
   "id": "c9469a3c",
   "metadata": {},
   "source": [
    "# 3. Create a 8*8 matrix and fill it with a checkboard pattern "
   ]
  },
  {
   "cell_type": "code",
   "execution_count": 7,
   "id": "1e1c9713",
   "metadata": {},
   "outputs": [
    {
     "name": "stdout",
     "output_type": "stream",
     "text": [
      "[[0 1 0 1 0 1 0 1]\n",
      " [1 0 1 0 1 0 1 0]\n",
      " [0 1 0 1 0 1 0 1]\n",
      " [1 0 1 0 1 0 1 0]\n",
      " [0 1 0 1 0 1 0 1]\n",
      " [1 0 1 0 1 0 1 0]\n",
      " [0 1 0 1 0 1 0 1]\n",
      " [1 0 1 0 1 0 1 0]]\n"
     ]
    }
   ],
   "source": [
    "import numpy as np\n",
    "\n",
    "matrix = np.zeros((8, 8), dtype=int)\n",
    "\n",
    "matrix[1::2, ::2] = 1 \n",
    "matrix[::2, 1::2] = 1 \n",
    "\n",
    "print(matrix)\n"
   ]
  },
  {
   "cell_type": "markdown",
   "id": "8a24af8e",
   "metadata": {},
   "source": [
    "# 4. Normalize a 5*5 random matrix"
   ]
  },
  {
   "cell_type": "code",
   "execution_count": 9,
   "id": "7635d7f8",
   "metadata": {},
   "outputs": [
    {
     "name": "stdout",
     "output_type": "stream",
     "text": [
      "Original Array:\n",
      "[[0.38244764 0.02045042 0.85535498 0.48555996 0.83577477]\n",
      " [0.94945168 0.73723325 0.00186658 0.09530621 0.55974828]\n",
      " [0.64957764 0.67837192 0.93654366 0.1453245  0.87833007]\n",
      " [0.76601846 0.9760151  0.2764114  0.14055151 0.04436542]\n",
      " [0.32763655 0.63556271 0.52952403 0.1911201  0.34805661]]\n",
      "After normalization:\n",
      "[[0.39068074 0.01907701 0.87613786 0.4965294  0.85603805]\n",
      " [0.97273166 0.75488148 0.         0.09591928 0.57268649]\n",
      " [0.6648997  0.69445812 0.95948109 0.14726493 0.89972265]\n",
      " [0.78443057 1.         0.28183056 0.14236528 0.04362665]\n",
      " [0.33441509 0.65051285 0.54166017 0.19427584 0.35537706]]\n"
     ]
    }
   ],
   "source": [
    "import numpy as np\n",
    "x= np.random.random((5,5))\n",
    "print(\"Original Array:\")\n",
    "print(x)\n",
    "xmax, xmin = x.max(), x.min()\n",
    "x = (x - xmin)/(xmax - xmin)\n",
    "print(\"After normalization:\")\n",
    "print(x)\n"
   ]
  },
  {
   "cell_type": "markdown",
   "id": "f2949e2f",
   "metadata": {},
   "source": [
    "# 5. How to find common values between two arrays"
   ]
  },
  {
   "cell_type": "code",
   "execution_count": 10,
   "id": "a84cb39f",
   "metadata": {},
   "outputs": [
    {
     "name": "stdout",
     "output_type": "stream",
     "text": [
      "Common values: [3 4 5]\n"
     ]
    }
   ],
   "source": [
    "import numpy as np\n",
    "\n",
    "array1 = np.array([1, 2, 3, 4, 5])\n",
    "array2 = np.array([3, 4, 5, 6, 7])\n",
    "\n",
    "common_values = np.intersect1d(array1, array2)\n",
    "\n",
    "print(\"Common values:\", common_values)\n"
   ]
  },
  {
   "cell_type": "markdown",
   "id": "7333f052",
   "metadata": {},
   "source": [
    "# 6. How to get dates of yesterday, today and tomorrow?"
   ]
  },
  {
   "cell_type": "code",
   "execution_count": 11,
   "id": "86e0f248",
   "metadata": {},
   "outputs": [
    {
     "name": "stdout",
     "output_type": "stream",
     "text": [
      "Yesterday:  2023-09-21\n",
      "Today:  2023-09-22\n",
      "Tomorrow:  2023-09-23\n"
     ]
    }
   ],
   "source": [
    "import numpy as np\n",
    "yesterday = np.datetime64('today', 'D') - np.timedelta64(1, 'D')\n",
    "print(\"Yesterday: \",yesterday)\n",
    "today = np.datetime64('today', 'D')\n",
    "print(\"Today: \",today)\n",
    "tomorrow = np.datetime64('today', 'D') + np.timedelta64(1, 'D')\n",
    "print(\"Tomorrow: \",tomorrow)\n"
   ]
  },
  {
   "cell_type": "markdown",
   "id": "e39d5461",
   "metadata": {},
   "source": [
    "# 7. Consider two random array A and B, Check if they are equal."
   ]
  },
  {
   "cell_type": "code",
   "execution_count": 14,
   "id": "fb578bcf",
   "metadata": {},
   "outputs": [
    {
     "name": "stdout",
     "output_type": "stream",
     "text": [
      "First array:\n",
      "[0 0 1 1 1 1]\n",
      "Second array:\n",
      "[1 1 0 1 1 0]\n",
      "Arrays Are Not Equal\n"
     ]
    }
   ],
   "source": [
    "import numpy as np\n",
    "x = np.random.randint(0,2,6)\n",
    "print(\"First array:\")\n",
    "print(x)\n",
    "y = np.random.randint(0,2,6)\n",
    "print(\"Second array:\")\n",
    "print(y)\n",
    "array_equal = np.array_equal(x, y)\n",
    "if array_equal:\n",
    "    print(\"Both Arrays Are Equal\")\n",
    "else :\n",
    "    print(\"Arrays Are Not Equal\")\n"
   ]
  },
  {
   "cell_type": "markdown",
   "id": "d4c8d448",
   "metadata": {},
   "source": [
    "# 8. Create a random vector of size 10 and replace the maximum value by 0"
   ]
  },
  {
   "cell_type": "code",
   "execution_count": 20,
   "id": "1002e126",
   "metadata": {},
   "outputs": [
    {
     "name": "stdout",
     "output_type": "stream",
     "text": [
      "Original array:\n",
      "[0.50662959 0.39693047 0.62610877 0.55170796 0.63569841 0.51614731\n",
      " 0.1132556  0.71776648 0.95790205 0.30884434]\n",
      "Maximum value replaced by 0:\n",
      "[0.50662959 0.39693047 0.62610877 0.55170796 0.63569841 0.51614731\n",
      " 0.1132556  0.71776648 0.         0.30884434]\n"
     ]
    }
   ],
   "source": [
    "import numpy as np\n",
    "x = np.random.rand(10)\n",
    "print(\"Original array:\")\n",
    "print(x)\n",
    "x[x.argmax()] = 0\n",
    "print(\"Maximum value replaced by 0:\")\n",
    "print(x)\n"
   ]
  },
  {
   "cell_type": "markdown",
   "id": "58dad9c2",
   "metadata": {},
   "source": [
    "# 9. How to Print all the values of an array?"
   ]
  },
  {
   "cell_type": "code",
   "execution_count": 22,
   "id": "e67a3f63",
   "metadata": {},
   "outputs": [
    {
     "name": "stdout",
     "output_type": "stream",
     "text": [
      "[[0.84195136 0.18731184 0.22390735 0.71036297 0.57758085]\n",
      " [0.32005523 0.47938445 0.64490368 0.88836213 0.13819992]]\n"
     ]
    }
   ],
   "source": [
    "import numpy as np\n",
    "\n",
    "x=np.random.rand(2,5)\n",
    "print(x)"
   ]
  },
  {
   "cell_type": "markdown",
   "id": "fe875a88",
   "metadata": {},
   "source": [
    "# 10. Subtract the mean of each row of a matrix"
   ]
  },
  {
   "cell_type": "code",
   "execution_count": 23,
   "id": "8aacbe5c",
   "metadata": {},
   "outputs": [
    {
     "name": "stdout",
     "output_type": "stream",
     "text": [
      "Original matrix:\n",
      "\n",
      "[[0.21294633 0.362104   0.67188081 0.1280547  0.33636405 0.71596344\n",
      "  0.85444421 0.57514527 0.50497788 0.17198984]\n",
      " [0.34460902 0.91285468 0.95591681 0.18548407 0.29628246 0.87739475\n",
      "  0.13702285 0.42463317 0.84125794 0.7412168 ]\n",
      " [0.27814515 0.16429696 0.46824762 0.67278289 0.10516856 0.9833093\n",
      "  0.19151026 0.45724269 0.94940595 0.58243842]\n",
      " [0.15595109 0.42948183 0.23340188 0.28782804 0.85247004 0.26404649\n",
      "  0.35432784 0.59328727 0.91489638 0.63970527]\n",
      " [0.75873167 0.91674726 0.8299936  0.05545542 0.48645038 0.35836087\n",
      "  0.70149141 0.99747405 0.6858717  0.50945274]]\n",
      "\n",
      "Subtract the mean of each row of the  matrix:\n",
      "\n",
      "[[-0.24044072 -0.09128305  0.21849376 -0.32533235 -0.117023    0.26257638\n",
      "   0.40105715  0.12175822  0.05159082 -0.28139721]\n",
      " [-0.22705824  0.34118743  0.38424956 -0.38618319 -0.27538479  0.3057275\n",
      "  -0.4346444  -0.14703409  0.26959069  0.16954954]\n",
      " [-0.20710963 -0.32095782 -0.01700716  0.18752811 -0.38008622  0.49805452\n",
      "  -0.29374452 -0.02801209  0.46415117  0.09718364]\n",
      " [-0.31658852 -0.04305778 -0.23913774 -0.18471157  0.37993043 -0.20849312\n",
      "  -0.11821177  0.12074766  0.44235676  0.16716566]\n",
      " [ 0.12872876  0.28674435  0.19999069 -0.57454749 -0.14355253 -0.27164204\n",
      "   0.0714885   0.36747114  0.05586879 -0.12055017]]\n"
     ]
    }
   ],
   "source": [
    "import numpy as np\n",
    "print(\"Original matrix:\\n\")\n",
    "X = np.random.rand(5, 10)\n",
    "print(X)\n",
    "print(\"\\nSubtract the mean of each row of the  matrix:\\n\")\n",
    "Y = X - X.mean(axis=1, keepdims=True)\n",
    "print(Y)\n"
   ]
  },
  {
   "cell_type": "markdown",
   "id": "f40695dd",
   "metadata": {},
   "source": [
    "# 11. Consider a given vector, how to add 1 to each element indexed by a second vector (be careful with repeated indices)"
   ]
  },
  {
   "cell_type": "code",
   "execution_count": 25,
   "id": "affebeef",
   "metadata": {},
   "outputs": [
    {
     "name": "stdout",
     "output_type": "stream",
     "text": [
      "[1. 1. 1. 1. 1. 1. 1. 1. 1. 1.]\n",
      "[4. 2. 2. 6. 3. 2. 2. 2. 3. 4.]\n"
     ]
    }
   ],
   "source": [
    "Z = np.ones(10)\n",
    "print(Z)\n",
    "I = np.random.randint(0,len(Z),20)\n",
    "Z += np.bincount(I, minlength=len(Z))\n",
    "print(Z)"
   ]
  },
  {
   "cell_type": "markdown",
   "id": "53aa60cd",
   "metadata": {},
   "source": [
    "# 12. How to get the diagonal of a Dot Product ?"
   ]
  },
  {
   "cell_type": "code",
   "execution_count": 26,
   "id": "3d8bddde",
   "metadata": {},
   "outputs": [
    {
     "name": "stdout",
     "output_type": "stream",
     "text": [
      "Dot Product:\n",
      "[[ 30  24  18]\n",
      " [ 84  69  54]\n",
      " [138 114  90]]\n",
      "\n",
      "Diagonal of Dot Product:\n",
      "[30 69 90]\n"
     ]
    }
   ],
   "source": [
    "import numpy as np\n",
    "\n",
    "matrix1 = np.array([[1, 2, 3],\n",
    "                    [4, 5, 6],\n",
    "                    [7, 8, 9]])\n",
    "\n",
    "matrix2 = np.array([[9, 8, 7],\n",
    "                    [6, 5, 4],\n",
    "                    [3, 2, 1]])\n",
    "\n",
    "dot_product = np.dot(matrix1, matrix2)\n",
    "\n",
    "diagonal = np.diag(dot_product)\n",
    "\n",
    "print(\"Dot Product:\")\n",
    "print(dot_product)\n",
    "print(\"\\nDiagonal of Dot Product:\")\n",
    "print(diagonal)\n"
   ]
  },
  {
   "cell_type": "markdown",
   "id": "8a60b56f",
   "metadata": {},
   "source": [
    "# 13. How to find most frequent value in an array?"
   ]
  },
  {
   "cell_type": "code",
   "execution_count": 32,
   "id": "005329c9",
   "metadata": {},
   "outputs": [
    {
     "name": "stdout",
     "output_type": "stream",
     "text": [
      "[9 8 1 3 4 4 7 9 7 9 2 5 7 5 3 0 3 0 6 5 0 2 6 7 4 3 2 8 5 7 8 7 6 6 1 9 0\n",
      " 7 6 5 5 6 2 2 2 5 0 1 8 0]\n",
      "Most frequent value in the array:\n",
      "5\n"
     ]
    }
   ],
   "source": [
    "import numpy as np\n",
    "x=np.random.randint(0,10,50)\n",
    "print(x)\n",
    "print(\"Most frequent value in the array:\")\n",
    "print(np.bincount(x).argmax())"
   ]
  },
  {
   "cell_type": "markdown",
   "id": "0ba29267",
   "metadata": {},
   "source": [
    "# 14. How to get the n largest values of an array?"
   ]
  },
  {
   "cell_type": "code",
   "execution_count": 36,
   "id": "f6147999",
   "metadata": {},
   "outputs": [
    {
     "name": "stdout",
     "output_type": "stream",
     "text": [
      "Original array:\n",
      "[36 29 38 12  7 18 39 13]\n",
      "enter N value : 2\n",
      "The 2 largest values in the array are = \n",
      "[38 39]\n"
     ]
    }
   ],
   "source": [
    "import numpy as np\n",
    "x = np.random.randint(1,40,8)\n",
    "print(\"Original array:\")\n",
    "print(x)\n",
    "np.random.shuffle(x)\n",
    "n =int(input(\"enter N value : \"))\n",
    "print(\"The\", n, \"largest values in the array are = \")\n",
    "print (x[np.argsort(x)[-n:]])\n"
   ]
  },
  {
   "cell_type": "markdown",
   "id": "994ac0f8",
   "metadata": {},
   "source": [
    "# 15. How to create a record array from a regular array? "
   ]
  },
  {
   "cell_type": "code",
   "execution_count": 37,
   "id": "06b5212f",
   "metadata": {},
   "outputs": [
    {
     "name": "stdout",
     "output_type": "stream",
     "text": [
      "Original arrays:\n",
      "[['Ganesh' '88.5' '90']\n",
      " ['Lokesh' '87' '99']\n",
      " ['yashwanth' '85.5' '91']]\n",
      "\n",
      "Record array;\n",
      "[(b'Ganesh', 88.5, 90) (b'Lokesh', 87. , 99) (b'yashwanth', 85.5, 91)]\n"
     ]
    }
   ],
   "source": [
    "import numpy as np\n",
    "arra1 = np.array([(\"Ganesh\", 88.5, 90),\n",
    "                 (\"Lokesh\", 87, 99),\n",
    "             (\"yashwanth\", 85.5, 91)])\n",
    "print(\"Original arrays:\")\n",
    "print(arra1)\n",
    "print(\"\\nRecord array;\")\n",
    "result = np.core.records.fromarrays(arra1.T,\n",
    "                              names='col1, col2, col3',\n",
    "                              formats = 'S80, f8, i8')\n",
    "print(result)\n"
   ]
  },
  {
   "cell_type": "markdown",
   "id": "e4c4a1e4",
   "metadata": {},
   "source": [
    "# 16. How to swap two rows of an array?"
   ]
  },
  {
   "cell_type": "code",
   "execution_count": 50,
   "id": "7e9003c4",
   "metadata": {},
   "outputs": [
    {
     "name": "stdout",
     "output_type": "stream",
     "text": [
      "before swapping : \n",
      "[[1 5 4]\n",
      " [3 8 9]\n",
      " [8 2 3]\n",
      " [4 7 6]]\n",
      "\n",
      "swapping 1st and 3rd row : \n",
      "[[1 5 4]\n",
      " [4 7 6]\n",
      " [8 2 3]\n",
      " [3 8 9]]\n"
     ]
    }
   ],
   "source": [
    "import numpy as np\n",
    "sample=np.array([[1,5,4],[3,8,9],[8,2,3],[4,7,6]])\n",
    "print(\"before swapping : \")\n",
    "print(sample)\n",
    "print()\n",
    "print(\"swapping 1st and 3rd row : \")\n",
    "sample[[1,3]]=sample[[3,1]]\n",
    "print(sample)"
   ]
  },
  {
   "cell_type": "markdown",
   "id": "5dcc16d1",
   "metadata": {},
   "source": [
    "# 17.  Write a Python code to reshape to the next dimension of numpy array?"
   ]
  },
  {
   "cell_type": "code",
   "execution_count": 51,
   "id": "a5485812",
   "metadata": {},
   "outputs": [
    {
     "data": {
      "text/plain": [
       "array([[ 23,  34, 121],\n",
       "       [ 23,  22,  67],\n",
       "       [686, 434, 123]])"
      ]
     },
     "execution_count": 51,
     "metadata": {},
     "output_type": "execute_result"
    }
   ],
   "source": [
    "import numpy as np \n",
    "x=np.array([[23,34,121],[23,22,67],[686,434,123]])\n",
    "x"
   ]
  },
  {
   "cell_type": "code",
   "execution_count": 54,
   "id": "1c741cee",
   "metadata": {},
   "outputs": [
    {
     "data": {
      "text/plain": [
       "array([[ 23],\n",
       "       [ 34],\n",
       "       [121],\n",
       "       [ 23],\n",
       "       [ 22],\n",
       "       [ 67],\n",
       "       [686],\n",
       "       [434],\n",
       "       [123]])"
      ]
     },
     "execution_count": 54,
     "metadata": {},
     "output_type": "execute_result"
    }
   ],
   "source": [
    "y=x.reshape(9,1)\n",
    "y"
   ]
  },
  {
   "cell_type": "code",
   "execution_count": 56,
   "id": "bd3b7ee6",
   "metadata": {},
   "outputs": [
    {
     "data": {
      "text/plain": [
       "array([[ 23,  34, 121,  23,  22,  67, 686, 434, 123]])"
      ]
     },
     "execution_count": 56,
     "metadata": {},
     "output_type": "execute_result"
    }
   ],
   "source": [
    "z=x.reshape(1,9)\n",
    "z"
   ]
  },
  {
   "cell_type": "code",
   "execution_count": null,
   "id": "d01945c5",
   "metadata": {},
   "outputs": [],
   "source": []
  }
 ],
 "metadata": {
  "kernelspec": {
   "display_name": "Python 3 (ipykernel)",
   "language": "python",
   "name": "python3"
  },
  "language_info": {
   "codemirror_mode": {
    "name": "ipython",
    "version": 3
   },
   "file_extension": ".py",
   "mimetype": "text/x-python",
   "name": "python",
   "nbconvert_exporter": "python",
   "pygments_lexer": "ipython3",
   "version": "3.11.4"
  }
 },
 "nbformat": 4,
 "nbformat_minor": 5
}
