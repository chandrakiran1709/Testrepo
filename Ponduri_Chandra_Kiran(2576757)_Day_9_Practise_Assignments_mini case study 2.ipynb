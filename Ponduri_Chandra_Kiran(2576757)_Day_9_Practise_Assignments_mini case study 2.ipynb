{
 "cells": [
  {
   "cell_type": "code",
   "execution_count": 4,
   "id": "adaed62a",
   "metadata": {},
   "outputs": [],
   "source": [
    "import numpy as np"
   ]
  },
  {
   "cell_type": "code",
   "execution_count": 5,
   "id": "be3a1b4a",
   "metadata": {},
   "outputs": [],
   "source": [
    "np_olympic_country=np.array(['GBR','chine','RUS','US','KOR','JPN','GER'])\n",
    "np_olympic_country_gold=np.array([29,38,24,46,13,7,11])\n",
    "np_olympic_country_silver=np.array([17,28,25,28,8,14,11])\n",
    "np_olympic_country_bronze=np.array([19,22,32,29,7,17,14])"
   ]
  },
  {
   "cell_type": "markdown",
   "id": "3a7bd38d",
   "metadata": {},
   "source": [
    "# 1. find the country index with maximum gold."
   ]
  },
  {
   "cell_type": "code",
   "execution_count": 7,
   "id": "ac4efde0",
   "metadata": {},
   "outputs": [
    {
     "name": "stdout",
     "output_type": "stream",
     "text": [
      "3\n"
     ]
    }
   ],
   "source": [
    "max_gold_index = np.argmax(np_olympic_country_gold)\n",
    "print(max_gold_index)"
   ]
  },
  {
   "cell_type": "markdown",
   "id": "e37467b5",
   "metadata": {},
   "source": [
    "# 2. Print country with maximum gold."
   ]
  },
  {
   "cell_type": "code",
   "execution_count": 8,
   "id": "b399529f",
   "metadata": {},
   "outputs": [
    {
     "name": "stdout",
     "output_type": "stream",
     "text": [
      "Country with maximum gold: US\n"
     ]
    }
   ],
   "source": [
    "country_with_max_gold = np_olympic_country[max_gold_index]\n",
    "print(\"Country with maximum gold:\", country_with_max_gold)"
   ]
  },
  {
   "cell_type": "markdown",
   "id": "e2c54505",
   "metadata": {},
   "source": [
    "# 3. Find countries with more than 20 gold medals."
   ]
  },
  {
   "cell_type": "code",
   "execution_count": 9,
   "id": "f67314be",
   "metadata": {},
   "outputs": [
    {
     "name": "stdout",
     "output_type": "stream",
     "text": [
      "Countries with more than 20 gold medals: ['GBR' 'chine' 'RUS' 'US']\n"
     ]
    }
   ],
   "source": [
    "countries_with_more_than_20_gold = np_olympic_country[np_olympic_country_gold > 20]\n",
    "print(\"Countries with more than 20 gold medals:\", countries_with_more_than_20_gold)"
   ]
  },
  {
   "cell_type": "markdown",
   "id": "190463ba",
   "metadata": {},
   "source": [
    "# 4. Evaluate dataset and print the medal."
   ]
  },
  {
   "cell_type": "code",
   "execution_count": 10,
   "id": "d9734f32",
   "metadata": {},
   "outputs": [
    {
     "name": "stdout",
     "output_type": "stream",
     "text": [
      "Total Medals for Each Country:\n",
      "GBR - Gold: 29, Silver: 17, Bronze: 19, Total: 65\n",
      "chine - Gold: 38, Silver: 28, Bronze: 22, Total: 88\n",
      "RUS - Gold: 24, Silver: 25, Bronze: 32, Total: 81\n",
      "US - Gold: 46, Silver: 28, Bronze: 29, Total: 103\n",
      "KOR - Gold: 13, Silver: 8, Bronze: 7, Total: 28\n",
      "JPN - Gold: 7, Silver: 14, Bronze: 17, Total: 38\n",
      "GER - Gold: 11, Silver: 11, Bronze: 14, Total: 36\n"
     ]
    }
   ],
   "source": [
    "total_medals = np_olympic_country_gold + np_olympic_country_silver + np_olympic_country_bronze\n",
    "print(\"Total Medals for Each Country:\")\n",
    "for i in range(len(np_olympic_country)):\n",
    "    print(f\"{np_olympic_country[i]} - Gold: {np_olympic_country_gold[i]}, Silver: {np_olympic_country_silver[i]}, Bronze: {np_olympic_country_bronze[i]}, Total: {total_medals[i]}\")\n"
   ]
  },
  {
   "cell_type": "code",
   "execution_count": null,
   "id": "e27585a4",
   "metadata": {},
   "outputs": [],
   "source": []
  }
 ],
 "metadata": {
  "kernelspec": {
   "display_name": "Python 3 (ipykernel)",
   "language": "python",
   "name": "python3"
  },
  "language_info": {
   "codemirror_mode": {
    "name": "ipython",
    "version": 3
   },
   "file_extension": ".py",
   "mimetype": "text/x-python",
   "name": "python",
   "nbconvert_exporter": "python",
   "pygments_lexer": "ipython3",
   "version": "3.11.4"
  }
 },
 "nbformat": 4,
 "nbformat_minor": 5
}
