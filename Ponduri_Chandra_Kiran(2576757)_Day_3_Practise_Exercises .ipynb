{
 "cells": [
  {
   "cell_type": "markdown",
   "id": "3b73d86a",
   "metadata": {},
   "source": [
    "# 1.Write a python function that copies a file reading and writing up to 50 characters at a time"
   ]
  },
  {
   "cell_type": "code",
   "execution_count": 33,
   "id": "9f5e6abe",
   "metadata": {},
   "outputs": [
    {
     "name": "stdout",
     "output_type": "stream",
     "text": [
      "the content in file 1 is \n",
      "Lorem Ipsum is 181 simply dummy text of the printing 89 and typesetting industry. Lorem Ipsum has been the industry's standard dummy text ever since the 1500 s, when an unknown printer took a galley of type and scrambled it to 57 make a type specimen book. It has survived not only five centuries, but also the leap into electronic typesetting 54, remaining essentially unchanged. It was popularised in the 1960s with the release of Letraset sheets containing Lorem Ipsum passages, and more recently with desktop publishing software like Aldus PageMaker including versions of Lorem Ipsum 1417.\n",
      "\n",
      "the content in file 2 copying 50 characters from file 1 is\n",
      "Lorem Ipsum is 181 simply dummy text of the printi\n"
     ]
    }
   ],
   "source": [
    "file1=open(\"sample.txt\",\"r\")\n",
    "file2=open(\"char50file.txt\",\"w\")\n",
    "char_50=file1.read(50)\n",
    "file2.write(char_50)\n",
    "file1.close()\n",
    "file2.close()\n",
    "\n",
    "print(\"the content in file 1 is \")\n",
    "with open(\"sample.txt\",\"r\") as f1:\n",
    "    print(f1.read())\n",
    "print()\n",
    "print(\"the content in file 2 copying 50 characters from file 1 is\")\n",
    "with open(\"char50file.txt\",\"r\") as f2:\n",
    "    print(f2.read())"
   ]
  },
  {
   "cell_type": "markdown",
   "id": "9175a53c",
   "metadata": {},
   "source": [
    "# 2. Print all numbers present in the text file and print number of blank spaces in that file "
   ]
  },
  {
   "cell_type": "code",
   "execution_count": 27,
   "id": "baf4de95",
   "metadata": {},
   "outputs": [
    {
     "name": "stdout",
     "output_type": "stream",
     "text": [
      "all numbers present in file = \n",
      "1 8 1 8 9 1 5 0 0 5 7 5 4 1 9 6 0 1 4 1 7 \n",
      "Number of blank spaces in file =  96\n"
     ]
    }
   ],
   "source": [
    "def numbers_and_blank_spaces(f):\n",
    "    spaces_count=0\n",
    "    with open(f,\"r\") as file:\n",
    "        print(\"all numbers present in file = \")\n",
    "        for j in file:\n",
    "            for i in  j:\n",
    "                if i.isdigit():\n",
    "                    print(i,end=\" \")\n",
    "                if i.isspace():\n",
    "                    spaces_count=spaces_count+1\n",
    "    print()\n",
    "    print(\"Number of blank spaces in file = \",spaces_count)\n",
    "    \n",
    "numbers_and_blank_spaces(\"sample.txt\")\n",
    "            "
   ]
  },
  {
   "cell_type": "markdown",
   "id": "c5420dfb",
   "metadata": {},
   "source": [
    "# 3. write a function called sed that takes as an arguments a pattern string, a replacement string and two file names; it should read the first file and write the contents into second file (creating it if necessary). If the pattern string appears anywhere in the file, it should be replaced with replacement string. If an error occurs while opening, reading, writing or closing files, your program should catch exception, print an error message and exit."
   ]
  },
  {
   "cell_type": "code",
   "execution_count": 62,
   "id": "e046ccbb",
   "metadata": {},
   "outputs": [
    {
     "name": "stdout",
     "output_type": "stream",
     "text": [
      "Successfully replaced  Python with Java\n",
      "\n",
      "the file 1 content : \n",
      "Python is a high-level, general-purpose programming language. Python is dynamically typed and garbage-collected. It supports multiple programming paradigms, including structured (particularly procedural), object-oriented and functional programming.Guido van Rossum began working on Python in the late 1980s as a successor to the ABC programming language and first released it in 1991 as Python 0.9.0\n",
      "\n",
      "the file 2 content after replacing python with java : \n",
      "Java is a high-level, general-purpose programming language. Java is dynamically typed and garbage-collected. It supports multiple programming paradigms, including structured (particularly procedural), object-oriented and functional programming.Guido van Rossum began working on Java in the late 1980s as a successor to the ABC programming language and first released it in 1991 as Java 0.9.0\n"
     ]
    }
   ],
   "source": [
    "def sed(pat_string, replace_string, in_file, out_file):\n",
    "    try:\n",
    "        \n",
    "        f1 = open(in_file, \"r\")\n",
    "        f2 = open(out_file, \"w\")\n",
    "        for line in f1:\n",
    "            f2.write(line.replace(pat_string, replace_string))\n",
    "        f1.close()\n",
    "        f2.close()\n",
    "       \n",
    "\n",
    "\n",
    "    except FileNotFoundError as e:\n",
    "        print(f\"Error: {e}\")\n",
    "        exit(1)\n",
    "        \n",
    "    finally:\n",
    "        print(\"Successfully replaced \",pat_string,\"with\",replace_string)\n",
    "        print()\n",
    "\n",
    "sed(\"Python\", \"Java\", \"python.txt\", \"java.txt\")\n",
    "\n",
    "with open(\"python.txt\",\"r\") as s1:\n",
    "    print(\"the file 1 content : \")\n",
    "    print(s1.read())\n",
    "    print()\n",
    "with open(\"java.txt\",\"r\") as s2:\n",
    "    print(\"the file 2 content after replacing python with java : \")\n",
    "    print(s2.read())\n",
    "    "
   ]
  },
  {
   "cell_type": "markdown",
   "id": "2d328f45",
   "metadata": {},
   "source": [
    "# 4.Log File Analysis: you have a log file containing records of user activities on a website. Each line in the file represents a log entry"
   ]
  },
  {
   "cell_type": "code",
   "execution_count": 11,
   "id": "b9e22c8b",
   "metadata": {},
   "outputs": [],
   "source": [
    "def parse_log_file(f):\n",
    "    log_entries_by_date={}\n",
    "    with open(f,\"r\") as log_file:\n",
    "        for line in log_file:\n",
    "            parts=line.strip().split(' ',1)\n",
    "            if len(parts)==2:\n",
    "                time_stamp,message=parts\n",
    "                date=time_stamp[:10]\n",
    "                if date in log_entries_by_date:\n",
    "                    log_entries_by_date[date].append(message)\n",
    "                else:\n",
    "                    log_entries_by_date[date]=[message]\n",
    "    return log_entries_by_date\n",
    "\n",
    "def analyze_log_data(log_entries_by_date):\n",
    "    for date,entries in log_entries_by_date.items():\n",
    "        print(f\"Date : {date}\")\n",
    "        print(f\"Total Entries : {len(entries)}\")\n",
    "        print(f\"Sample Entries : \")\n",
    "        for i,entry in enumerate(entries[:5],start=1):\n",
    "            print(f\"{i}. {entry}\")\n",
    "        print(\"-------------\")\n",
    "        \n",
    "        \n"
   ]
  },
  {
   "cell_type": "code",
   "execution_count": 12,
   "id": "41376274",
   "metadata": {},
   "outputs": [
    {
     "name": "stdout",
     "output_type": "stream",
     "text": [
      "Date : [2023-09-0\n",
      "Total Entries : 1613\n",
      "Sample Entries : \n",
      "1. 21:51:29] Executing bootstrap tasks\n",
      "2. 21:51:29] OpenJDK Runtime Environment 17.0.7+7\n",
      "3. 21:51:29] Product org.eclipse.products.epp.package.java.2023-06\n",
      "4. 21:51:29] Bundle org.eclipse.oomph.setup 1.26.0.v20230416-0656, build=5945, branch=c5558820f367665758d4d719b7553a02ff4954e0\n",
      "5. 21:51:29] Bundle org.eclipse.oomph.setup.core 1.27.0.v20230402-0730, build=5945, branch=c5558820f367665758d4d719b7553a02ff4954e0\n",
      "-------------\n"
     ]
    }
   ],
   "source": [
    "log_file_path=\"log_file.txt\"\n",
    "log_entries_by_date=parse_log_file(log_file_path)\n",
    "analyze_log_data(log_entries_by_date)"
   ]
  },
  {
   "cell_type": "markdown",
   "id": "301284fb",
   "metadata": {},
   "source": [
    "# 5. Text File Search and Replace : You have a text file with large amount of text, and you want to search for specific words or phrases and replace them with  new content\n",
    "## a.Write a python code to search for and replace text within text file\n",
    "## b.How would you handle cases where you need to perform multiple replacements in a single pass?"
   ]
  },
  {
   "cell_type": "code",
   "execution_count": 24,
   "id": "a2a567aa",
   "metadata": {},
   "outputs": [
    {
     "name": "stdout",
     "output_type": "stream",
     "text": [
      "enter the string to search and replace : Pyton\n",
      "enter the string to replace with : Python\n",
      "before replacement :\n",
      "Pyton is a high-level, general-purpose programming language. Pyton is dynamically typed and garbage-collected. It supports multiple programming paradigms, including structured (particularly procedural), object-oriented and functional programming.Guido van Rossum began working on Pyton in the late 1980s as a successor to the ABC programming language and first released it in 1991 as Pyton 0.9.0Pyton is a high-level, general-purpose programming language. Pyton is dynamically typed and garbage-collected. It supports multiple programming paradigms, including structured (particularly procedural), object-oriented and functional programming.Guido van Rossum began working on Pyton in the late 1980s as a successor to the ABC programming language and first released it in 1991 as Pyton 0.9.0\n",
      "\n",
      "after replacement :\n",
      "Python is a high-level, general-purpose programming language. Python is dynamically typed and garbage-collected. It supports multiple programming paradigms, including structured (particularly procedural), object-oriented and functional programming.Guido van Rossum began working on Python in the late 1980s as a successor to the ABC programming language and first released it in 1991 as Python 0.9.0Python is a high-level, general-purpose programming language. Python is dynamically typed and garbage-collected. It supports multiple programming paradigms, including structured (particularly procedural), object-oriented and functional programming.Guido van Rossum began working on Python in the late 1980s as a successor to the ABC programming language and first released it in 1991 as Python 0.9.0\n"
     ]
    }
   ],
   "source": [
    "#a.Write a python code to search for and replace text within text file\n",
    "def search_and_replace(s,r,f):\n",
    "    try:\n",
    "        \n",
    "        with open(f,\"r\") as f1:\n",
    "            content=f1.read()\n",
    "            rep_content=content.replace(s,r)\n",
    "            \n",
    "        with open(f,\"w\") as f2:\n",
    "            f2.write(rep_content)\n",
    "        \n",
    "       \n",
    "    except FileNotFoundError as e:\n",
    "        print(f\"Error: {e}\")\n",
    "        exit(1)\n",
    "sear=input(\"enter the string to search and replace : \") \n",
    "rep=input(\"enter the string to replace with : \")\n",
    "with open(\"python.txt\",\"r\") as s1:\n",
    "    print(\"before replacement :\")\n",
    "    print(s1.read())\n",
    "    print()\n",
    "search_and_replace(sear,rep,\"python.txt\")\n",
    "with open(\"python.txt\",\"r\") as s1:\n",
    "    print(\"after replacement :\")\n",
    "    print(s1.read())"
   ]
  },
  {
   "cell_type": "code",
   "execution_count": 6,
   "id": "3cb4ba3e",
   "metadata": {},
   "outputs": [
    {
     "name": "stdout",
     "output_type": "stream",
     "text": [
      "the content in sample.txt :\n",
      "Lorem Ipsum is 181 simply dummy text of the printing 89 and typesetting industry. Lorem Ipsum has been the industry's standard dummy text ever since the 1500 s, when an unknown printer took a galley of type and scrambled it to 57 make a type specimen book. It has survived not only five centuries, but also the leap into electronic typesetting 54, remaining essentially unchanged. It was popularised in the 1960s with the release of Letraset sheets containing Lorem Ipsum passages, and more recently with desktop publishing software like Aldus PageMaker including versions of Lorem Ipsum 1417.\n",
      "\n",
      "the replaced content in sample2.txt from sample.txt\n",
      "Morel Ipsum is 181 simply dummy text of the printing 89 & typesetting industry. Morel Ipsum has been the industry's st&ard dummy text ever since the 1500 s, when an unknown printer took a galley of type & scrambled it to 57 make a type specimen book. It has survived not only five centuries, but also the leap into electronic typesetting 54, remaining essentially unchanged. It was popularised in the 1960s with the release of Letraset sheets containing Morel Ipsum passages, & more recently with desktop publishing software like Aldus PageMaker including versions of Morel Ipsum 1417.\n"
     ]
    }
   ],
   "source": [
    "#b.How would you handle cases where you need to perform multiple replacements in a single pass?\n",
    "\n",
    "def multiple_replace(inp_file,out_file,mul_replaces): \n",
    "    with open(inp_file,\"r\") as f1:\n",
    "            content=f1.read()\n",
    "            \n",
    "    with open(out_file,\"w\") as f2:\n",
    "        for search_word,rep_word in mul_replaces.items():\n",
    "            content=content.replace(search_word,rep_word)\n",
    "        f2.write(content)\n",
    "        print()\n",
    "        \n",
    "multi_replacements={\n",
    "    \"Lorem\":\"Morel\",\n",
    "    \"and\":\"&\",\n",
    "}\n",
    "print(\"the content in sample.txt :\")\n",
    "with open(\"sample.txt\",\"r\") as s1:\n",
    "    print(s1.read())\n",
    "    \n",
    "multiple_replace(\"sample.txt\",\"sample_2.txt\",multi_replacements)\n",
    "print(\"the replaced content in sample2.txt from sample.txt\")\n",
    "with open(\"sample_2.txt\",\"r\") as s2:\n",
    "    print(s2.read())\n",
    "\n",
    "    "
   ]
  },
  {
   "cell_type": "markdown",
   "id": "f41dd78e",
   "metadata": {},
   "source": [
    "# 6. Write a python script that concatenates the contents of multiple text files into a single output file. allow the user to specify the  input files and output file."
   ]
  },
  {
   "cell_type": "code",
   "execution_count": 80,
   "id": "a83612d3",
   "metadata": {},
   "outputs": [
    {
     "name": "stdout",
     "output_type": "stream",
     "text": [
      "enter number of files contents to be concatenated :2\n",
      "enter the output filename : merged.txt\n",
      "enter file name to combine : sample.txt\n",
      "the content in the file sample.txt  : \n",
      "\n",
      "Lorem Ipsum is 181 simply dummy text of the printing 89 and typesetting industry. Lorem Ipsum has been the industry's standard dummy text ever since the 1500 s, when an unknown printer took a galley of type and scrambled it to 57 make a type specimen book. It has survived not only five centuries, but also the leap into electronic typesetting 54, remaining essentially unchanged. It was popularised in the 1960s with the release of Letraset sheets containing Lorem Ipsum passages, and more recently with desktop publishing software like Aldus PageMaker including versions of Lorem Ipsum 1417.\n",
      "\n",
      "enter file name to combine : python.txt\n",
      "the content in the file python.txt  : \n",
      "\n",
      "Python is a high-level, general-purpose programming language. Python is dynamically typed and garbage-collected. It supports multiple programming paradigms, including structured (particularly procedural), object-oriented and functional programming.Guido van Rossum began working on Python in the late 1980s as a successor to the ABC programming language and first released it in 1991 as Python 0.9.0Pyton is a high-level, general-purpose programming language. Pyton is dynamically typed and garbage-collected. It supports multiple programming paradigms, including structured (particularly procedural), object-oriented and functional programming.Guido van Rossum began working on Pyton in the late 1980s as a successor to the ABC programming language and first released it in 1991 as Pyton 0.9.0\n",
      "\n",
      "the Resultant combined file :  \n",
      "Lorem Ipsum is 181 simply dummy text of the printing 89 and typesetting industry. Lorem Ipsum has been the industry's standard dummy text ever since the 1500 s, when an unknown printer took a galley of type and scrambled it to 57 make a type specimen book. It has survived not only five centuries, but also the leap into electronic typesetting 54, remaining essentially unchanged. It was popularised in the 1960s with the release of Letraset sheets containing Lorem Ipsum passages, and more recently with desktop publishing software like Aldus PageMaker including versions of Lorem Ipsum 1417.Python is a high-level, general-purpose programming language. Python is dynamically typed and garbage-collected. It supports multiple programming paradigms, including structured (particularly procedural), object-oriented and functional programming.Guido van Rossum began working on Python in the late 1980s as a successor to the ABC programming language and first released it in 1991 as Python 0.9.0Pyton is a high-level, general-purpose programming language. Pyton is dynamically typed and garbage-collected. It supports multiple programming paradigms, including structured (particularly procedural), object-oriented and functional programming.Guido van Rossum began working on Pyton in the late 1980s as a successor to the ABC programming language and first released it in 1991 as Pyton 0.9.0\n"
     ]
    }
   ],
   "source": [
    "def combine_files(inp_file,out_file):\n",
    "    with open(inp_file,\"r\") as f:\n",
    "        contents=f.read()\n",
    "    with open(out_file,\"a\") as w:\n",
    "        w.write(contents)\n",
    "    \n",
    "    \n",
    "n=int(input(\"enter number of files contents to be concatenated :\"))\n",
    "out_file=input(\"enter the output filename : \")\n",
    "for i in range(1,n+1):\n",
    "    filename=input(\"enter file name to combine : \")\n",
    "    print(\"the content in the file\",filename,\" : \")\n",
    "    print()\n",
    "    with open(filename,\"r\") as s:\n",
    "        print(s.read())\n",
    "        print()\n",
    "    combine_files(filename,out_file)\n",
    "print(\"the Resultant combined file :  \")\n",
    "with open(out_file,\"r\") as m:\n",
    "    print(m.read())"
   ]
  },
  {
   "cell_type": "markdown",
   "id": "18e433f6",
   "metadata": {},
   "source": [
    "# 7. you are given a text file named input.txt containing a list of words, one word per line. your task is to create a python program that reads the contents of input.txt, processes the word, and write the results to the output file named output.txt"
   ]
  },
  {
   "cell_type": "code",
   "execution_count": 22,
   "id": "d0cfd6ca",
   "metadata": {},
   "outputs": [
    {
     "name": "stdout",
     "output_type": "stream",
     "text": [
      "The contents in input.txt file:\n",
      "Python\n",
      "Angular\n",
      "React\n",
      "Artificial Intelligence\n",
      "Data Science\n",
      "MongoDB\n",
      "SQL\n",
      "C++\n",
      "NoSQL\n",
      "Machine Learning\n",
      "\n",
      "The word-length dictionary in the output.txt file : \n",
      "Python:7\n",
      "Angular:8\n",
      "React:6\n",
      "Artificial Intelligence:24\n",
      "Data Science:13\n",
      "MongoDB:8\n",
      "SQL:4\n",
      "C++:4\n",
      "NoSQL:6\n",
      "Machine Learning:17\n",
      "\n"
     ]
    }
   ],
   "source": [
    "import os\n",
    "def word_len_dict(file):\n",
    "    try:\n",
    "        with open(file,\"r\") as inp:\n",
    "            words=inp.readlines()   \n",
    "        with open(\"output.txt\",\"w\") as op:\n",
    "            for i in words:\n",
    "                op.write(f\"{i[:-1]}:{len(i)}\\n\")\n",
    "    except Exception as e:\n",
    "        print(f\"An error occurred: {str(e)}\")\n",
    "               \n",
    "print(\"The contents in input.txt file:\")  \n",
    "with open(\"input.txt\",\"r\") as f1:\n",
    "    print(f1.read())\n",
    "word_len_dict(\"input.txt\")\n",
    "print(\"The word-length dictionary in the output.txt file : \")\n",
    "with open(\"output.txt\",\"r\") as f2:\n",
    "    print(f2.read())\n",
    "\n"
   ]
  },
  {
   "cell_type": "markdown",
   "id": "87ac1e6a",
   "metadata": {},
   "source": [
    "# 8. Assume that you are developing a student Gradebook system for a school. The system  should allow teachers to input student grades for various subjects, store data in files and provide student with the ability to view their grades."
   ]
  },
  {
   "cell_type": "code",
   "execution_count": 4,
   "id": "ef78cbb3",
   "metadata": {},
   "outputs": [
    {
     "name": "stdout",
     "output_type": "stream",
     "text": [
      "Student Gradebook System\n",
      "\n",
      "1. Input Grades\n",
      "2. View Grades\n",
      "3. Exit\n",
      "Select your option: 2\n",
      "Enter the subject: maths\n",
      "Grades for maths:\n",
      "\n",
      "ganesh: A\n",
      "Bhargav: O\n",
      "yashwanth: B\n",
      "chandra: C\n",
      "\n",
      "Student Gradebook System\n",
      "\n",
      "1. Input Grades\n",
      "2. View Grades\n",
      "3. Exit\n",
      "Select your option: 3\n"
     ]
    }
   ],
   "source": [
    "import os\n",
    "\n",
    "def grades_input(sub):\n",
    "    try:\n",
    "        file_name = f\"{sub}.txt\"\n",
    "        \n",
    "        students_count = int(input(f\"Enter the number of students for {sub}: \"))\n",
    "        \n",
    "        with open(file_name, 'w') as file:\n",
    "            for i in range(1,students_count+1):\n",
    "                student_name = input(f\"Enter the name of student_{i}: \")\n",
    "                grade = input(f\"Enter the grade for {sub} for {student_name}: \")\n",
    "                file.write(f\"{student_name}: {grade}\\n\")\n",
    "        \n",
    "        print(f\"Grades for {subject} have been Entered into {file_name} file sucessfully\")\n",
    "    except Exception as e:\n",
    "        print(f\"An error occurred: {str(e)}\")\n",
    "\n",
    "def grades_view(sub):\n",
    "    try:\n",
    "        filename = f\"{sub}.txt\"\n",
    "        \n",
    "        if not os.path.exists(filename):\n",
    "            print(f\"No grades recorded for {sub}.\\n\")\n",
    "            return\n",
    "        \n",
    "        with open(filename, 'r') as file:\n",
    "            print(f\"Grades for {subject}:\\n\")\n",
    "            for line in file:\n",
    "                print(line.strip())\n",
    "        \n",
    "        print()\n",
    "    except FileNotFoundError:\n",
    "        print(f\"The {subj} subject has no records.\\n\")\n",
    "    except Exception as e:\n",
    "        print(f\"An error occurred: {str(e)}\\n\")\n",
    "\n",
    "\n",
    "while True:\n",
    "    print(\"Student Gradebook System\")\n",
    "    print()\n",
    "    print(\"1. Input Grades\")\n",
    "    print(\"2. View Grades\")\n",
    "    print(\"3. Exit\")\n",
    "\n",
    "    option = input(\"Select your option: \")\n",
    "\n",
    "    if option == '1':\n",
    "        subject = input(\"Enter the subject: \")\n",
    "        grades_input(subject)\n",
    "    elif option == '2':\n",
    "        subject = input(\"Enter the subject: \")\n",
    "        grades_view(subject)\n",
    "    elif option == '3':\n",
    "        break\n",
    "    else:\n",
    "        print(\"Please select a valid option\")"
   ]
  },
  {
   "cell_type": "code",
   "execution_count": null,
   "id": "cc25949f",
   "metadata": {},
   "outputs": [],
   "source": []
  }
 ],
 "metadata": {
  "kernelspec": {
   "display_name": "Python 3 (ipykernel)",
   "language": "python",
   "name": "python3"
  },
  "language_info": {
   "codemirror_mode": {
    "name": "ipython",
    "version": 3
   },
   "file_extension": ".py",
   "mimetype": "text/x-python",
   "name": "python",
   "nbconvert_exporter": "python",
   "pygments_lexer": "ipython3",
   "version": "3.11.4"
  }
 },
 "nbformat": 4,
 "nbformat_minor": 5
}
