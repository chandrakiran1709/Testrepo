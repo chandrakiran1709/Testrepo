{
 "cells": [
  {
   "cell_type": "markdown",
   "id": "57c1d60e",
   "metadata": {},
   "source": [
    "# 1.Manipulate Using a List\n",
    "   i) To add new elements to the end of the list\n",
    "  ii) To reverse elements in a list\n",
    " iii) To Display same list of elements multiple times\n",
    "  iv) To concatenate Two lists\n",
    "   v) To sort the elements in the list in ascending order \n"
   ]
  },
  {
   "cell_type": "code",
   "execution_count": 1,
   "id": "414395e9",
   "metadata": {},
   "outputs": [
    {
     "name": "stdout",
     "output_type": "stream",
     "text": [
      "[20, 14, 85, 53, 98, 47, 34]\n"
     ]
    }
   ],
   "source": [
    "list1=[20,14,85,53,98,47,34]\n",
    "print(list1)"
   ]
  },
  {
   "cell_type": "code",
   "execution_count": 2,
   "id": "f68dd106",
   "metadata": {},
   "outputs": [
    {
     "name": "stdout",
     "output_type": "stream",
     "text": [
      "[20, 14, 85, 53, 98, 47, 34, 15]\n"
     ]
    }
   ],
   "source": [
    "list1.append(15)\n",
    "print(list1)"
   ]
  },
  {
   "cell_type": "code",
   "execution_count": 3,
   "id": "e5e2ea49",
   "metadata": {},
   "outputs": [
    {
     "name": "stdout",
     "output_type": "stream",
     "text": [
      "[15, 34, 47, 98, 53, 85, 14, 20]\n"
     ]
    }
   ],
   "source": [
    "list1.reverse();\n",
    "print(list1)"
   ]
  },
  {
   "cell_type": "code",
   "execution_count": 4,
   "id": "d9ca86ca",
   "metadata": {},
   "outputs": [
    {
     "data": {
      "text/plain": [
       "[15,\n",
       " 34,\n",
       " 47,\n",
       " 98,\n",
       " 53,\n",
       " 85,\n",
       " 14,\n",
       " 20,\n",
       " 15,\n",
       " 34,\n",
       " 47,\n",
       " 98,\n",
       " 53,\n",
       " 85,\n",
       " 14,\n",
       " 20,\n",
       " 15,\n",
       " 34,\n",
       " 47,\n",
       " 98,\n",
       " 53,\n",
       " 85,\n",
       " 14,\n",
       " 20,\n",
       " 15,\n",
       " 34,\n",
       " 47,\n",
       " 98,\n",
       " 53,\n",
       " 85,\n",
       " 14,\n",
       " 20,\n",
       " 15,\n",
       " 34,\n",
       " 47,\n",
       " 98,\n",
       " 53,\n",
       " 85,\n",
       " 14,\n",
       " 20]"
      ]
     },
     "execution_count": 4,
     "metadata": {},
     "output_type": "execute_result"
    }
   ],
   "source": [
    "5 * list1"
   ]
  },
  {
   "cell_type": "code",
   "execution_count": 5,
   "id": "0d9ada06",
   "metadata": {},
   "outputs": [
    {
     "name": "stdout",
     "output_type": "stream",
     "text": [
      "[15, 34, 47, 98, 53, 85, 14, 20, 'ram', 'chandra', 'ganesh', 'pavan']\n"
     ]
    }
   ],
   "source": [
    "list2=[\"ram\",\"chandra\",\"ganesh\",\"pavan\"]\n",
    "print(list1 + list2)"
   ]
  },
  {
   "cell_type": "code",
   "execution_count": 6,
   "id": "d0fbbfec",
   "metadata": {
    "collapsed": true
   },
   "outputs": [
    {
     "name": "stdout",
     "output_type": "stream",
     "text": [
      "[14, 15, 20, 34, 47, 53, 85, 98]\n"
     ]
    }
   ],
   "source": [
    "list1.sort()\n",
    "print(list1)"
   ]
  },
  {
   "cell_type": "markdown",
   "id": "adbe25d9",
   "metadata": {},
   "source": [
    "# 2.write python program to do in the tuples\n",
    "   i) manipulate using the tuples\n",
    "  ii) To add new elements at the end of the Tuple\n",
    " iii) To reverse elements in the Tuple\n",
    "  iv) To display the elments of same Tuple Multiple Times\n",
    "   v) To concatenate Two Tuples\n",
    "  vi)  To sort elements in the ascending order"
   ]
  },
  {
   "cell_type": "code",
   "execution_count": 7,
   "id": "99c105c3",
   "metadata": {},
   "outputs": [
    {
     "name": "stdout",
     "output_type": "stream",
     "text": [
      "(18, 34, 101, 43, 67, 9, 23, 55, 48)\n"
     ]
    }
   ],
   "source": [
    "tuple1=(18,34,101,43,67,9,23,55,48)\n",
    "print(tuple1)"
   ]
  },
  {
   "cell_type": "code",
   "execution_count": 8,
   "id": "4845c889",
   "metadata": {},
   "outputs": [
    {
     "name": "stdout",
     "output_type": "stream",
     "text": [
      "(18, 34, 101, 43, 67, 9, 23, 55, 48, 20, 5)\n"
     ]
    }
   ],
   "source": [
    "tuple2=(20,5)\n",
    "tuple1 += tuple2\n",
    "print(tuple1)"
   ]
  },
  {
   "cell_type": "code",
   "execution_count": 14,
   "id": "d6e95bc4",
   "metadata": {},
   "outputs": [
    {
     "name": "stdout",
     "output_type": "stream",
     "text": [
      "(5, 20, 48, 55, 23, 9, 67, 43, 101, 34, 18)\n"
     ]
    }
   ],
   "source": [
    "rev_tuple1=tuple1[::-1]\n",
    "print(rev_tuple1)"
   ]
  },
  {
   "cell_type": "code",
   "execution_count": 15,
   "id": "c3993457",
   "metadata": {},
   "outputs": [
    {
     "data": {
      "text/plain": [
       "(18,\n",
       " 34,\n",
       " 101,\n",
       " 43,\n",
       " 67,\n",
       " 9,\n",
       " 23,\n",
       " 55,\n",
       " 48,\n",
       " 20,\n",
       " 5,\n",
       " 18,\n",
       " 34,\n",
       " 101,\n",
       " 43,\n",
       " 67,\n",
       " 9,\n",
       " 23,\n",
       " 55,\n",
       " 48,\n",
       " 20,\n",
       " 5,\n",
       " 18,\n",
       " 34,\n",
       " 101,\n",
       " 43,\n",
       " 67,\n",
       " 9,\n",
       " 23,\n",
       " 55,\n",
       " 48,\n",
       " 20,\n",
       " 5)"
      ]
     },
     "execution_count": 15,
     "metadata": {},
     "output_type": "execute_result"
    }
   ],
   "source": [
    "3 * tuple1"
   ]
  },
  {
   "cell_type": "code",
   "execution_count": 16,
   "id": "d2bb0572",
   "metadata": {},
   "outputs": [
    {
     "name": "stdout",
     "output_type": "stream",
     "text": [
      "(18, 34, 101, 43, 67, 9, 23, 55, 48, 20, 5, 'python', 'java', 'Angular', 'React')\n"
     ]
    }
   ],
   "source": [
    "tuple3=(\"python\",\"java\",\"Angular\",\"React\")\n",
    "print(tuple1+tuple3)"
   ]
  },
  {
   "cell_type": "code",
   "execution_count": 19,
   "id": "10504bfe",
   "metadata": {},
   "outputs": [
    {
     "name": "stdout",
     "output_type": "stream",
     "text": [
      "(5, 9, 18, 20, 23, 34, 43, 48, 55, 67, 101)\n"
     ]
    }
   ],
   "source": [
    "sorted_tuple=tuple(sorted(tuple1))\n",
    "print(sorted_tuple)"
   ]
  },
  {
   "cell_type": "markdown",
   "id": "ab855990",
   "metadata": {},
   "source": [
    "# 3. write a program to implement the following using list\n",
    "   i) create a list with integers (minimum 10 numbers)\n",
    "  ii) display the last number in the list\n",
    " iii) command for displaying the values from the list [0:4]\n",
    "  iv) command for displaying the values from the list [2:]\n",
    "   v) command for displaying the values from the list [:6]"
   ]
  },
  {
   "cell_type": "code",
   "execution_count": 20,
   "id": "187fc046",
   "metadata": {},
   "outputs": [],
   "source": [
    "num_list=[13,65,44,8,45,87,32,4,68,99]"
   ]
  },
  {
   "cell_type": "code",
   "execution_count": 21,
   "id": "a50ff8ca",
   "metadata": {},
   "outputs": [
    {
     "name": "stdout",
     "output_type": "stream",
     "text": [
      "99\n"
     ]
    }
   ],
   "source": [
    "print(num_list[-1])"
   ]
  },
  {
   "cell_type": "code",
   "execution_count": 22,
   "id": "37ff132e",
   "metadata": {},
   "outputs": [
    {
     "data": {
      "text/plain": [
       "[13, 65, 44, 8]"
      ]
     },
     "execution_count": 22,
     "metadata": {},
     "output_type": "execute_result"
    }
   ],
   "source": [
    "num_list[0:4]"
   ]
  },
  {
   "cell_type": "code",
   "execution_count": 23,
   "id": "bed2fef7",
   "metadata": {},
   "outputs": [
    {
     "data": {
      "text/plain": [
       "[44, 8, 45, 87, 32, 4, 68, 99]"
      ]
     },
     "execution_count": 23,
     "metadata": {},
     "output_type": "execute_result"
    }
   ],
   "source": [
    "num_list[2:]"
   ]
  },
  {
   "cell_type": "code",
   "execution_count": 25,
   "id": "f7918379",
   "metadata": {},
   "outputs": [
    {
     "data": {
      "text/plain": [
       "[13, 65, 44, 8, 45, 87]"
      ]
     },
     "execution_count": 25,
     "metadata": {},
     "output_type": "execute_result"
    }
   ],
   "source": [
    "num_list[:6]"
   ]
  },
  {
   "cell_type": "markdown",
   "id": "8c345e5c",
   "metadata": {},
   "source": [
    "# 4.Write a python program : tuple4 =(10,50,20,40,30)\n",
    "   i) To display the elements 10 and 50 from tuple4\n",
    "  ii) To display the Length of the tuple4\n",
    " iii) To find the Minimum element from tuple4\n",
    "  iv) To add all elements in the Tuple4\n",
    "   v) To display same tuple multiple times"
   ]
  },
  {
   "cell_type": "code",
   "execution_count": 26,
   "id": "cc978742",
   "metadata": {},
   "outputs": [],
   "source": [
    "tuple4=(10,50,20,40,30)"
   ]
  },
  {
   "cell_type": "code",
   "execution_count": 27,
   "id": "e144e885",
   "metadata": {},
   "outputs": [
    {
     "data": {
      "text/plain": [
       "(10, 50)"
      ]
     },
     "execution_count": 27,
     "metadata": {},
     "output_type": "execute_result"
    }
   ],
   "source": [
    "tuple4[0:2]"
   ]
  },
  {
   "cell_type": "code",
   "execution_count": 28,
   "id": "97bf6e28",
   "metadata": {},
   "outputs": [
    {
     "data": {
      "text/plain": [
       "5"
      ]
     },
     "execution_count": 28,
     "metadata": {},
     "output_type": "execute_result"
    }
   ],
   "source": [
    "len(tuple4)"
   ]
  },
  {
   "cell_type": "code",
   "execution_count": 29,
   "id": "fc963811",
   "metadata": {},
   "outputs": [
    {
     "data": {
      "text/plain": [
       "10"
      ]
     },
     "execution_count": 29,
     "metadata": {},
     "output_type": "execute_result"
    }
   ],
   "source": [
    "min(tuple4)"
   ]
  },
  {
   "cell_type": "code",
   "execution_count": 30,
   "id": "78129228",
   "metadata": {},
   "outputs": [
    {
     "data": {
      "text/plain": [
       "150"
      ]
     },
     "execution_count": 30,
     "metadata": {},
     "output_type": "execute_result"
    }
   ],
   "source": [
    "sum(tuple4)"
   ]
  },
  {
   "cell_type": "code",
   "execution_count": 34,
   "id": "7b354033",
   "metadata": {},
   "outputs": [
    {
     "data": {
      "text/plain": [
       "(10,\n",
       " 50,\n",
       " 20,\n",
       " 40,\n",
       " 30,\n",
       " 10,\n",
       " 50,\n",
       " 20,\n",
       " 40,\n",
       " 30,\n",
       " 10,\n",
       " 50,\n",
       " 20,\n",
       " 40,\n",
       " 30,\n",
       " 10,\n",
       " 50,\n",
       " 20,\n",
       " 40,\n",
       " 30,\n",
       " 10,\n",
       " 50,\n",
       " 20,\n",
       " 40,\n",
       " 30,\n",
       " 10,\n",
       " 50,\n",
       " 20,\n",
       " 40,\n",
       " 30)"
      ]
     },
     "execution_count": 34,
     "metadata": {},
     "output_type": "execute_result"
    }
   ],
   "source": [
    "6 * tuple4"
   ]
  },
  {
   "cell_type": "markdown",
   "id": "6d99b01f",
   "metadata": {},
   "source": [
    "# 5. write a Python Program:\n",
    "   i) To calculate the length of string\n",
    "  ii) To reverse a word in the string\n",
    " iii) To Display same string multiple times\n",
    "  iv) To Concatenate Two Strings\n",
    "   v) str1=\"South India\", using string slicing to display \"India\""
   ]
  },
  {
   "cell_type": "code",
   "execution_count": 40,
   "id": "c7c35df2",
   "metadata": {},
   "outputs": [
    {
     "data": {
      "text/plain": [
       "17"
      ]
     },
     "execution_count": 40,
     "metadata": {},
     "output_type": "execute_result"
    }
   ],
   "source": [
    "sample1=\"Machine Learning \"\n",
    "len(sample1)"
   ]
  },
  {
   "cell_type": "code",
   "execution_count": 41,
   "id": "49d542e4",
   "metadata": {},
   "outputs": [
    {
     "data": {
      "text/plain": [
       "' gninraeL enihcaM'"
      ]
     },
     "execution_count": 41,
     "metadata": {},
     "output_type": "execute_result"
    }
   ],
   "source": [
    "sample1[::-1]"
   ]
  },
  {
   "cell_type": "code",
   "execution_count": 43,
   "id": "9bb7fcc2",
   "metadata": {},
   "outputs": [
    {
     "data": {
      "text/plain": [
       "'Machine Learning Machine Learning Machine Learning '"
      ]
     },
     "execution_count": 43,
     "metadata": {},
     "output_type": "execute_result"
    }
   ],
   "source": [
    "3 * sample1"
   ]
  },
  {
   "cell_type": "code",
   "execution_count": 44,
   "id": "dae261b0",
   "metadata": {},
   "outputs": [
    {
     "name": "stdout",
     "output_type": "stream",
     "text": [
      "Artificial Intelligence & Machine Learning \n"
     ]
    }
   ],
   "source": [
    "sample2= \"Artificial Intelligence & \"\n",
    "print(sample2 + sample1)"
   ]
  },
  {
   "cell_type": "code",
   "execution_count": 51,
   "id": "dd014f4e",
   "metadata": {},
   "outputs": [
    {
     "data": {
      "text/plain": [
       "'India'"
      ]
     },
     "execution_count": 51,
     "metadata": {},
     "output_type": "execute_result"
    }
   ],
   "source": [
    "str1=\"South India\"\n",
    "str1[-5:]"
   ]
  },
  {
   "cell_type": "markdown",
   "id": "26e37128",
   "metadata": {},
   "source": [
    "# 6.Perform the following:\n",
    "   i) Creating the Dictionary\n",
    "  ii) Accessing the values in Dictionary\n",
    " iii) Updating Dictionary using the functions\n",
    "  iv) clear and delete values in the Dictionary"
   ]
  },
  {
   "cell_type": "code",
   "execution_count": 52,
   "id": "383b819e",
   "metadata": {},
   "outputs": [],
   "source": [
    "my_dict={\"Brand\": \"Realme\", \"Model\": \"Realme 9\", \"RAM\": \"8 GB\"}\n"
   ]
  },
  {
   "cell_type": "code",
   "execution_count": 60,
   "id": "e4647c49",
   "metadata": {},
   "outputs": [
    {
     "name": "stdout",
     "output_type": "stream",
     "text": [
      "{'Brand': 'Realme', 'Model': 'Realme 9', 'RAM': '8 GB'}\n",
      "Realme 9\n"
     ]
    },
    {
     "data": {
      "text/plain": [
       "dict_values(['Realme', 'Realme 9', '8 GB'])"
      ]
     },
     "execution_count": 60,
     "metadata": {},
     "output_type": "execute_result"
    }
   ],
   "source": [
    "print(my_dict)\n",
    "print(my_dict.get('Model'))\n",
    "my_dict.keys()\n",
    "my_dict.values()"
   ]
  },
  {
   "cell_type": "code",
   "execution_count": 62,
   "id": "f20c6cd7",
   "metadata": {},
   "outputs": [
    {
     "name": "stdout",
     "output_type": "stream",
     "text": [
      "{'Brand': 'Realme', 'Model': 'Realme 9', 'RAM': '6 GB'}\n"
     ]
    }
   ],
   "source": [
    "my_dict[\"RAM\"]=\"6 GB\"\n",
    "print(my_dict)"
   ]
  },
  {
   "cell_type": "code",
   "execution_count": 64,
   "id": "001e5f52",
   "metadata": {},
   "outputs": [
    {
     "name": "stdout",
     "output_type": "stream",
     "text": [
      "{}\n"
     ]
    }
   ],
   "source": [
    "my_dict.clear()\n",
    "print(my_dict)"
   ]
  },
  {
   "cell_type": "markdown",
   "id": "c45dda38",
   "metadata": {},
   "source": [
    "# 7. Python Program to insert  a number to any position in a list"
   ]
  },
  {
   "cell_type": "code",
   "execution_count": 65,
   "id": "cb6014ae",
   "metadata": {},
   "outputs": [],
   "source": [
    "my_list=[11,3,5,8,48,32,54]"
   ]
  },
  {
   "cell_type": "code",
   "execution_count": 71,
   "id": "1c6148d8",
   "metadata": {},
   "outputs": [
    {
     "name": "stdout",
     "output_type": "stream",
     "text": [
      "[12, 11, 3, 5, 8, 48, 14, 32, 54]\n",
      "enter the element to insert :5\n",
      "enter the position of element to be insert :1\n",
      "[12, 5, 11, 3, 5, 8, 48, 14, 32, 54]\n"
     ]
    }
   ],
   "source": [
    "print(my_list)\n",
    "elem=int(input(\"enter the element to insert :\"))\n",
    "pos=int(input(\"enter the position of element to be insert :\"))\n",
    "my_list.insert(pos,elem)\n",
    "print(my_list)"
   ]
  },
  {
   "cell_type": "markdown",
   "id": "6bdc0578",
   "metadata": {},
   "source": [
    "# 8. Python Program to delete an element from a list by index"
   ]
  },
  {
   "cell_type": "code",
   "execution_count": 77,
   "id": "e7059a71",
   "metadata": {},
   "outputs": [
    {
     "name": "stdout",
     "output_type": "stream",
     "text": [
      "[5, 8, 48, 14, 32, 54]\n",
      "enter the position of element to delete :4\n",
      "List after deleting :\n",
      "[5, 8, 48, 14, 54]\n"
     ]
    }
   ],
   "source": [
    "print(my_list)\n",
    "index=int(input(\"enter the position of element to delete :\"))\n",
    "my_list.pop(index)\n",
    "print(\"List after deleting :\")\n",
    "print(my_list)"
   ]
  },
  {
   "cell_type": "markdown",
   "id": "e45d87fd",
   "metadata": {},
   "source": [
    "# 9. Write a Python Program to display numbers from 1 to 100  "
   ]
  },
  {
   "cell_type": "code",
   "execution_count": null,
   "id": "4a46d715",
   "metadata": {},
   "outputs": [],
   "source": [
    " for i in range(1,101):\n",
    "    print(i, end=\" \")"
   ]
  },
  {
   "cell_type": "markdown",
   "id": "a5c4c554",
   "metadata": {},
   "source": [
    "# 10. Write a python Program to find sum of all items in a tuple "
   ]
  },
  {
   "cell_type": "code",
   "execution_count": 81,
   "id": "5b721035",
   "metadata": {},
   "outputs": [
    {
     "name": "stdout",
     "output_type": "stream",
     "text": [
      "the sum of all elements in a tuple =  255\n"
     ]
    }
   ],
   "source": [
    "number_tuple=(20,11,54,87,31,7,45)\n",
    "print(\"the sum of all elements in a tuple = \", sum(number_tuple))"
   ]
  },
  {
   "cell_type": "markdown",
   "id": "a2b183ac",
   "metadata": {},
   "source": [
    "# 11.Create a Dictionary containing three lambda functions square,cube and square root\n",
    "\n",
    "   i) E.g dict={'Square':Function for squaring,'Cube':Function for Cubing, 'SquareRoot': Function for square root }\n",
    "  ii) Pass the values (input from user) to the function in directory respectively\n",
    " iii) Then add the output of each function and print it"
   ]
  },
  {
   "cell_type": "code",
   "execution_count": 183,
   "id": "8409195f",
   "metadata": {},
   "outputs": [
    {
     "name": "stdout",
     "output_type": "stream",
     "text": [
      "enter n value : 9\n",
      "81\n",
      "729\n",
      "3.0\n",
      "total sum =  813.0\n"
     ]
    }
   ],
   "source": [
    "dict={'Square':lambda n: n**2, 'Cube': lambda n : n**3, 'SquareRoot': lambda n: n**(1/2)}\n",
    "n=int(input(\"enter n value : \"))\n",
    "print(dict['Square'](n))\n",
    "print(dict['Cube'](n))\n",
    "print(dict['SquareRoot'](n))\n",
    "\n",
    "total=dict['Square'](n)+dict['Cube'](n)+dict['SquareRoot'](n)\n",
    "print(\"total sum = \", total)"
   ]
  },
  {
   "cell_type": "markdown",
   "id": "1c1939f7",
   "metadata": {},
   "source": [
    "# 12. A list of words is given. find the words from the list that have their second character in uppercase. ls=['hello','Dear','hOw','ARe','You']"
   ]
  },
  {
   "cell_type": "code",
   "execution_count": 187,
   "id": "0b80a15d",
   "metadata": {},
   "outputs": [
    {
     "name": "stdout",
     "output_type": "stream",
     "text": [
      "hOw\n",
      "ARe\n"
     ]
    }
   ],
   "source": [
    "ls=['hello','Dear','hOw','ARe','You']\n",
    "for i in ls:\n",
    "    if i[1].isupper():\n",
    "        print(i)"
   ]
  },
  {
   "cell_type": "markdown",
   "id": "0a23ee60",
   "metadata": {},
   "source": [
    "# 13. A dictionary of names and their weight on the earth is given. Find how much will they weigh on moon. (use map and lambda functions) Formula :wMoon(wEarth * GMoon ) / Earth\n",
    "\n",
    "   i) weight of people in kg:\n",
    "         WeightOnEarth={'john':45,'shelly':65,'mary':35}\n",
    "  ii) Gravitational force on moon : 1.66m/s2\n",
    "          GMoon=1.622\n",
    " iii)   Gravitational force on Earth : 9.81 m/s2\n",
    "            GEarth=9.81\n",
    "          "
   ]
  },
  {
   "cell_type": "code",
   "execution_count": 206,
   "id": "9551a88d",
   "metadata": {},
   "outputs": [
    {
     "name": "stdout",
     "output_type": "stream",
     "text": [
      "The weight of john on moon = 7.440366972477065 kgs\n",
      "The weight of shelly on moon = 10.747196738022426 kgs\n",
      "The weight of mary on moon = 5.786952089704383 kgs\n"
     ]
    }
   ],
   "source": [
    "WeightOnEarth={'john':45,'shelly':65,'mary':35}\n",
    "GMoon=1.622;\n",
    "GEarth=9.81;\n",
    "weights=list(map(lambda wEarth:(wEarth * GMoon)/GEarth,WeightOnEarth.values()));\n",
    "n=0;\n",
    "for i in WeightOnEarth.keys():\n",
    "    print(\"The weight of\",  i ,\"on moon =\",weights[n],\"kgs\");\n",
    "    n=n+1;\n",
    "    "
   ]
  },
  {
   "cell_type": "markdown",
   "id": "5a538974",
   "metadata": {},
   "source": [
    "# CONTROL STRUCTURES\n"
   ]
  },
  {
   "cell_type": "markdown",
   "id": "f9df2e88",
   "metadata": {},
   "source": [
    "# 1. write a python program to find first N prime numbers"
   ]
  },
  {
   "cell_type": "code",
   "execution_count": 110,
   "id": "800b9e6c",
   "metadata": {},
   "outputs": [
    {
     "name": "stdout",
     "output_type": "stream",
     "text": [
      "enter the N value :7\n",
      "2\n",
      "3\n",
      "5\n",
      "7\n",
      "11\n",
      "13\n",
      "17\n"
     ]
    }
   ],
   "source": [
    "num=int(input(\"enter the N value :\"))\n",
    "x=1;\n",
    "n=0;\n",
    "while(1):\n",
    "    c=0;\n",
    "    for j in range(1,x+1):\n",
    "        a=x%j;\n",
    "        if a==0:\n",
    "            c=c+1;\n",
    "    if c==2:\n",
    "            n=n+1;\n",
    "            print(x);\n",
    "    if n==num:\n",
    "         break;\n",
    "    x=x+1;\n",
    "            "
   ]
  },
  {
   "cell_type": "markdown",
   "id": "f53e9deb",
   "metadata": {},
   "source": [
    "# 2.Write a python code that clculates the salary of an employee. prompt the user to enter the Basic salary, HRA, TA, and DA. Add these components to calculate the gross salary. Also, Deduct 10% of salary from gross salary to be paid as tax and display gross minus tax as net salary."
   ]
  },
  {
   "cell_type": "code",
   "execution_count": 113,
   "id": "91176c91",
   "metadata": {},
   "outputs": [
    {
     "name": "stdout",
     "output_type": "stream",
     "text": [
      "Enter the Basic Salary :10000\n",
      "enter the HRA : 3000\n",
      "enter the TA :2000\n",
      "enter the DA : 2500\n",
      "The Net Salary of the Employee =  15750.0\n"
     ]
    }
   ],
   "source": [
    "basic_sal=int(input(\"Enter the Basic Salary :\" ));\n",
    "hra=int(input(\"enter the HRA : \"));\n",
    "ta=int(input(\"enter the TA :\"));\n",
    "da=int(input(\"enter the DA : \"));\n",
    "gross_sal=basic_sal+hra+ta+da;\n",
    "tax=0.10 * gross_sal;\n",
    "net_sal=gross_sal - tax;\n",
    "print(\"The Net Salary of the Employee = \" ,net_sal);"
   ]
  },
  {
   "cell_type": "markdown",
   "id": "ae221fdc",
   "metadata": {},
   "source": [
    "# 3. write a python program to search for a string in given list\n"
   ]
  },
  {
   "cell_type": "code",
   "execution_count": 119,
   "id": "1b2a8622",
   "metadata": {},
   "outputs": [
    {
     "name": "stdout",
     "output_type": "stream",
     "text": [
      "enter the string to search :java\n",
      "java is present in the list\n"
     ]
    }
   ],
   "source": [
    "courses=['python','c','java','testing','angular','react','html']\n",
    "s=input(\"enter the string to search :\")\n",
    "if s in courses:\n",
    "    print(s+\" is present in the list\")\n",
    "if s not in courses :\n",
    "    print(s+ \"is not in the list\")"
   ]
  },
  {
   "cell_type": "markdown",
   "id": "cc7d4e93",
   "metadata": {},
   "source": [
    "# 4. write a python fuction that accepts a string that calculates the number of Upper-case letters and lower-case letters "
   ]
  },
  {
   "cell_type": "code",
   "execution_count": 121,
   "id": "b3ef2b8c",
   "metadata": {},
   "outputs": [
    {
     "name": "stdout",
     "output_type": "stream",
     "text": [
      "Enter string:MaCHine LEArnig\n",
      "The number of lowercase characters is:\n",
      "8\n",
      "The number of uppercase characters is:\n",
      "6\n"
     ]
    }
   ],
   "source": [
    "inp_str=input(\"Enter string:\")\n",
    "count1=0\n",
    "count2=0\n",
    "for i in inp_str:\n",
    "      if(i.islower()):\n",
    "            count1=count1+1\n",
    "      elif(i.isupper()):\n",
    "            count2=count2+1\n",
    "print(\"The number of lowercase characters is:\")\n",
    "print(count1)\n",
    "print(\"The number of uppercase characters is:\")\n",
    "print(count2)"
   ]
  },
  {
   "cell_type": "markdown",
   "id": "910a4842",
   "metadata": {},
   "source": [
    "# 5. write a program to display the sum of odd numbers and even numbers that fall between 12 and 37. "
   ]
  },
  {
   "cell_type": "code",
   "execution_count": 124,
   "id": "329c6f8b",
   "metadata": {},
   "outputs": [
    {
     "name": "stdout",
     "output_type": "stream",
     "text": [
      "sum of odd numbers =  325\n",
      "sum of even numbers =  312\n"
     ]
    }
   ],
   "source": [
    "even_sum=0;\n",
    "odd_sum=0;\n",
    "for i in range(12,38):\n",
    "    if i%2==0:\n",
    "        even_sum=even_sum+i;\n",
    "    else:\n",
    "        odd_sum=odd_sum+i;\n",
    "        \n",
    "print(\"sum of odd numbers = \" ,odd_sum)\n",
    "print(\"sum of even numbers = \",even_sum)"
   ]
  },
  {
   "cell_type": "markdown",
   "id": "f47673f1",
   "metadata": {},
   "source": [
    "# 6.write a python program to print table of any number"
   ]
  },
  {
   "cell_type": "code",
   "execution_count": 129,
   "id": "04becce8",
   "metadata": {},
   "outputs": [
    {
     "name": "stdout",
     "output_type": "stream",
     "text": [
      "enter the number : 5\n",
      "5 * 1 = 5\n",
      "5 * 2 = 10\n",
      "5 * 3 = 15\n",
      "5 * 4 = 20\n",
      "5 * 5 = 25\n",
      "5 * 6 = 30\n",
      "5 * 7 = 35\n",
      "5 * 8 = 40\n",
      "5 * 9 = 45\n",
      "5 * 10 = 50\n"
     ]
    }
   ],
   "source": [
    "num=int(input(\"enter the number : \"))\n",
    "mul=1;\n",
    "for i in range(1,11):\n",
    "    mul=i*num;\n",
    "    print(num,\"*\", i ,\"=\", mul);"
   ]
  },
  {
   "cell_type": "markdown",
   "id": "150a896b",
   "metadata": {},
   "source": [
    "# 7. write a python program to print sum of first 10  prime numbers"
   ]
  },
  {
   "cell_type": "code",
   "execution_count": 132,
   "id": "4bfdfb42",
   "metadata": {},
   "outputs": [
    {
     "name": "stdout",
     "output_type": "stream",
     "text": [
      "129\n"
     ]
    }
   ],
   "source": [
    "num=10\n",
    "x=1;\n",
    "n=0;\n",
    "prime_sum=0;\n",
    "while(1):\n",
    "    c=0;\n",
    "    for j in range(1,x+1):\n",
    "        a=x%j;\n",
    "        if a==0:\n",
    "            c=c+1;\n",
    "    if c==2:\n",
    "        prime_sum=prime_sum+j;\n",
    "        n=n+1;\n",
    "    if n==num:\n",
    "         break;\n",
    "    x=x+1;\n",
    "          \n",
    "print(prime_sum)"
   ]
  },
  {
   "cell_type": "markdown",
   "id": "630fd473",
   "metadata": {},
   "source": [
    "# 8. write a python program to implement arithmetic operations using nested if statement"
   ]
  },
  {
   "cell_type": "code",
   "execution_count": 134,
   "id": "63f4460d",
   "metadata": {},
   "outputs": [
    {
     "name": "stdout",
     "output_type": "stream",
     "text": [
      "Enter First number: 10\n",
      "Enter Second number 3\n",
      "Sum of  10 and 3 is = 13\n",
      "Difference of  10 and 3 is = 7\n",
      "Product of 10 and 3 is = 30\n",
      "Division of  10 and 3 is = 3.3333333333333335\n",
      "Floor Division of  10 and 3 is = 3\n",
      "Exponent of  10 and 3 is = 1000\n",
      "Modulus of  10 and 3 is = 1\n"
     ]
    }
   ],
   "source": [
    "num1 = int(input('Enter First number: '))\n",
    "num2 = int(input('Enter Second number '))\n",
    "add = num1 + num2\n",
    "dif = num1 - num2\n",
    "mul = num1 * num2\n",
    "div = num1 / num2\n",
    "floor_div = num1 // num2\n",
    "power = num1 ** num2\n",
    "modulus = num1 % num2\n",
    "print('Sum of ',num1 ,'and' ,num2 ,'is =',add)\n",
    "print('Difference of ',num1 ,'and' ,num2 ,'is =',dif)\n",
    "print('Product of' ,num1 ,'and' ,num2 ,'is =',mul)\n",
    "print('Division of ',num1 ,'and' ,num2 ,'is =',div)\n",
    "print('Floor Division of ',num1 ,'and' ,num2 ,'is =',floor_div)\n",
    "print('Exponent of ',num1 ,'and' ,num2 ,'is =',power)\n",
    "print('Modulus of ',num1 ,'and' ,num2 ,'is =',modulus)"
   ]
  },
  {
   "cell_type": "markdown",
   "id": "61d04c03",
   "metadata": {},
   "source": [
    "# 9. write a python program to take temperature in celcius and convert it into fahrenheit"
   ]
  },
  {
   "cell_type": "code",
   "execution_count": 135,
   "id": "0476a743",
   "metadata": {},
   "outputs": [
    {
     "name": "stdout",
     "output_type": "stream",
     "text": [
      "enter the temperture in celcius : 36\n",
      "Temperature in fahrenheit =  96.8\n"
     ]
    }
   ],
   "source": [
    "celcius=float(input(\"enter the temperture in celcius : \"))\n",
    "fah=(celcius*1.8)+32;\n",
    "print(\"Temperature in fahrenheit = \",fah)"
   ]
  },
  {
   "cell_type": "markdown",
   "id": "2f8dc563",
   "metadata": {},
   "source": [
    "# 10. write a python program to find min and max element in the list without using in built functions"
   ]
  },
  {
   "cell_type": "code",
   "execution_count": 137,
   "id": "a70a344a",
   "metadata": {},
   "outputs": [
    {
     "name": "stdout",
     "output_type": "stream",
     "text": [
      "maximum value in the list =  98\n",
      "minimum value in the list =  3\n"
     ]
    }
   ],
   "source": [
    "lst=[30,71,11,8,43,98,9,3]\n",
    "min_val=lst[0]\n",
    "max_val=lst[0]\n",
    "\n",
    "for i in lst:\n",
    "    if i>max_val:\n",
    "        max_val=i;\n",
    "    if i<min_val:\n",
    "        min_val=i;\n",
    "        \n",
    "print(\"maximum value in the list = \",max_val)\n",
    "print(\"minimum value in the list = \",min_val)\n",
    "        "
   ]
  },
  {
   "cell_type": "markdown",
   "id": "9f135f2d",
   "metadata": {},
   "source": [
    " # 11. write a python program to print out the number of seconds in 30-day month  days, 24 hours in a day, 60 minutes per day, 60 seconds in a minute "
   ]
  },
  {
   "cell_type": "code",
   "execution_count": 140,
   "id": "3b55c891",
   "metadata": {},
   "outputs": [
    {
     "name": "stdout",
     "output_type": "stream",
     "text": [
      "number of seconds in 30-day month 30 days =  2592000\n"
     ]
    }
   ],
   "source": [
    "days=30;\n",
    "hours=days*24;\n",
    "minutes=hours*60;\n",
    "seconds=minutes*60;\n",
    "print(\"number of seconds in 30-day month 30 days = \",seconds)"
   ]
  },
  {
   "cell_type": "markdown",
   "id": "7cb7781b",
   "metadata": {},
   "source": [
    "# 12. write a program in python to print number of seconds in year"
   ]
  },
  {
   "cell_type": "code",
   "execution_count": 141,
   "id": "72487890",
   "metadata": {},
   "outputs": [
    {
     "name": "stdout",
     "output_type": "stream",
     "text": [
      "number of seconds in year =  31536000\n"
     ]
    }
   ],
   "source": [
    "days=365;\n",
    "hours=days*24;\n",
    "minutes=hours*60;\n",
    "sec_in_year=minutes*60;\n",
    "print(\"number of seconds in year = \",sec_in_year)"
   ]
  },
  {
   "cell_type": "markdown",
   "id": "fb35a473",
   "metadata": {},
   "source": [
    "# 13. A high speed can travel at an average speed of 150mph, how long it will take train travelling at this speed to travel from london to glasgow which is 414 miles away?"
   ]
  },
  {
   "cell_type": "code",
   "execution_count": 144,
   "id": "002bd09e",
   "metadata": {},
   "outputs": [
    {
     "name": "stdout",
     "output_type": "stream",
     "text": [
      "the time taken to reach london to glasgow =  2.76 hours\n"
     ]
    }
   ],
   "source": [
    "avg_speed=150\n",
    "distance=414\n",
    "time=distance/avg_speed\n",
    "print(\"the time taken to reach london to glasgow = \",time, \"hours\")"
   ]
  },
  {
   "cell_type": "markdown",
   "id": "2c95f44a",
   "metadata": {},
   "source": [
    "# 14. write a python program that defines a variable called days_in_each_school_year and assign 192 to the variable. The program should print out the total hours that you spend in school from year 7 to year 11, if each day you spend 6 hours in school days_in_each_year=192"
   ]
  },
  {
   "cell_type": "code",
   "execution_count": 145,
   "id": "0bcef154",
   "metadata": {},
   "outputs": [
    {
     "name": "stdout",
     "output_type": "stream",
     "text": [
      "total hours spend in school from year 7 to Year 11 =  5760\n"
     ]
    }
   ],
   "source": [
    "days_in_each_year=192;\n",
    "hours=6;\n",
    "total_years=5;\n",
    "hours_spent=total_years*days_in_each_year*hours;\n",
    "print(\"total hours spend in school from year 7 to Year 11 = \",hours_spent)"
   ]
  },
  {
   "cell_type": "markdown",
   "id": "8a77ca4e",
   "metadata": {},
   "source": [
    "# 15. if the age of ram,sam and khan are input through keyboard, write python program to determine the eldest and youngest of the three."
   ]
  },
  {
   "cell_type": "code",
   "execution_count": 146,
   "id": "e5a64a23",
   "metadata": {},
   "outputs": [
    {
     "name": "stdout",
     "output_type": "stream",
     "text": [
      "enter the age of ram : 20\n",
      "enter the age of sam : 15\n",
      "enter the age of khan :34\n",
      "Khan is Eldest\n",
      "Sam is Youngest\n"
     ]
    }
   ],
   "source": [
    "ram=int(input('enter the age of ram : '))\n",
    "sam=int(input('enter the age of sam : '))\n",
    "khan=int(input('enter the age of khan :'))\n",
    "\n",
    "if ram>sam and ram>khan:\n",
    "    print('Ram is Eldest')\n",
    "elif sam>ram and sam>khan:\n",
    "    print(\"Sam is Eldest\")\n",
    "else:\n",
    "    print(\"Khan is Eldest\")\n",
    "    \n",
    "if ram<sam and ram<khan:\n",
    "    print('Ram is Youngest')\n",
    "elif sam<ram and sam<khan:\n",
    "    print(\"Sam is Youngest\")\n",
    "else:\n",
    "    print(\"Khan is Youngest\")   "
   ]
  },
  {
   "cell_type": "markdown",
   "id": "0ad3ff77",
   "metadata": {},
   "source": [
    "# 16. write a python program to rotate a list n times with and without slicing techniques"
   ]
  },
  {
   "cell_type": "code",
   "execution_count": 148,
   "id": "f5945187",
   "metadata": {},
   "outputs": [
    {
     "name": "stdout",
     "output_type": "stream",
     "text": [
      "enter n value : 3\n",
      "[11, 54, 13, 7, 19, 48, 3]\n",
      "rotated_list :  [19, 48, 3, 11, 54, 13, 7]\n"
     ]
    }
   ],
   "source": [
    "list_1=[11,54,13,7,19,48,3]\n",
    "n=int(input('enter n value : '))\n",
    "print(list_1)\n",
    "\n",
    "#with slicing\n",
    "list_1=(list_1[-n:]+list_1[:-n])\n",
    "print(\"rotated_list : \",list_1)\n"
   ]
  },
  {
   "cell_type": "code",
   "execution_count": 152,
   "id": "6fe90a86",
   "metadata": {},
   "outputs": [
    {
     "name": "stdout",
     "output_type": "stream",
     "text": [
      "enter n value : 4\n",
      "['react', 'angular', 'Python', 'C', 'SQL', 'java', 'C++']\n",
      "rotated_list :  ['C', 'SQL', 'java', 'C++', 'react', 'angular', 'Python']\n"
     ]
    }
   ],
   "source": [
    "list_2=[\"react\",\"angular\",\"Python\",'C','SQL','java','C++']\n",
    "n=int(input('enter n value : '))\n",
    "rlist_2=[]\n",
    "print(list_2)\n",
    "# without slicing\n",
    " \n",
    "for i in range(len(list_2)-n, len(list_2)):\n",
    "    rlist_2.append(list_2[i])\n",
    "\n",
    "for i in range(0, len(list_2)-n):\n",
    "    rlist_2.append(list_2[i]) \n",
    "    \n",
    "print(\"rotated_list : \",rlist_2)    \n",
    "    "
   ]
  },
  {
   "cell_type": "markdown",
   "id": "3c9ad73b",
   "metadata": {},
   "source": [
    "# 17. python programs to print the patterns given below:"
   ]
  },
  {
   "cell_type": "code",
   "execution_count": 176,
   "id": "9892a456",
   "metadata": {},
   "outputs": [
    {
     "name": "stdout",
     "output_type": "stream",
     "text": [
      "enter n value : 5\n",
      "1 \n",
      "1 1 \n",
      "1 2 1 \n",
      "1 3 3 1 \n",
      "1 4 6 4 1 \n"
     ]
    }
   ],
   "source": [
    "n=int(input(\"enter n value : \"))\n",
    "for i in range(0,n):\n",
    "        c=1\n",
    "        for k in range(0,i+1):\n",
    "            print(c,end=\" \")\n",
    "            c=c*(i-k)//(k+1)\n",
    "        #prints new line for new row\n",
    "        print()"
   ]
  },
  {
   "cell_type": "code",
   "execution_count": 179,
   "id": "ad5d39bb",
   "metadata": {},
   "outputs": [
    {
     "name": "stdout",
     "output_type": "stream",
     "text": [
      "p\n",
      "py\n",
      "pyt\n",
      "pyth\n",
      "pytho\n",
      "python\n"
     ]
    }
   ],
   "source": [
    "p=\"python\"\n",
    "t=''\n",
    "for i in p:\n",
    "    t+=i\n",
    "    print(t)"
   ]
  },
  {
   "cell_type": "code",
   "execution_count": 177,
   "id": "571231ff",
   "metadata": {},
   "outputs": [
    {
     "name": "stdout",
     "output_type": "stream",
     "text": [
      "enter the n value : 6\n",
      "* \n",
      "* * \n",
      "* * * \n",
      "* * * * \n",
      "* * * * * \n",
      "* * * * * * \n"
     ]
    }
   ],
   "source": [
    "n=int(input(\"enter the n value : \"))\n",
    "for i in range(0, n):\n",
    "    for j in range(0, i + 1):\n",
    "        print(\"*\", end=' ')\n",
    "    print(\"\\r\")"
   ]
  },
  {
   "cell_type": "code",
   "execution_count": 178,
   "id": "de754894",
   "metadata": {},
   "outputs": [
    {
     "name": "stdout",
     "output_type": "stream",
     "text": [
      "enter n value : 6\n",
      "          *  \n",
      "         * *  \n",
      "        * * *  \n",
      "       * * * *  \n",
      "      * * * * *  \n",
      "     * * * * * *  \n"
     ]
    }
   ],
   "source": [
    "n = int(input(\"enter n value : \"))\n",
    "m = (2 * n) - 2\n",
    "for i in range(0, n):\n",
    "    for j in range(0, m):\n",
    "        print(end=\" \")\n",
    "    m = m - 1\n",
    "    for j in range(0, i + 1):\n",
    "        print(\"*\", end=' ')\n",
    "    print(\" \")"
   ]
  },
  {
   "cell_type": "code",
   "execution_count": null,
   "id": "9ef904a5",
   "metadata": {},
   "outputs": [],
   "source": []
  }
 ],
 "metadata": {
  "kernelspec": {
   "display_name": "Python 3 (ipykernel)",
   "language": "python",
   "name": "python3"
  },
  "language_info": {
   "codemirror_mode": {
    "name": "ipython",
    "version": 3
   },
   "file_extension": ".py",
   "mimetype": "text/x-python",
   "name": "python",
   "nbconvert_exporter": "python",
   "pygments_lexer": "ipython3",
   "version": "3.11.4"
  }
 },
 "nbformat": 4,
 "nbformat_minor": 5
}
