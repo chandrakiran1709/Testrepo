{
 "cells": [
  {
   "cell_type": "markdown",
   "id": "f8f27e2d",
   "metadata": {},
   "source": [
    "# Implementation of Bagging using Classification model"
   ]
  },
  {
   "cell_type": "code",
   "execution_count": 1,
   "id": "e1b31108",
   "metadata": {},
   "outputs": [],
   "source": [
    "import numpy as np\n",
    "import pandas as pd\n",
    "import matplotlib.pyplot as plt\n",
    "import seaborn as sns"
   ]
  },
  {
   "cell_type": "code",
   "execution_count": 2,
   "id": "16c765d4",
   "metadata": {},
   "outputs": [
    {
     "data": {
      "text/html": [
       "<div>\n",
       "<style scoped>\n",
       "    .dataframe tbody tr th:only-of-type {\n",
       "        vertical-align: middle;\n",
       "    }\n",
       "\n",
       "    .dataframe tbody tr th {\n",
       "        vertical-align: top;\n",
       "    }\n",
       "\n",
       "    .dataframe thead th {\n",
       "        text-align: right;\n",
       "    }\n",
       "</style>\n",
       "<table border=\"1\" class=\"dataframe\">\n",
       "  <thead>\n",
       "    <tr style=\"text-align: right;\">\n",
       "      <th></th>\n",
       "      <th>Name</th>\n",
       "      <th>Age</th>\n",
       "      <th>Gender</th>\n",
       "      <th>Projects Completed</th>\n",
       "      <th>Productivity (%)</th>\n",
       "      <th>Satisfaction Rate (%)</th>\n",
       "      <th>Feedback Score</th>\n",
       "      <th>Department</th>\n",
       "      <th>Position</th>\n",
       "      <th>Joining Date</th>\n",
       "      <th>isPromoted</th>\n",
       "    </tr>\n",
       "  </thead>\n",
       "  <tbody>\n",
       "    <tr>\n",
       "      <th>0</th>\n",
       "      <td>Douglas Lindsey</td>\n",
       "      <td>25</td>\n",
       "      <td>Male</td>\n",
       "      <td>11</td>\n",
       "      <td>57</td>\n",
       "      <td>25</td>\n",
       "      <td>4.7</td>\n",
       "      <td>Marketing</td>\n",
       "      <td>Analyst</td>\n",
       "      <td>Jan-20</td>\n",
       "      <td>yes</td>\n",
       "    </tr>\n",
       "    <tr>\n",
       "      <th>1</th>\n",
       "      <td>Anthony Roberson</td>\n",
       "      <td>59</td>\n",
       "      <td>Female</td>\n",
       "      <td>19</td>\n",
       "      <td>55</td>\n",
       "      <td>76</td>\n",
       "      <td>2.8</td>\n",
       "      <td>IT</td>\n",
       "      <td>Manager</td>\n",
       "      <td>Jan-99</td>\n",
       "      <td>yes</td>\n",
       "    </tr>\n",
       "    <tr>\n",
       "      <th>2</th>\n",
       "      <td>Thomas Miller</td>\n",
       "      <td>30</td>\n",
       "      <td>Male</td>\n",
       "      <td>8</td>\n",
       "      <td>87</td>\n",
       "      <td>10</td>\n",
       "      <td>2.4</td>\n",
       "      <td>IT</td>\n",
       "      <td>Analyst</td>\n",
       "      <td>Jan-17</td>\n",
       "      <td>no</td>\n",
       "    </tr>\n",
       "    <tr>\n",
       "      <th>3</th>\n",
       "      <td>Joshua Lewis</td>\n",
       "      <td>26</td>\n",
       "      <td>Female</td>\n",
       "      <td>1</td>\n",
       "      <td>53</td>\n",
       "      <td>4</td>\n",
       "      <td>1.4</td>\n",
       "      <td>Marketing</td>\n",
       "      <td>Intern</td>\n",
       "      <td>Jan-22</td>\n",
       "      <td>no</td>\n",
       "    </tr>\n",
       "    <tr>\n",
       "      <th>4</th>\n",
       "      <td>Stephanie Bailey</td>\n",
       "      <td>43</td>\n",
       "      <td>Male</td>\n",
       "      <td>14</td>\n",
       "      <td>3</td>\n",
       "      <td>9</td>\n",
       "      <td>4.5</td>\n",
       "      <td>IT</td>\n",
       "      <td>Team Lead</td>\n",
       "      <td>Jan-05</td>\n",
       "      <td>yes</td>\n",
       "    </tr>\n",
       "  </tbody>\n",
       "</table>\n",
       "</div>"
      ],
      "text/plain": [
       "               Name  Age  Gender  Projects Completed  Productivity (%)  \\\n",
       "0   Douglas Lindsey   25    Male                  11                57   \n",
       "1  Anthony Roberson   59  Female                  19                55   \n",
       "2     Thomas Miller   30    Male                   8                87   \n",
       "3      Joshua Lewis   26  Female                   1                53   \n",
       "4  Stephanie Bailey   43    Male                  14                 3   \n",
       "\n",
       "   Satisfaction Rate (%)  Feedback Score Department   Position Joining Date  \\\n",
       "0                     25             4.7  Marketing    Analyst       Jan-20   \n",
       "1                     76             2.8         IT    Manager       Jan-99   \n",
       "2                     10             2.4         IT    Analyst       Jan-17   \n",
       "3                      4             1.4  Marketing     Intern       Jan-22   \n",
       "4                      9             4.5         IT  Team Lead       Jan-05   \n",
       "\n",
       "  isPromoted  \n",
       "0        yes  \n",
       "1        yes  \n",
       "2         no  \n",
       "3         no  \n",
       "4        yes  "
      ]
     },
     "execution_count": 2,
     "metadata": {},
     "output_type": "execute_result"
    }
   ],
   "source": [
    "data = pd.read_csv('hr_dashboard_data.csv')\n",
    "data.head()"
   ]
  },
  {
   "cell_type": "code",
   "execution_count": 3,
   "id": "105e249b",
   "metadata": {},
   "outputs": [
    {
     "data": {
      "text/html": [
       "<div>\n",
       "<style scoped>\n",
       "    .dataframe tbody tr th:only-of-type {\n",
       "        vertical-align: middle;\n",
       "    }\n",
       "\n",
       "    .dataframe tbody tr th {\n",
       "        vertical-align: top;\n",
       "    }\n",
       "\n",
       "    .dataframe thead th {\n",
       "        text-align: right;\n",
       "    }\n",
       "</style>\n",
       "<table border=\"1\" class=\"dataframe\">\n",
       "  <thead>\n",
       "    <tr style=\"text-align: right;\">\n",
       "      <th></th>\n",
       "      <th>Name</th>\n",
       "      <th>Age</th>\n",
       "      <th>Gender</th>\n",
       "      <th>Projects Completed</th>\n",
       "      <th>Productivity (%)</th>\n",
       "      <th>Satisfaction Rate (%)</th>\n",
       "      <th>Feedback Score</th>\n",
       "      <th>Department</th>\n",
       "      <th>Position</th>\n",
       "      <th>Joining Date</th>\n",
       "      <th>isPromoted</th>\n",
       "    </tr>\n",
       "  </thead>\n",
       "  <tbody>\n",
       "    <tr>\n",
       "      <th>0</th>\n",
       "      <td>54</td>\n",
       "      <td>25</td>\n",
       "      <td>1</td>\n",
       "      <td>11</td>\n",
       "      <td>57</td>\n",
       "      <td>25</td>\n",
       "      <td>4.7</td>\n",
       "      <td>3</td>\n",
       "      <td>0</td>\n",
       "      <td>20</td>\n",
       "      <td>1</td>\n",
       "    </tr>\n",
       "    <tr>\n",
       "      <th>1</th>\n",
       "      <td>17</td>\n",
       "      <td>59</td>\n",
       "      <td>0</td>\n",
       "      <td>19</td>\n",
       "      <td>55</td>\n",
       "      <td>76</td>\n",
       "      <td>2.8</td>\n",
       "      <td>2</td>\n",
       "      <td>3</td>\n",
       "      <td>24</td>\n",
       "      <td>1</td>\n",
       "    </tr>\n",
       "    <tr>\n",
       "      <th>2</th>\n",
       "      <td>183</td>\n",
       "      <td>30</td>\n",
       "      <td>1</td>\n",
       "      <td>8</td>\n",
       "      <td>87</td>\n",
       "      <td>10</td>\n",
       "      <td>2.4</td>\n",
       "      <td>2</td>\n",
       "      <td>0</td>\n",
       "      <td>17</td>\n",
       "      <td>0</td>\n",
       "    </tr>\n",
       "    <tr>\n",
       "      <th>3</th>\n",
       "      <td>98</td>\n",
       "      <td>26</td>\n",
       "      <td>0</td>\n",
       "      <td>1</td>\n",
       "      <td>53</td>\n",
       "      <td>4</td>\n",
       "      <td>1.4</td>\n",
       "      <td>3</td>\n",
       "      <td>1</td>\n",
       "      <td>22</td>\n",
       "      <td>0</td>\n",
       "    </tr>\n",
       "    <tr>\n",
       "      <th>4</th>\n",
       "      <td>171</td>\n",
       "      <td>43</td>\n",
       "      <td>1</td>\n",
       "      <td>14</td>\n",
       "      <td>3</td>\n",
       "      <td>9</td>\n",
       "      <td>4.5</td>\n",
       "      <td>2</td>\n",
       "      <td>5</td>\n",
       "      <td>5</td>\n",
       "      <td>1</td>\n",
       "    </tr>\n",
       "  </tbody>\n",
       "</table>\n",
       "</div>"
      ],
      "text/plain": [
       "   Name  Age  Gender  Projects Completed  Productivity (%)  \\\n",
       "0    54   25       1                  11                57   \n",
       "1    17   59       0                  19                55   \n",
       "2   183   30       1                   8                87   \n",
       "3    98   26       0                   1                53   \n",
       "4   171   43       1                  14                 3   \n",
       "\n",
       "   Satisfaction Rate (%)  Feedback Score  Department  Position  Joining Date  \\\n",
       "0                     25             4.7           3         0            20   \n",
       "1                     76             2.8           2         3            24   \n",
       "2                     10             2.4           2         0            17   \n",
       "3                      4             1.4           3         1            22   \n",
       "4                      9             4.5           2         5             5   \n",
       "\n",
       "   isPromoted  \n",
       "0           1  \n",
       "1           1  \n",
       "2           0  \n",
       "3           0  \n",
       "4           1  "
      ]
     },
     "execution_count": 3,
     "metadata": {},
     "output_type": "execute_result"
    }
   ],
   "source": [
    "from sklearn.preprocessing import LabelEncoder\n",
    "le=LabelEncoder()\n",
    "data['Name']=le.fit_transform(data['Name'])\n",
    "data['Gender']=le.fit_transform(data['Gender'])\n",
    "data['Department']=le.fit_transform(data['Department'])\n",
    "data['Position']=le.fit_transform(data['Position'])\n",
    "data['Joining Date']=le.fit_transform(data['Joining Date'])\n",
    "data['isPromoted']=le.fit_transform(data['isPromoted'])\n",
    "data.head()"
   ]
  },
  {
   "cell_type": "code",
   "execution_count": 4,
   "id": "c27b1bce",
   "metadata": {},
   "outputs": [
    {
     "data": {
      "text/plain": [
       "Name                     0\n",
       "Age                      0\n",
       "Gender                   0\n",
       "Projects Completed       0\n",
       "Productivity (%)         0\n",
       "Satisfaction Rate (%)    0\n",
       "Feedback Score           0\n",
       "Department               0\n",
       "Position                 0\n",
       "Joining Date             0\n",
       "isPromoted               0\n",
       "dtype: int64"
      ]
     },
     "execution_count": 4,
     "metadata": {},
     "output_type": "execute_result"
    }
   ],
   "source": [
    "data.isna().sum()"
   ]
  },
  {
   "cell_type": "code",
   "execution_count": 5,
   "id": "3cabb947",
   "metadata": {},
   "outputs": [
    {
     "data": {
      "text/plain": [
       "array([[<Axes: title={'center': 'Name'}>,\n",
       "        <Axes: title={'center': 'Age'}>,\n",
       "        <Axes: title={'center': 'Gender'}>],\n",
       "       [<Axes: title={'center': 'Projects Completed'}>,\n",
       "        <Axes: title={'center': 'Productivity (%)'}>,\n",
       "        <Axes: title={'center': 'Satisfaction Rate (%)'}>],\n",
       "       [<Axes: title={'center': 'Feedback Score'}>,\n",
       "        <Axes: title={'center': 'Department'}>,\n",
       "        <Axes: title={'center': 'Position'}>],\n",
       "       [<Axes: title={'center': 'Joining Date'}>,\n",
       "        <Axes: title={'center': 'isPromoted'}>, <Axes: >]], dtype=object)"
      ]
     },
     "execution_count": 5,
     "metadata": {},
     "output_type": "execute_result"
    },
    {
     "data": {
      "image/png": "[encoded data removed]",
      "text/plain": [
       "<Figure size 1400x1200 with 12 Axes>"
      ]
     },
     "metadata": {},
     "output_type": "display_data"
    }
   ],
   "source": [
    "data.hist(figsize=(14,12))"
   ]
  },
  {
   "cell_type": "code",
   "execution_count": 6,
   "id": "96bc6878",
   "metadata": {},
   "outputs": [
    {
     "data": {
      "text/html": [
       "<div>\n",
       "<style scoped>\n",
       "    .dataframe tbody tr th:only-of-type {\n",
       "        vertical-align: middle;\n",
       "    }\n",
       "\n",
       "    .dataframe tbody tr th {\n",
       "        vertical-align: top;\n",
       "    }\n",
       "\n",
       "    .dataframe thead th {\n",
       "        text-align: right;\n",
       "    }\n",
       "</style>\n",
       "<table border=\"1\" class=\"dataframe\">\n",
       "  <thead>\n",
       "    <tr style=\"text-align: right;\">\n",
       "      <th></th>\n",
       "      <th>Age</th>\n",
       "      <th>Gender</th>\n",
       "      <th>Projects Completed</th>\n",
       "      <th>Productivity (%)</th>\n",
       "      <th>Satisfaction Rate (%)</th>\n",
       "      <th>Feedback Score</th>\n",
       "      <th>Department</th>\n",
       "      <th>Position</th>\n",
       "      <th>Joining Date</th>\n",
       "    </tr>\n",
       "  </thead>\n",
       "  <tbody>\n",
       "    <tr>\n",
       "      <th>0</th>\n",
       "      <td>25</td>\n",
       "      <td>1</td>\n",
       "      <td>11</td>\n",
       "      <td>57</td>\n",
       "      <td>25</td>\n",
       "      <td>4.7</td>\n",
       "      <td>3</td>\n",
       "      <td>0</td>\n",
       "      <td>20</td>\n",
       "    </tr>\n",
       "    <tr>\n",
       "      <th>1</th>\n",
       "      <td>59</td>\n",
       "      <td>0</td>\n",
       "      <td>19</td>\n",
       "      <td>55</td>\n",
       "      <td>76</td>\n",
       "      <td>2.8</td>\n",
       "      <td>2</td>\n",
       "      <td>3</td>\n",
       "      <td>24</td>\n",
       "    </tr>\n",
       "    <tr>\n",
       "      <th>2</th>\n",
       "      <td>30</td>\n",
       "      <td>1</td>\n",
       "      <td>8</td>\n",
       "      <td>87</td>\n",
       "      <td>10</td>\n",
       "      <td>2.4</td>\n",
       "      <td>2</td>\n",
       "      <td>0</td>\n",
       "      <td>17</td>\n",
       "    </tr>\n",
       "    <tr>\n",
       "      <th>3</th>\n",
       "      <td>26</td>\n",
       "      <td>0</td>\n",
       "      <td>1</td>\n",
       "      <td>53</td>\n",
       "      <td>4</td>\n",
       "      <td>1.4</td>\n",
       "      <td>3</td>\n",
       "      <td>1</td>\n",
       "      <td>22</td>\n",
       "    </tr>\n",
       "    <tr>\n",
       "      <th>4</th>\n",
       "      <td>43</td>\n",
       "      <td>1</td>\n",
       "      <td>14</td>\n",
       "      <td>3</td>\n",
       "      <td>9</td>\n",
       "      <td>4.5</td>\n",
       "      <td>2</td>\n",
       "      <td>5</td>\n",
       "      <td>5</td>\n",
       "    </tr>\n",
       "    <tr>\n",
       "      <th>...</th>\n",
       "      <td>...</td>\n",
       "      <td>...</td>\n",
       "      <td>...</td>\n",
       "      <td>...</td>\n",
       "      <td>...</td>\n",
       "      <td>...</td>\n",
       "      <td>...</td>\n",
       "      <td>...</td>\n",
       "      <td>...</td>\n",
       "    </tr>\n",
       "    <tr>\n",
       "      <th>195</th>\n",
       "      <td>29</td>\n",
       "      <td>0</td>\n",
       "      <td>9</td>\n",
       "      <td>32</td>\n",
       "      <td>87</td>\n",
       "      <td>3.5</td>\n",
       "      <td>1</td>\n",
       "      <td>2</td>\n",
       "      <td>19</td>\n",
       "    </tr>\n",
       "    <tr>\n",
       "      <th>196</th>\n",
       "      <td>26</td>\n",
       "      <td>1</td>\n",
       "      <td>7</td>\n",
       "      <td>45</td>\n",
       "      <td>28</td>\n",
       "      <td>2.8</td>\n",
       "      <td>2</td>\n",
       "      <td>2</td>\n",
       "      <td>21</td>\n",
       "    </tr>\n",
       "    <tr>\n",
       "      <th>197</th>\n",
       "      <td>22</td>\n",
       "      <td>1</td>\n",
       "      <td>3</td>\n",
       "      <td>36</td>\n",
       "      <td>77</td>\n",
       "      <td>1.6</td>\n",
       "      <td>0</td>\n",
       "      <td>1</td>\n",
       "      <td>21</td>\n",
       "    </tr>\n",
       "    <tr>\n",
       "      <th>198</th>\n",
       "      <td>36</td>\n",
       "      <td>0</td>\n",
       "      <td>23</td>\n",
       "      <td>96</td>\n",
       "      <td>50</td>\n",
       "      <td>3.4</td>\n",
       "      <td>3</td>\n",
       "      <td>3</td>\n",
       "      <td>5</td>\n",
       "    </tr>\n",
       "    <tr>\n",
       "      <th>199</th>\n",
       "      <td>43</td>\n",
       "      <td>1</td>\n",
       "      <td>10</td>\n",
       "      <td>86</td>\n",
       "      <td>71</td>\n",
       "      <td>2.0</td>\n",
       "      <td>2</td>\n",
       "      <td>5</td>\n",
       "      <td>14</td>\n",
       "    </tr>\n",
       "  </tbody>\n",
       "</table>\n",
       "<p>200 rows × 9 columns</p>\n",
       "</div>"
      ],
      "text/plain": [
       "     Age  Gender  Projects Completed  Productivity (%)  Satisfaction Rate (%)  \\\n",
       "0     25       1                  11                57                     25   \n",
       "1     59       0                  19                55                     76   \n",
       "2     30       1                   8                87                     10   \n",
       "3     26       0                   1                53                      4   \n",
       "4     43       1                  14                 3                      9   \n",
       "..   ...     ...                 ...               ...                    ...   \n",
       "195   29       0                   9                32                     87   \n",
       "196   26       1                   7                45                     28   \n",
       "197   22       1                   3                36                     77   \n",
       "198   36       0                  23                96                     50   \n",
       "199   43       1                  10                86                     71   \n",
       "\n",
       "     Feedback Score  Department  Position  Joining Date  \n",
       "0               4.7           3         0            20  \n",
       "1               2.8           2         3            24  \n",
       "2               2.4           2         0            17  \n",
       "3               1.4           3         1            22  \n",
       "4               4.5           2         5             5  \n",
       "..              ...         ...       ...           ...  \n",
       "195             3.5           1         2            19  \n",
       "196             2.8           2         2            21  \n",
       "197             1.6           0         1            21  \n",
       "198             3.4           3         3             5  \n",
       "199             2.0           2         5            14  \n",
       "\n",
       "[200 rows x 9 columns]"
      ]
     },
     "execution_count": 6,
     "metadata": {},
     "output_type": "execute_result"
    }
   ],
   "source": [
    "x=data.iloc[:,1:-1]\n",
    "x"
   ]
  },
  {
   "cell_type": "code",
   "execution_count": 7,
   "id": "a7cc5bad",
   "metadata": {},
   "outputs": [
    {
     "data": {
      "text/html": [
       "<div>\n",
       "<style scoped>\n",
       "    .dataframe tbody tr th:only-of-type {\n",
       "        vertical-align: middle;\n",
       "    }\n",
       "\n",
       "    .dataframe tbody tr th {\n",
       "        vertical-align: top;\n",
       "    }\n",
       "\n",
       "    .dataframe thead th {\n",
       "        text-align: right;\n",
       "    }\n",
       "</style>\n",
       "<table border=\"1\" class=\"dataframe\">\n",
       "  <thead>\n",
       "    <tr style=\"text-align: right;\">\n",
       "      <th></th>\n",
       "      <th>isPromoted</th>\n",
       "    </tr>\n",
       "  </thead>\n",
       "  <tbody>\n",
       "    <tr>\n",
       "      <th>0</th>\n",
       "      <td>1</td>\n",
       "    </tr>\n",
       "    <tr>\n",
       "      <th>1</th>\n",
       "      <td>1</td>\n",
       "    </tr>\n",
       "    <tr>\n",
       "      <th>2</th>\n",
       "      <td>0</td>\n",
       "    </tr>\n",
       "    <tr>\n",
       "      <th>3</th>\n",
       "      <td>0</td>\n",
       "    </tr>\n",
       "    <tr>\n",
       "      <th>4</th>\n",
       "      <td>1</td>\n",
       "    </tr>\n",
       "    <tr>\n",
       "      <th>...</th>\n",
       "      <td>...</td>\n",
       "    </tr>\n",
       "    <tr>\n",
       "      <th>195</th>\n",
       "      <td>0</td>\n",
       "    </tr>\n",
       "    <tr>\n",
       "      <th>196</th>\n",
       "      <td>0</td>\n",
       "    </tr>\n",
       "    <tr>\n",
       "      <th>197</th>\n",
       "      <td>0</td>\n",
       "    </tr>\n",
       "    <tr>\n",
       "      <th>198</th>\n",
       "      <td>1</td>\n",
       "    </tr>\n",
       "    <tr>\n",
       "      <th>199</th>\n",
       "      <td>1</td>\n",
       "    </tr>\n",
       "  </tbody>\n",
       "</table>\n",
       "<p>200 rows × 1 columns</p>\n",
       "</div>"
      ],
      "text/plain": [
       "     isPromoted\n",
       "0             1\n",
       "1             1\n",
       "2             0\n",
       "3             0\n",
       "4             1\n",
       "..          ...\n",
       "195           0\n",
       "196           0\n",
       "197           0\n",
       "198           1\n",
       "199           1\n",
       "\n",
       "[200 rows x 1 columns]"
      ]
     },
     "execution_count": 7,
     "metadata": {},
     "output_type": "execute_result"
    }
   ],
   "source": [
    "y=data.iloc[:,-1:]\n",
    "y"
   ]
  },
  {
   "cell_type": "code",
   "execution_count": 8,
   "id": "bf1ff7be",
   "metadata": {},
   "outputs": [],
   "source": [
    "from sklearn.model_selection import train_test_split\n",
    "xtrain,xtest,ytrain,ytest = train_test_split(x,y,test_size=0.2,random_state=42)"
   ]
  },
  {
   "cell_type": "code",
   "execution_count": 9,
   "id": "224d90d8",
   "metadata": {},
   "outputs": [
    {
     "name": "stdout",
     "output_type": "stream",
     "text": [
      "training was completed\n",
      "\n",
      "The predicted values is :\n",
      " [0 0 1 1 0 1 0 1 1 0 0 0 0 1 1 1 0 0 0 1 0 1 1 1 0 1 1 1 1 1 1 1 1 1 1 0 0\n",
      " 0 0 0]\n"
     ]
    },
    {
     "name": "stderr",
     "output_type": "stream",
     "text": [
      "C:\\Users\\ADMIN\\anaconda3\\Lib\\site-packages\\sklearn\\utils\\validation.py:1143: DataConversionWarning: A column-vector y was passed when a 1d array was expected. Please change the shape of y to (n_samples, ), for example using ravel().\n",
      "  y = column_or_1d(y, warn=True)\n"
     ]
    }
   ],
   "source": [
    "from sklearn.naive_bayes import GaussianNB\n",
    "gas =GaussianNB()\n",
    "gas.fit(xtrain,ytrain)\n",
    "print('training was completed')\n",
    "print()\n",
    "gaspred = gas.predict(xtest)\n",
    "print('The predicted values is :\\n',gaspred)"
   ]
  },
  {
   "cell_type": "code",
   "execution_count": 10,
   "id": "01059f30",
   "metadata": {},
   "outputs": [
    {
     "name": "stdout",
     "output_type": "stream",
     "text": [
      "Accuracy Score:\t 0.65\n",
      "\n",
      "Confusion Matrix:\n",
      " [[12  8]\n",
      " [ 6 14]]\n",
      "\n",
      "Classification report :\n",
      "               precision    recall  f1-score   support\n",
      "\n",
      "           0       0.67      0.60      0.63        20\n",
      "           1       0.64      0.70      0.67        20\n",
      "\n",
      "    accuracy                           0.65        40\n",
      "   macro avg       0.65      0.65      0.65        40\n",
      "weighted avg       0.65      0.65      0.65        40\n",
      "\n"
     ]
    }
   ],
   "source": [
    "from sklearn.metrics import accuracy_score\n",
    "from sklearn.metrics import confusion_matrix\n",
    "from sklearn.metrics import classification_report\n",
    "accuracy_gas=accuracy_score(ytest,gaspred)\n",
    "print('Accuracy Score:\\t',accuracy_gas)\n",
    "print()\n",
    "print('Confusion Matrix:\\n',confusion_matrix(ytest,gaspred))\n",
    "print()\n",
    "print('Classification report :\\n',classification_report(ytest,gaspred))"
   ]
  },
  {
   "cell_type": "code",
   "execution_count": 12,
   "id": "fc08470a",
   "metadata": {},
   "outputs": [
    {
     "name": "stdout",
     "output_type": "stream",
     "text": [
      "training was completed\n",
      "\n",
      "The predicted values is :\n",
      " [0 0 1 0 0 1 0 0 0 0 0 1 0 1 1 1 1 1 0 0 0 0 1 1 0 1 0 1 1 0 0 0 0 1 1 1 1\n",
      " 0 1 0]\n"
     ]
    },
    {
     "name": "stderr",
     "output_type": "stream",
     "text": [
      "C:\\Users\\ADMIN\\anaconda3\\Lib\\site-packages\\sklearn\\utils\\validation.py:1143: DataConversionWarning: A column-vector y was passed when a 1d array was expected. Please change the shape of y to (n_samples, ), for example using ravel().\n",
      "  y = column_or_1d(y, warn=True)\n"
     ]
    }
   ],
   "source": [
    "from sklearn.naive_bayes import MultinomialNB\n",
    "mul =MultinomialNB()\n",
    "mul.fit(xtrain,ytrain)\n",
    "print('training was completed')\n",
    "print()\n",
    "mulpred = mul.predict(xtest)\n",
    "print('The predicted values is :\\n',mulpred)"
   ]
  },
  {
   "cell_type": "code",
   "execution_count": 14,
   "id": "1e71f283",
   "metadata": {},
   "outputs": [
    {
     "name": "stdout",
     "output_type": "stream",
     "text": [
      "Accuracy Score:\t 0.8\n",
      "\n",
      "Confusion Matrix:\n",
      " [[17  3]\n",
      " [ 5 15]]\n",
      "\n",
      "Classification report :\n",
      "               precision    recall  f1-score   support\n",
      "\n",
      "           0       0.77      0.85      0.81        20\n",
      "           1       0.83      0.75      0.79        20\n",
      "\n",
      "    accuracy                           0.80        40\n",
      "   macro avg       0.80      0.80      0.80        40\n",
      "weighted avg       0.80      0.80      0.80        40\n",
      "\n"
     ]
    }
   ],
   "source": [
    "accuracy_mul = accuracy_score(ytest,mulpred)\n",
    "print('Accuracy Score:\\t',accuracy_mul)\n",
    "print()\n",
    "print('Confusion Matrix:\\n',confusion_matrix(ytest,mulpred))\n",
    "print()\n",
    "print('Classification report :\\n',classification_report(ytest,mulpred))"
   ]
  },
  {
   "cell_type": "code",
   "execution_count": 17,
   "id": "5f08846f",
   "metadata": {},
   "outputs": [
    {
     "name": "stdout",
     "output_type": "stream",
     "text": [
      "training was completed\n",
      "\n",
      "The predicted values is :\n",
      " [0 1 1 1 0 1 0 0 1 1 0 0 0 1 1 0 1 1 0 1 0 1 0 1 1 1 0 0 0 1 0 1 1 1 0 0 0\n",
      " 1 1 0]\n",
      "Accuracy Score:\t 0.625\n",
      "\n",
      "Confusion Matrix:\n",
      " [[12  8]\n",
      " [ 7 13]]\n",
      "\n",
      "Classification report :\n",
      "               precision    recall  f1-score   support\n",
      "\n",
      "           0       0.63      0.60      0.62        20\n",
      "           1       0.62      0.65      0.63        20\n",
      "\n",
      "    accuracy                           0.62        40\n",
      "   macro avg       0.63      0.62      0.62        40\n",
      "weighted avg       0.63      0.62      0.62        40\n",
      "\n"
     ]
    },
    {
     "name": "stderr",
     "output_type": "stream",
     "text": [
      "C:\\Users\\ADMIN\\anaconda3\\Lib\\site-packages\\sklearn\\utils\\validation.py:1143: DataConversionWarning: A column-vector y was passed when a 1d array was expected. Please change the shape of y to (n_samples, ), for example using ravel().\n",
      "  y = column_or_1d(y, warn=True)\n"
     ]
    }
   ],
   "source": [
    "from sklearn.naive_bayes import BernoulliNB\n",
    "ber =BernoulliNB()\n",
    "ber.fit(xtrain,ytrain)\n",
    "print('training was completed')\n",
    "print()\n",
    "berpred = ber.predict(xtest)\n",
    "print('The predicted values is :\\n',berpred)\n",
    "from sklearn.metrics import accuracy_score\n",
    "from sklearn.metrics import confusion_matrix\n",
    "from sklearn.metrics import classification_report\n",
    "accuracy_ber = accuracy_score(ytest,berpred)\n",
    "print('Accuracy Score:\\t', accuracy_ber)\n",
    "print()\n",
    "print('Confusion Matrix:\\n',confusion_matrix(ytest,berpred))\n",
    "print()\n",
    "print('Classification report :\\n',classification_report(ytest,berpred))"
   ]
  },
  {
   "cell_type": "code",
   "execution_count": 20,
   "id": "f28deba2",
   "metadata": {},
   "outputs": [
    {
     "name": "stdout",
     "output_type": "stream",
     "text": [
      "****************************************************************************************************\n",
      "the predication of bag is:\n",
      " [0 0 1 1 0 1 0 1 1 0 0 0 0 1 1 1 0 0 0 1 0 1 1 1 0 1 0 1 1 1 0 1 1 1 1 0 0\n",
      " 0 0 0]\n",
      "\n",
      "****************************************************************************************************\n",
      "Accuracy Score:\t 0.65\n",
      "****************************************************************************************************\n",
      "Confusion Matrix:\n",
      " [[13  7]\n",
      " [ 7 13]]\n",
      "****************************************************************************************************\n",
      "Classification report :\n",
      "               precision    recall  f1-score   support\n",
      "\n",
      "           0       0.65      0.65      0.65        20\n",
      "           1       0.65      0.65      0.65        20\n",
      "\n",
      "    accuracy                           0.65        40\n",
      "   macro avg       0.65      0.65      0.65        40\n",
      "weighted avg       0.65      0.65      0.65        40\n",
      "\n"
     ]
    },
    {
     "name": "stderr",
     "output_type": "stream",
     "text": [
      "C:\\Users\\ADMIN\\anaconda3\\Lib\\site-packages\\sklearn\\ensemble\\_bagging.py:802: DataConversionWarning: A column-vector y was passed when a 1d array was expected. Please change the shape of y to (n_samples, ), for example using ravel().\n",
      "  y = column_or_1d(y, warn=True)\n",
      "C:\\Users\\ADMIN\\anaconda3\\Lib\\site-packages\\sklearn\\ensemble\\_base.py:166: FutureWarning: `base_estimator` was renamed to `estimator` in version 1.2 and will be removed in 1.4.\n",
      "  warnings.warn(\n"
     ]
    }
   ],
   "source": [
    "from sklearn.ensemble import BaggingClassifier\n",
    "bag = BaggingClassifier(base_estimator=gas,n_estimators=5,random_state=1)\n",
    "bag.fit(xtrain,ytrain)\n",
    "bagpred = bag.predict(xtest)\n",
    "print('*'*100)\n",
    "print('the predication of bag is:\\n',bagpred)\n",
    "print()\n",
    "print('*'*100)\n",
    "accuracy_bag = accuracy_score(ytest,bagpred)\n",
    "print('Accuracy Score:\\t',accuracy_bag)\n",
    "print('*'*100)\n",
    "print('Confusion Matrix:\\n',confusion_matrix(ytest,bagpred))\n",
    "print('*'*100)\n",
    "print('Classification report :\\n',classification_report(ytest,bagpred))"
   ]
  },
  {
   "cell_type": "code",
   "execution_count": 22,
   "id": "9f75204d",
   "metadata": {},
   "outputs": [
    {
     "name": "stdout",
     "output_type": "stream",
     "text": [
      "&&&&&&&&&&&&&&&&&&&&&&&&&&&&&&&&&&&&&&&&&&&&&&&&&&&&&&&&&&&&&&&&&&&&&&&&&&&&&&&&&&&&&&&&&&&&&&&&&&&&\n",
      "the predication of bag is:\n",
      " [0 0 1 0 0 1 0 0 0 0 0 0 0 0 1 1 0 1 0 0 0 1 1 1 0 0 0 1 0 0 0 0 1 1 0 0 1\n",
      " 0 0 0]\n",
      "\n",
      "&&&&&&&&&&&&&&&&&&&&&&&&&&&&&&&&&&&&&&&&&&&&&&&&&&&&&&&&&&&&&&&&&&&&&&&&&&&&&&&&&&&&&&&&&&&&&&&&&&&&\n",
      "Accuracy Score:\t 0.65\n",
      "&&&&&&&&&&&&&&&&&&&&&&&&&&&&&&&&&&&&&&&&&&&&&&&&&&&&&&&&&&&&&&&&&&&&&&&&&&&&&&&&&&&&&&&&&&&&&&&&&&&&\n",
      "Confusion Matrix:\n",
      " [[17  3]\n",
      " [11  9]]\n",
      "&&&&&&&&&&&&&&&&&&&&&&&&&&&&&&&&&&&&&&&&&&&&&&&&&&&&&&&&&&&&&&&&&&&&&&&&&&&&&&&&&&&&&&&&&&&&&&&&&&&&\n",
      "Classification report :\n",
      "               precision    recall  f1-score   support\n",
      "\n",
      "           0       0.61      0.85      0.71        20\n",
      "           1       0.75      0.45      0.56        20\n",
      "\n",
      "    accuracy                           0.65        40\n",
      "   macro avg       0.68      0.65      0.64        40\n",
      "weighted avg       0.68      0.65      0.64        40\n",
      "\n"
     ]
    },
    {
     "name": "stderr",
     "output_type": "stream",
     "text": [
      "C:\\Users\\ADMIN\\AppData\\Local\\Temp\\ipykernel_7852\\2945233237.py:3: DataConversionWarning: A column-vector y was passed when a 1d array was expected. Please change the shape of y to (n_samples,), for example using ravel().\n",
      "  ran.fit(xtrain,ytrain)\n"
     ]
    }
   ],
   "source": [
    "from sklearn.ensemble import RandomForestClassifier\n",
    "ran = RandomForestClassifier(n_estimators=10,random_state=1)\n",
    "ran.fit(xtrain,ytrain)\n",
    "ranpred = ran.predict(xtest)\n",
    "print('&'*100)\n",
    "print('the predication of bag is:\\n',ranpred)\n",
    "print()\n",
    "print('&'*100)\n",
    "accuracy_ran = accuracy_score(ytest,ranpred)\n",
    "print('Accuracy Score:\\t',accuracy_ran)\n",
    "print('&'*100)\n",
    "print('Confusion Matrix:\\n',confusion_matrix(ytest,ranpred))\n",
    "print('&'*100)\n",
    "print('Classification report :\\n',classification_report(ytest,ranpred))"
   ]
  },
  {
   "cell_type": "code",
   "execution_count": null,
   "id": "aa21495b",
   "metadata": {},
   "outputs": [],
   "source": []
  },
  {
   "cell_type": "code",
   "execution_count": 25,
   "id": "e92bc766",
   "metadata": {},
   "outputs": [
    {
     "name": "stdout",
     "output_type": "stream",
     "text": [
      "building tree 1 of 10\n",
      "building tree 2 of 10\n",
      "building tree 3 of 10\n",
      "building tree 4 of 10\n",
      "building tree 5 of 10\n",
      "building tree 6 of 10\n",
      "building tree 7 of 10\n",
      "building tree 8 of 10\n",
      "building tree 9 of 10\n",
      "building tree 10 of 10\n",
      "****************************************************************************************************\n",
      "the predication of bag is:\n",
      " [0 0 0 0 0 1 0 0 0 0 0 0 0 0 0 1 0 0 0 0 0 1 1 1 0 1 0 1 1 0 0 0 0 1 1 1 0\n",
      " 0 0 0]\n",
      "\n",
      "****************************************************************************************************\n",
      "Accuracy Score:\t 0.625\n",
      "****************************************************************************************************\n",
      "Confusion Matrix:\n",
      " [[17  3]\n",
      " [12  8]]\n",
      "****************************************************************************************************\n",
      "Classification report :\n",
      "               precision    recall  f1-score   support\n",
      "\n",
      "           0       0.59      0.85      0.69        20\n",
      "           1       0.73      0.40      0.52        20\n",
      "\n",
      "    accuracy                           0.62        40\n",
      "   macro avg       0.66      0.62      0.61        40\n",
      "weighted avg       0.66      0.62      0.61        40\n",
      "\n"
     ]
    },
    {
     "name": "stderr",
     "output_type": "stream",
     "text": [
      "C:\\Users\\ADMIN\\AppData\\Local\\Temp\\ipykernel_7852\\1781233587.py:4: DataConversionWarning: A column-vector y was passed when a 1d array was expected. Please change the shape of y to (n_samples,), for example using ravel().\n",
      "  et.fit(xtrain,ytrain)\n",
      "[Parallel(n_jobs=1)]: Using backend SequentialBackend with 1 concurrent workers.\n",
      "[Parallel(n_jobs=1)]: Done   1 out of   1 | elapsed:    0.0s remaining:    0.0s\n",
      "[Parallel(n_jobs=1)]: Done  10 out of  10 | elapsed:    0.0s finished\n",
      "[Parallel(n_jobs=1)]: Using backend SequentialBackend with 1 concurrent workers.\n",
      "[Parallel(n_jobs=1)]: Done   1 out of   1 | elapsed:    0.0s remaining:    0.0s\n",
      "[Parallel(n_jobs=1)]: Done  10 out of  10 | elapsed:    0.0s finished\n"
     ]
    }
   ],
   "source": [
    "from sklearn.ensemble import ExtraTreesClassifier\n",
    "et = ExtraTreesClassifier(n_estimators=10,bootstrap=True,verbose=2)\n",
    "\n",
    "et.fit(xtrain,ytrain)\n",
    "etpred = et.predict(xtest)\n",
    "print('*'*100)\n",
    "print('the predication of bag is:\\n',etpred)\n",
    "print()\n",
    "print('*'*100)\n",
    "accuracy_et = accuracy_score(ytest,etpred)\n",
    "print('Accuracy Score:\\t',accuracy_et)\n",
    "print('*'*100)\n",
    "print('Confusion Matrix:\\n',confusion_matrix(ytest,etpred))\n",
    "print('*'*100)\n",
    "print('Classification report :\\n',classification_report(ytest,etpred))"
   ]
  },
  {
   "cell_type": "code",
   "execution_count": 28,
   "id": "12928b0c",
   "metadata": {},
   "outputs": [
    {
     "name": "stdout",
     "output_type": "stream",
     "text": [
      "Accuracy Score: 0.65\n",
      "Confusion Matrix:\n",
      " [[17  3]\n",
      " [11  9]]\n",
      "Classification Report:\n",
      "               precision    recall  f1-score   support\n",
      "\n",
      "           0       0.61      0.85      0.71        20\n",
      "           1       0.75      0.45      0.56        20\n",
      "\n",
      "    accuracy                           0.65        40\n",
      "   macro avg       0.68      0.65      0.64        40\n",
      "weighted avg       0.68      0.65      0.64        40\n",
      "\n"
     ]
    },
    {
     "name": "stderr",
     "output_type": "stream",
     "text": [
      "C:\\Users\\ADMIN\\AppData\\Local\\Temp\\ipykernel_7852\\4235537467.py:4: DataConversionWarning: A column-vector y was passed when a 1d array was expected. Please change the shape of y to (n_samples,), for example using ravel().\n",
      "  rand_for_1.fit(xtrain, ytrain)\n"
     ]
    }
   ],
   "source": [
    "from sklearn.ensemble import RandomForestClassifier\n",
    "from sklearn.metrics import accuracy_score, confusion_matrix, classification_report\n",
    "rand_for_1 = RandomForestClassifier(n_estimators=10, random_state=1, max_depth=None)\n",
    "rand_for_1.fit(xtrain, ytrain)\n",
    "ypred_rand_1 = rand_for_1.predict(xtest)\n",
    "\n",
    "accuracy_rand_1 = accuracy_score(ytest, ypred_rand_1)\n",
    "print(\"Accuracy Score:\", accuracy_rand_1)\n",
    "print(\"Confusion Matrix:\\n\", confusion_matrix(ytest, ypred_rand_1))\n",
    "print(\"Classification Report:\\n\", classification_report(ytest, ypred_rand_1))"
   ]
  },
  {
   "cell_type": "code",
   "execution_count": 30,
   "id": "27036a41",
   "metadata": {},
   "outputs": [
    {
     "name": "stdout",
     "output_type": "stream",
     "text": [
      "                                  Model  Accuracy_score\n",
      "1                        Multinomial NB           0.800\n",
      "0                           Gaussian_NB           0.650\n",
      "3                    Bagging classifier           0.650\n",
      "4               RandomForest Classifier           0.650\n",
      "5  RandomForest Classifier with pruning           0.650\n",
      "2                          Bernoulli NB           0.625\n",
      "6                 ExtraTrees Classifier           0.625\n"
     ]
    }
   ],
   "source": [
    "from sklearn.metrics import accuracy_score\n",
    "\n",
    "scores = [\n",
    "    ('Gaussian_NB', accuracy_gas),\n",
    "    ('Multinomial NB', accuracy_mul),\n",
    "    ('Bernoulli NB', accuracy_ber),\n",
    "    ('Bagging classifier', accuracy_bag),\n",
    "    ('RandomForest Classifier', accuracy_ran),\n",
    "    ('RandomForest Classifier with pruning', accuracy_rand_1),\n",
    "    ('ExtraTrees Classifier', accuracy_et)\n",
    "]\n",
    "\n",
    "\n",
    "Acc_scores = pd.DataFrame(scores, columns=['Model', 'Accuracy_score'])\n",
    "\n",
    "\n",
    "print(Acc_scores.sort_values(by='Accuracy_score', ascending=False))"
   ]
  },
  {
   "cell_type": "code",
   "execution_count": 31,
   "id": "640cf500",
   "metadata": {},
   "outputs": [
    {
     "data": {
      "text/plain": [
       "([0, 1, 2, 3, 4, 5, 6],\n",
       " [Text(0, 0, 'Gaussian_NB'),\n",
       "  Text(1, 0, 'Multinomial NB'),\n",
       "  Text(2, 0, 'Bernoulli NB'),\n",
       "  Text(3, 0, 'Bagging classifier'),\n",
       "  Text(4, 0, 'RandomForest Classifier'),\n",
       "  Text(5, 0, 'RandomForest Classifier with pruning'),\n",
       "  Text(6, 0, 'ExtraTrees Classifier')])"
      ]
     },
     "execution_count": 31,
     "metadata": {},
     "output_type": "execute_result"
    },
    {
     "data": {
      "image/png": "[encoded data removed]",
      "text/plain": [
       "<Figure size 640x480 with 1 Axes>"
      ]
     },
     "metadata": {},
     "output_type": "display_data"
    }
   ],
   "source": [
    "sns.lineplot(x=Acc_scores['Model'],y=Acc_scores['Accuracy_score'],data=Acc_scores)\n",
    "plt.xticks(rotation=90)"
   ]
  },
  {
   "cell_type": "markdown",
   "id": "17d28199",
   "metadata": {},
   "source": [
    "#  Implementation of Bagging using Regression model"
   ]
  },
  {
   "cell_type": "code",
   "execution_count": 32,
   "id": "ea6ee58a",
   "metadata": {},
   "outputs": [
    {
     "data": {
      "text/html": [
       "<div>\n",
       "<style scoped>\n",
       "    .dataframe tbody tr th:only-of-type {\n",
       "        vertical-align: middle;\n",
       "    }\n",
       "\n",
       "    .dataframe tbody tr th {\n",
       "        vertical-align: top;\n",
       "    }\n",
       "\n",
       "    .dataframe thead th {\n",
       "        text-align: right;\n",
       "    }\n",
       "</style>\n",
       "<table border=\"1\" class=\"dataframe\">\n",
       "  <thead>\n",
       "    <tr style=\"text-align: right;\">\n",
       "      <th></th>\n",
       "      <th>Name</th>\n",
       "      <th>Age</th>\n",
       "      <th>Gender</th>\n",
       "      <th>Projects Completed</th>\n",
       "      <th>Productivity (%)</th>\n",
       "      <th>Satisfaction Rate (%)</th>\n",
       "      <th>Feedback Score</th>\n",
       "      <th>Department</th>\n",
       "      <th>Position</th>\n",
       "      <th>Joining Date</th>\n",
       "      <th>isPromoted</th>\n",
       "    </tr>\n",
       "  </thead>\n",
       "  <tbody>\n",
       "    <tr>\n",
       "      <th>0</th>\n",
       "      <td>Douglas Lindsey</td>\n",
       "      <td>25</td>\n",
       "      <td>Male</td>\n",
       "      <td>11</td>\n",
       "      <td>57</td>\n",
       "      <td>25</td>\n",
       "      <td>4.7</td>\n",
       "      <td>Marketing</td>\n",
       "      <td>Analyst</td>\n",
       "      <td>Jan-20</td>\n",
       "      <td>yes</td>\n",
       "    </tr>\n",
       "    <tr>\n",
       "      <th>1</th>\n",
       "      <td>Anthony Roberson</td>\n",
       "      <td>59</td>\n",
       "      <td>Female</td>\n",
       "      <td>19</td>\n",
       "      <td>55</td>\n",
       "      <td>76</td>\n",
       "      <td>2.8</td>\n",
       "      <td>IT</td>\n",
       "      <td>Manager</td>\n",
       "      <td>Jan-99</td>\n",
       "      <td>yes</td>\n",
       "    </tr>\n",
       "    <tr>\n",
       "      <th>2</th>\n",
       "      <td>Thomas Miller</td>\n",
       "      <td>30</td>\n",
       "      <td>Male</td>\n",
       "      <td>8</td>\n",
       "      <td>87</td>\n",
       "      <td>10</td>\n",
       "      <td>2.4</td>\n",
       "      <td>IT</td>\n",
       "      <td>Analyst</td>\n",
       "      <td>Jan-17</td>\n",
       "      <td>no</td>\n",
       "    </tr>\n",
       "    <tr>\n",
       "      <th>3</th>\n",
       "      <td>Joshua Lewis</td>\n",
       "      <td>26</td>\n",
       "      <td>Female</td>\n",
       "      <td>1</td>\n",
       "      <td>53</td>\n",
       "      <td>4</td>\n",
       "      <td>1.4</td>\n",
       "      <td>Marketing</td>\n",
       "      <td>Intern</td>\n",
       "      <td>Jan-22</td>\n",
       "      <td>no</td>\n",
       "    </tr>\n",
       "    <tr>\n",
       "      <th>4</th>\n",
       "      <td>Stephanie Bailey</td>\n",
       "      <td>43</td>\n",
       "      <td>Male</td>\n",
       "      <td>14</td>\n",
       "      <td>3</td>\n",
       "      <td>9</td>\n",
       "      <td>4.5</td>\n",
       "      <td>IT</td>\n",
       "      <td>Team Lead</td>\n",
       "      <td>Jan-05</td>\n",
       "      <td>yes</td>\n",
       "    </tr>\n",
       "  </tbody>\n",
       "</table>\n",
       "</div>"
      ],
      "text/plain": [
       "               Name  Age  Gender  Projects Completed  Productivity (%)  \\\n",
       "0   Douglas Lindsey   25    Male                  11                57   \n",
       "1  Anthony Roberson   59  Female                  19                55   \n",
       "2     Thomas Miller   30    Male                   8                87   \n",
       "3      Joshua Lewis   26  Female                   1                53   \n",
       "4  Stephanie Bailey   43    Male                  14                 3   \n",
       "\n",
       "   Satisfaction Rate (%)  Feedback Score Department   Position Joining Date  \\\n",
       "0                     25             4.7  Marketing    Analyst       Jan-20   \n",
       "1                     76             2.8         IT    Manager       Jan-99   \n",
       "2                     10             2.4         IT    Analyst       Jan-17   \n",
       "3                      4             1.4  Marketing     Intern       Jan-22   \n",
       "4                      9             4.5         IT  Team Lead       Jan-05   \n",
       "\n",
       "  isPromoted  \n",
       "0        yes  \n",
       "1        yes  \n",
       "2         no  \n",
       "3         no  \n",
       "4        yes  "
      ]
     },
     "execution_count": 32,
     "metadata": {},
     "output_type": "execute_result"
    }
   ],
   "source": [
    "data = pd.read_csv('hr_dashboard_data.csv')\n",
    "data.head()"
   ]
  },
  {
   "cell_type": "code",
   "execution_count": 34,
   "id": "f635ac5c",
   "metadata": {},
   "outputs": [
    {
     "data": {
      "text/html": [
       "<div>\n",
       "<style scoped>\n",
       "    .dataframe tbody tr th:only-of-type {\n",
       "        vertical-align: middle;\n",
       "    }\n",
       "\n",
       "    .dataframe tbody tr th {\n",
       "        vertical-align: top;\n",
       "    }\n",
       "\n",
       "    .dataframe thead th {\n",
       "        text-align: right;\n",
       "    }\n",
       "</style>\n",
       "<table border=\"1\" class=\"dataframe\">\n",
       "  <thead>\n",
       "    <tr style=\"text-align: right;\">\n",
       "      <th></th>\n",
       "      <th>Name</th>\n",
       "      <th>Age</th>\n",
       "      <th>Gender</th>\n",
       "      <th>Projects Completed</th>\n",
       "      <th>Productivity (%)</th>\n",
       "      <th>Satisfaction Rate (%)</th>\n",
       "      <th>Feedback Score</th>\n",
       "      <th>Department</th>\n",
       "      <th>Position</th>\n",
       "      <th>Joining Date</th>\n",
       "      <th>isPromoted</th>\n",
       "    </tr>\n",
       "  </thead>\n",
       "  <tbody>\n",
       "    <tr>\n",
       "      <th>0</th>\n",
       "      <td>54</td>\n",
       "      <td>25</td>\n",
       "      <td>1</td>\n",
       "      <td>11</td>\n",
       "      <td>57</td>\n",
       "      <td>25</td>\n",
       "      <td>4.7</td>\n",
       "      <td>3</td>\n",
       "      <td>0</td>\n",
       "      <td>20</td>\n",
       "      <td>1</td>\n",
       "    </tr>\n",
       "    <tr>\n",
       "      <th>1</th>\n",
       "      <td>17</td>\n",
       "      <td>59</td>\n",
       "      <td>0</td>\n",
       "      <td>19</td>\n",
       "      <td>55</td>\n",
       "      <td>76</td>\n",
       "      <td>2.8</td>\n",
       "      <td>2</td>\n",
       "      <td>3</td>\n",
       "      <td>24</td>\n",
       "      <td>1</td>\n",
       "    </tr>\n",
       "    <tr>\n",
       "      <th>2</th>\n",
       "      <td>183</td>\n",
       "      <td>30</td>\n",
       "      <td>1</td>\n",
       "      <td>8</td>\n",
       "      <td>87</td>\n",
       "      <td>10</td>\n",
       "      <td>2.4</td>\n",
       "      <td>2</td>\n",
       "      <td>0</td>\n",
       "      <td>17</td>\n",
       "      <td>0</td>\n",
       "    </tr>\n",
       "    <tr>\n",
       "      <th>3</th>\n",
       "      <td>98</td>\n",
       "      <td>26</td>\n",
       "      <td>0</td>\n",
       "      <td>1</td>\n",
       "      <td>53</td>\n",
       "      <td>4</td>\n",
       "      <td>1.4</td>\n",
       "      <td>3</td>\n",
       "      <td>1</td>\n",
       "      <td>22</td>\n",
       "      <td>0</td>\n",
       "    </tr>\n",
       "    <tr>\n",
       "      <th>4</th>\n",
       "      <td>171</td>\n",
       "      <td>43</td>\n",
       "      <td>1</td>\n",
       "      <td>14</td>\n",
       "      <td>3</td>\n",
       "      <td>9</td>\n",
       "      <td>4.5</td>\n",
       "      <td>2</td>\n",
       "      <td>5</td>\n",
       "      <td>5</td>\n",
       "      <td>1</td>\n",
       "    </tr>\n",
       "  </tbody>\n",
       "</table>\n",
       "</div>"
      ],
      "text/plain": [
       "   Name  Age  Gender  Projects Completed  Productivity (%)  \\\n",
       "0    54   25       1                  11                57   \n",
       "1    17   59       0                  19                55   \n",
       "2   183   30       1                   8                87   \n",
       "3    98   26       0                   1                53   \n",
       "4   171   43       1                  14                 3   \n",
       "\n",
       "   Satisfaction Rate (%)  Feedback Score  Department  Position  Joining Date  \\\n",
       "0                     25             4.7           3         0            20   \n",
       "1                     76             2.8           2         3            24   \n",
       "2                     10             2.4           2         0            17   \n",
       "3                      4             1.4           3         1            22   \n",
       "4                      9             4.5           2         5             5   \n",
       "\n",
       "   isPromoted  \n",
       "0           1  \n",
       "1           1  \n",
       "2           0  \n",
       "3           0  \n",
       "4           1  "
      ]
     },
     "execution_count": 34,
     "metadata": {},
     "output_type": "execute_result"
    }
   ],
   "source": [
    "from sklearn.preprocessing import LabelEncoder\n",
    "le=LabelEncoder()\n",
    "data['Name']=le.fit_transform(data['Name'])\n",
    "data['Gender']=le.fit_transform(data['Gender'])\n",
    "data['Department']=le.fit_transform(data['Department'])\n",
    "data['Position']=le.fit_transform(data['Position'])\n",
    "data['Joining Date']=le.fit_transform(data['Joining Date'])\n",
    "data['isPromoted']=le.fit_transform(data['isPromoted'])\n",
    "data.head()"
   ]
  },
  {
   "cell_type": "code",
   "execution_count": 35,
   "id": "2821aaf1",
   "metadata": {},
   "outputs": [
    {
     "data": {
      "text/plain": [
       "Name                     0\n",
       "Age                      0\n",
       "Gender                   0\n",
       "Projects Completed       0\n",
       "Productivity (%)         0\n",
       "Satisfaction Rate (%)    0\n",
       "Feedback Score           0\n",
       "Department               0\n",
       "Position                 0\n",
       "Joining Date             0\n",
       "isPromoted               0\n",
       "dtype: int64"
      ]
     },
     "execution_count": 35,
     "metadata": {},
     "output_type": "execute_result"
    },
    {
     "data": {
      "image/png": "[encoded data removed]",
      "text/plain": [
       "<Figure size 1300x1500 with 12 Axes>"
      ]
     },
     "metadata": {},
     "output_type": "display_data"
    }
   ],
   "source": [
    "data.hist(figsize=(13,15))\n",
    "sns.countplot(data=data,x='isPromoted')\n",
    "data.isna().sum()"
   ]
  },
  {
   "cell_type": "code",
   "execution_count": 36,
   "id": "910726e3",
   "metadata": {},
   "outputs": [
    {
     "data": {
      "text/html": [
       "<div>\n",
       "<style scoped>\n",
       "    .dataframe tbody tr th:only-of-type {\n",
       "        vertical-align: middle;\n",
       "    }\n",
       "\n",
       "    .dataframe tbody tr th {\n",
       "        vertical-align: top;\n",
       "    }\n",
       "\n",
       "    .dataframe thead th {\n",
       "        text-align: right;\n",
       "    }\n",
       "</style>\n",
       "<table border=\"1\" class=\"dataframe\">\n",
       "  <thead>\n",
       "    <tr style=\"text-align: right;\">\n",
       "      <th></th>\n",
       "      <th>Age</th>\n",
       "      <th>Gender</th>\n",
       "      <th>Projects Completed</th>\n",
       "      <th>Productivity (%)</th>\n",
       "      <th>Satisfaction Rate (%)</th>\n",
       "      <th>Feedback Score</th>\n",
       "      <th>Department</th>\n",
       "      <th>Position</th>\n",
       "      <th>Joining Date</th>\n",
       "    </tr>\n",
       "  </thead>\n",
       "  <tbody>\n",
       "    <tr>\n",
       "      <th>0</th>\n",
       "      <td>25</td>\n",
       "      <td>1</td>\n",
       "      <td>11</td>\n",
       "      <td>57</td>\n",
       "      <td>25</td>\n",
       "      <td>4.7</td>\n",
       "      <td>3</td>\n",
       "      <td>0</td>\n",
       "      <td>20</td>\n",
       "    </tr>\n",
       "    <tr>\n",
       "      <th>1</th>\n",
       "      <td>59</td>\n",
       "      <td>0</td>\n",
       "      <td>19</td>\n",
       "      <td>55</td>\n",
       "      <td>76</td>\n",
       "      <td>2.8</td>\n",
       "      <td>2</td>\n",
       "      <td>3</td>\n",
       "      <td>24</td>\n",
       "    </tr>\n",
       "    <tr>\n",
       "      <th>2</th>\n",
       "      <td>30</td>\n",
       "      <td>1</td>\n",
       "      <td>8</td>\n",
       "      <td>87</td>\n",
       "      <td>10</td>\n",
       "      <td>2.4</td>\n",
       "      <td>2</td>\n",
       "      <td>0</td>\n",
       "      <td>17</td>\n",
       "    </tr>\n",
       "    <tr>\n",
       "      <th>3</th>\n",
       "      <td>26</td>\n",
       "      <td>0</td>\n",
       "      <td>1</td>\n",
       "      <td>53</td>\n",
       "      <td>4</td>\n",
       "      <td>1.4</td>\n",
       "      <td>3</td>\n",
       "      <td>1</td>\n",
       "      <td>22</td>\n",
       "    </tr>\n",
       "    <tr>\n",
       "      <th>4</th>\n",
       "      <td>43</td>\n",
       "      <td>1</td>\n",
       "      <td>14</td>\n",
       "      <td>3</td>\n",
       "      <td>9</td>\n",
       "      <td>4.5</td>\n",
       "      <td>2</td>\n",
       "      <td>5</td>\n",
       "      <td>5</td>\n",
       "    </tr>\n",
       "    <tr>\n",
       "      <th>...</th>\n",
       "      <td>...</td>\n",
       "      <td>...</td>\n",
       "      <td>...</td>\n",
       "      <td>...</td>\n",
       "      <td>...</td>\n",
       "      <td>...</td>\n",
       "      <td>...</td>\n",
       "      <td>...</td>\n",
       "      <td>...</td>\n",
       "    </tr>\n",
       "    <tr>\n",
       "      <th>195</th>\n",
       "      <td>29</td>\n",
       "      <td>0</td>\n",
       "      <td>9</td>\n",
       "      <td>32</td>\n",
       "      <td>87</td>\n",
       "      <td>3.5</td>\n",
       "      <td>1</td>\n",
       "      <td>2</td>\n",
       "      <td>19</td>\n",
       "    </tr>\n",
       "    <tr>\n",
       "      <th>196</th>\n",
       "      <td>26</td>\n",
       "      <td>1</td>\n",
       "      <td>7</td>\n",
       "      <td>45</td>\n",
       "      <td>28</td>\n",
       "      <td>2.8</td>\n",
       "      <td>2</td>\n",
       "      <td>2</td>\n",
       "      <td>21</td>\n",
       "    </tr>\n",
       "    <tr>\n",
       "      <th>197</th>\n",
       "      <td>22</td>\n",
       "      <td>1</td>\n",
       "      <td>3</td>\n",
       "      <td>36</td>\n",
       "      <td>77</td>\n",
       "      <td>1.6</td>\n",
       "      <td>0</td>\n",
       "      <td>1</td>\n",
       "      <td>21</td>\n",
       "    </tr>\n",
       "    <tr>\n",
       "      <th>198</th>\n",
       "      <td>36</td>\n",
       "      <td>0</td>\n",
       "      <td>23</td>\n",
       "      <td>96</td>\n",
       "      <td>50</td>\n",
       "      <td>3.4</td>\n",
       "      <td>3</td>\n",
       "      <td>3</td>\n",
       "      <td>5</td>\n",
       "    </tr>\n",
       "    <tr>\n",
       "      <th>199</th>\n",
       "      <td>43</td>\n",
       "      <td>1</td>\n",
       "      <td>10</td>\n",
       "      <td>86</td>\n",
       "      <td>71</td>\n",
       "      <td>2.0</td>\n",
       "      <td>2</td>\n",
       "      <td>5</td>\n",
       "      <td>14</td>\n",
       "    </tr>\n",
       "  </tbody>\n",
       "</table>\n",
       "<p>200 rows × 9 columns</p>\n",
       "</div>"
      ],
      "text/plain": [
       "     Age  Gender  Projects Completed  Productivity (%)  Satisfaction Rate (%)  \\\n",
       "0     25       1                  11                57                     25   \n",
       "1     59       0                  19                55                     76   \n",
       "2     30       1                   8                87                     10   \n",
       "3     26       0                   1                53                      4   \n",
       "4     43       1                  14                 3                      9   \n",
       "..   ...     ...                 ...               ...                    ...   \n",
       "195   29       0                   9                32                     87   \n",
       "196   26       1                   7                45                     28   \n",
       "197   22       1                   3                36                     77   \n",
       "198   36       0                  23                96                     50   \n",
       "199   43       1                  10                86                     71   \n",
       "\n",
       "     Feedback Score  Department  Position  Joining Date  \n",
       "0               4.7           3         0            20  \n",
       "1               2.8           2         3            24  \n",
       "2               2.4           2         0            17  \n",
       "3               1.4           3         1            22  \n",
       "4               4.5           2         5             5  \n",
       "..              ...         ...       ...           ...  \n",
       "195             3.5           1         2            19  \n",
       "196             2.8           2         2            21  \n",
       "197             1.6           0         1            21  \n",
       "198             3.4           3         3             5  \n",
       "199             2.0           2         5            14  \n",
       "\n",
       "[200 rows x 9 columns]"
      ]
     },
     "execution_count": 36,
     "metadata": {},
     "output_type": "execute_result"
    }
   ],
   "source": [
    "x=data.iloc[:,1:-1]\n",
    "x"
   ]
  },
  {
   "cell_type": "code",
   "execution_count": 37,
   "id": "14ca8a15",
   "metadata": {},
   "outputs": [
    {
     "data": {
      "text/html": [
       "<div>\n",
       "<style scoped>\n",
       "    .dataframe tbody tr th:only-of-type {\n",
       "        vertical-align: middle;\n",
       "    }\n",
       "\n",
       "    .dataframe tbody tr th {\n",
       "        vertical-align: top;\n",
       "    }\n",
       "\n",
       "    .dataframe thead th {\n",
       "        text-align: right;\n",
       "    }\n",
       "</style>\n",
       "<table border=\"1\" class=\"dataframe\">\n",
       "  <thead>\n",
       "    <tr style=\"text-align: right;\">\n",
       "      <th></th>\n",
       "      <th>isPromoted</th>\n",
       "    </tr>\n",
       "  </thead>\n",
       "  <tbody>\n",
       "    <tr>\n",
       "      <th>0</th>\n",
       "      <td>1</td>\n",
       "    </tr>\n",
       "    <tr>\n",
       "      <th>1</th>\n",
       "      <td>1</td>\n",
       "    </tr>\n",
       "    <tr>\n",
       "      <th>2</th>\n",
       "      <td>0</td>\n",
       "    </tr>\n",
       "    <tr>\n",
       "      <th>3</th>\n",
       "      <td>0</td>\n",
       "    </tr>\n",
       "    <tr>\n",
       "      <th>4</th>\n",
       "      <td>1</td>\n",
       "    </tr>\n",
       "    <tr>\n",
       "      <th>...</th>\n",
       "      <td>...</td>\n",
       "    </tr>\n",
       "    <tr>\n",
       "      <th>195</th>\n",
       "      <td>0</td>\n",
       "    </tr>\n",
       "    <tr>\n",
       "      <th>196</th>\n",
       "      <td>0</td>\n",
       "    </tr>\n",
       "    <tr>\n",
       "      <th>197</th>\n",
       "      <td>0</td>\n",
       "    </tr>\n",
       "    <tr>\n",
       "      <th>198</th>\n",
       "      <td>1</td>\n",
       "    </tr>\n",
       "    <tr>\n",
       "      <th>199</th>\n",
       "      <td>1</td>\n",
       "    </tr>\n",
       "  </tbody>\n",
       "</table>\n",
       "<p>200 rows × 1 columns</p>\n",
       "</div>"
      ],
      "text/plain": [
       "     isPromoted\n",
       "0             1\n",
       "1             1\n",
       "2             0\n",
       "3             0\n",
       "4             1\n",
       "..          ...\n",
       "195           0\n",
       "196           0\n",
       "197           0\n",
       "198           1\n",
       "199           1\n",
       "\n",
       "[200 rows x 1 columns]"
      ]
     },
     "execution_count": 37,
     "metadata": {},
     "output_type": "execute_result"
    }
   ],
   "source": [
    "y=data.iloc[:,-1:]\n",
    "y"
   ]
  },
  {
   "cell_type": "code",
   "execution_count": 39,
   "id": "aa501f8b",
   "metadata": {},
   "outputs": [
    {
     "name": "stdout",
     "output_type": "stream",
     "text": [
      "****************Training Data Shape********************\n",
      "\n",
      "Training data-X- Shape:\t (160, 9)\n",
      "\n",
      "Training data-y- Shape:\t (160, 1)\n",
      "\n",
      "****************Testing Data Shape********************\n",
      "\n",
      "Testing data(x-Input) Shape:\t (40, 9)\n",
      "\n",
      "Testing data(y-Outcome) Shape:\t (40, 1)\n"
     ]
    }
   ],
   "source": [
    "xtrain,xtest,ytrain,ytest=train_test_split(x,y,test_size=0.2,random_state=20)\n",
    "print('****************Training Data Shape********************\\n')\n",
    "print('Training data-X- Shape:\\t',xtrain.shape)\n",
    "print()\n",
    "print('Training data-y- Shape:\\t',ytrain.shape)\n",
    "print()\n",
    "print('****************Testing Data Shape********************\\n')\n",
    "print('Testing data(x-Input) Shape:\\t',xtest.shape)\n",
    "print()\n",
    "print('Testing data(y-Outcome) Shape:\\t',ytest.shape)"
   ]
  },
  {
   "cell_type": "markdown",
   "id": "20cb5729",
   "metadata": {},
   "source": [
    "# 1. Linear Regression Model "
   ]
  },
  {
   "cell_type": "code",
   "execution_count": 40,
   "id": "86957f74",
   "metadata": {},
   "outputs": [
    {
     "name": "stdout",
     "output_type": "stream",
     "text": [
      "****************************************************************************************************\n",
      "Linear Regression Model\n",
      "****************************************************************************************************\n",
      "\n",
      " Training Phase\n",
      "Hyperparameter:\n",
      " {'copy_X': True, 'fit_intercept': True, 'n_jobs': None, 'positive': False}\n",
      "Training Completed\n",
      "====================================================================================================\n",
      "\n",
      " Test Phase\n",
      "\n",
      "Testing completed\n",
      "====================================================================================================\n"
     ]
    }
   ],
   "source": [
    "from sklearn.linear_model import LinearRegression\n",
    "lin_reg=LinearRegression()\n",
    "print('*'*100)\n",
    "print('Linear Regression Model')\n",
    "print('*'*100)\n",
    "print('\\n Training Phase')\n",
    "lin_reg.fit(xtrain,ytrain)\n",
    "print('Hyperparameter:\\n',lin_reg.get_params())\n",
    "print('Training Completed')\n",
    "print('='*100)\n",
    "print('\\n Test Phase')\n",
    "ypred_lin_reg=lin_reg.predict(xtest)\n",
    "print()\n",
    "print('Testing completed')\n",
    "print('='*100)"
   ]
  },
  {
   "cell_type": "code",
   "execution_count": 42,
   "id": "a81b1c08",
   "metadata": {},
   "outputs": [
    {
     "name": "stdout",
     "output_type": "stream",
     "text": [
      "****************************************************************************************************\n",
      "Linear Regression - Performance Measures\n",
      "****************************************************************************************************\n",
      "Accuracy Score - Linear Regression:\t 0.3874728515759793\n",
      "\n",
      "MSE-linear Regression:\t 0.15313178710600517\n",
      "\n",
      "RMSE linear Regression:\t 0.39132056821231\n"
     ]
    }
   ],
   "source": [
    "from sklearn.metrics import r2_score,mean_squared_error\n",
    "print('*'*100)\n",
    "print('Linear Regression - Performance Measures')\n",
    "print('*'*100)\n",
    "Accuracy_lin_reg=r2_score(ytest,ypred_lin_reg)\n",
    "MSE_lin_reg=mean_squared_error(ytest,ypred_lin_reg)\n",
    "RMSE_lin_reg=np.sqrt(mean_squared_error(ytest,ypred_lin_reg))\n",
    "print('Accuracy Score - Linear Regression:\\t',Accuracy_lin_reg)\n",
    "print()\n",
    "print('MSE-linear Regression:\\t',MSE_lin_reg)\n",
    "print()\n",
    "print('RMSE linear Regression:\\t',RMSE_lin_reg)"
   ]
  },
  {
   "cell_type": "markdown",
   "id": "0a085292",
   "metadata": {},
   "source": [
    "# 2. KNN Regression"
   ]
  },
  {
   "cell_type": "code",
   "execution_count": 44,
   "id": "692bf6b4",
   "metadata": {},
   "outputs": [
    {
     "name": "stdout",
     "output_type": "stream",
     "text": [
      "****************************************************************************************************\n",
      "KNN Regression Model\n",
      "****************************************************************************************************\n",
      "\n",
      " Training Phase\n",
      "Hyperparameter:\n",
      " {'algorithm': 'auto', 'leaf_size': 30, 'metric': 'minkowski', 'metric_params': None, 'n_jobs': None, 'n_neighbors': 3, 'p': 2, 'weights': 'uniform'}\n",
      "Training Completed\n",
      "====================================================================================================\n",
      "\n",
      " Test Phase\n",
      "\n",
      "Testing completed\n",
      "====================================================================================================\n"
     ]
    }
   ],
   "source": [
    "from sklearn.neighbors import KNeighborsRegressor\n",
    "knn_reg=KNeighborsRegressor(n_neighbors=3)\n",
    "print('*'*100)\n",
    "print('KNN Regression Model')\n",
    "print('*'*100)\n",
    "print('\\n Training Phase')\n",
    "knn_reg.fit(xtrain,ytrain)\n",
    "print('Hyperparameter:\\n',knn_reg.get_params())\n",
    "print('Training Completed')\n",
    "print('='*100)\n",
    "print('\\n Test Phase')\n",
    "ypred_knn=knn_reg.predict(xtest)\n",
    "print()\n",
    "print('Testing completed')\n",
    "print('='*100)\n"
   ]
  },
  {
   "cell_type": "code",
   "execution_count": 45,
   "id": "579205d3",
   "metadata": {},
   "outputs": [
    {
     "name": "stdout",
     "output_type": "stream",
     "text": [
      "****************************************************************************************************\n",
      "KNN Regression - Performance Measures\n",
      "****************************************************************************************************\n",
      "Accuracy Score - knn Regression:\t 0.1777777777777778\n",
      "\n",
      "MSE-knn Regression:\t 0.20555555555555555\n",
      "\n",
      "RMSE knn Regression:\t 0.45338235029118146\n"
     ]
    }
   ],
   "source": [
    "from sklearn.metrics import r2_score,mean_squared_error\n",
    "print('*'*100)\n",
    "print('KNN Regression - Performance Measures')\n",
    "print('*'*100)\n",
    "Accuracy_knn_reg=r2_score(ytest,ypred_knn)\n",
    "MSE_knn=mean_squared_error(ytest,ypred_knn)\n",
    "RMSE_knn=np.sqrt(mean_squared_error(ytest,ypred_knn))\n",
    "print('Accuracy Score - knn Regression:\\t',Accuracy_knn_reg)\n",
    "print()\n",
    "print('MSE-knn Regression:\\t',MSE_knn)\n",
    "print()\n",
    "print('RMSE knn Regression:\\t',RMSE_knn)"
   ]
  },
  {
   "cell_type": "markdown",
   "id": "d62a3f7a",
   "metadata": {},
   "source": [
    "# 3. Decision Tree Regression model"
   ]
  },
  {
   "cell_type": "code",
   "execution_count": 47,
   "id": "e38dae5d",
   "metadata": {},
   "outputs": [
    {
     "name": "stdout",
     "output_type": "stream",
     "text": [
      "****************************************************************************************************\n",
      "DT Regression Model\n",
      "****************************************************************************************************\n",
      "\n",
      " Training Phase\n",
      "Hyperparameter:\n",
      " {'ccp_alpha': 0.0, 'criterion': 'squared_error', 'max_depth': None, 'max_features': None, 'max_leaf_nodes': None, 'min_impurity_decrease': 0.0, 'min_samples_leaf': 1, 'min_samples_split': 2, 'min_weight_fraction_leaf': 0.0, 'random_state': None, 'splitter': 'best'}\n",
      "Training Completed\n",
      "====================================================================================================\n",
      "\n",
      " Test Phase\n",
      "\n",
      "Testing completed\n",
      "====================================================================================================\n"
     ]
    }
   ],
   "source": [
    "from sklearn.tree import DecisionTreeRegressor\n",
    "dt_reg=DecisionTreeRegressor()\n",
    "print('*'*100)\n",
    "print('DT Regression Model')\n",
    "print('*'*100)\n",
    "print('\\n Training Phase')\n",
    "dt_reg.fit(xtrain,ytrain)\n",
    "print('Hyperparameter:\\n',dt_reg.get_params())\n",
    "print('Training Completed')\n",
    "print('='*100)\n",
    "print('\\n Test Phase')\n",
    "ypred_dt_reg=dt_reg.predict(xtest)\n",
    "print()\n",
    "print('Testing completed')\n",
    "print('='*100)"
   ]
  },
  {
   "cell_type": "code",
   "execution_count": 48,
   "id": "7f4c8cae",
   "metadata": {},
   "outputs": [
    {
     "name": "stdout",
     "output_type": "stream",
     "text": [
      "****************************************************************************************************\n",
      "Linear Regression - Performance Measures\n",
      "****************************************************************************************************\n",
      "Accuracy Score - DT Regression:\t 0.0\n",
      "\n",
      "MSE-DT Regression:\t 0.25\n",
      "\n",
      "RMSE DT Regression:\t 0.5\n"
     ]
    }
   ],
   "source": [
    "from sklearn.metrics import r2_score,mean_squared_error\n",
    "print('*'*100)\n",
    "print('Linear Regression - Performance Measures')\n",
    "print('*'*100)\n",
    "Accuracy_dt_reg=r2_score(ytest,ypred_dt_reg)\n",
    "MSE_dt_reg=mean_squared_error(ytest,ypred_dt_reg)\n",
    "RMSE_dt_reg=np.sqrt(mean_squared_error(ytest,ypred_dt_reg))\n",
    "print('Accuracy Score - DT Regression:\\t',Accuracy_dt_reg)\n",
    "print()\n",
    "print('MSE-DT Regression:\\t',MSE_dt_reg)\n",
    "print()\n",
    "print('RMSE DT Regression:\\t',RMSE_dt_reg)"
   ]
  },
  {
   "cell_type": "markdown",
   "id": "3f289bc9",
   "metadata": {},
   "source": [
    "# 4. Support Vector Regressor"
   ]
  },
  {
   "cell_type": "code",
   "execution_count": 51,
   "id": "746605a3",
   "metadata": {},
   "outputs": [
    {
     "name": "stdout",
     "output_type": "stream",
     "text": [
      "****************************************************************************************************\n",
      "SVR Regression Model\n",
      "****************************************************************************************************\n",
      "\n",
      " Training Phase\n",
      "Hyperparameter:\n",
      " {'C': 1.0, 'cache_size': 200, 'coef0': 0.0, 'degree': 3, 'epsilon': 0.1, 'gamma': 'scale', 'kernel': 'rbf', 'max_iter': -1, 'shrinking': True, 'tol': 0.001, 'verbose': False}\n",
      "Training Completed\n",
      "====================================================================================================\n",
      "\n",
      " Test Phase\n",
      "\n",
      "Testing completed\n",
      "====================================================================================================\n"
     ]
    },
    {
     "name": "stderr",
     "output_type": "stream",
     "text": [
      "C:\\Users\\ADMIN\\anaconda3\\Lib\\site-packages\\sklearn\\utils\\validation.py:1143: DataConversionWarning: A column-vector y was passed when a 1d array was expected. Please change the shape of y to (n_samples, ), for example using ravel().\n",
      "  y = column_or_1d(y, warn=True)\n"
     ]
    }
   ],
   "source": [
    "from sklearn.svm import SVR\n",
    "svr=SVR()\n",
    "print('*'*100)\n",
    "print('SVR Regression Model')\n",
    "print('*'*100)\n",
    "print('\\n Training Phase')\n",
    "svr.fit(xtrain,ytrain)\n",
    "print('Hyperparameter:\\n',svr.get_params())\n",
    "print('Training Completed')\n",
    "print('='*100)\n",
    "print('\\n Test Phase')\n",
    "ypred_svr=svr.predict(xtest)\n",
    "print()\n",
    "print('Testing completed')\n",
    "print('='*100)"
   ]
  },
  {
   "cell_type": "code",
   "execution_count": 52,
   "id": "12678173",
   "metadata": {},
   "outputs": [
    {
     "name": "stdout",
     "output_type": "stream",
     "text": [
      "****************************************************************************************************\n",
      "SVR Regression - Performance Measures\n",
      "****************************************************************************************************\n",
      "Accuracy Score - SVR Regression:\t 0.4429903675189517\n",
      "\n",
      "MSE-SVR Regression:\t 0.13925240812026207\n",
      "\n",
      "RMSE SVR Regression:\t 0.3731653897674087\n"
     ]
    }
   ],
   "source": [
    "from sklearn.metrics import r2_score,mean_squared_error\n",
    "print('*'*100)\n",
    "print('SVR Regression - Performance Measures')\n",
    "print('*'*100)\n",
    "Accuracy_svr=r2_score(ytest,ypred_svr)\n",
    "MSE_svr=mean_squared_error(ytest,ypred_svr)\n",
    "RMSE_svr=np.sqrt(mean_squared_error(ytest,ypred_svr))\n",
    "print('Accuracy Score - SVR Regression:\\t',Accuracy_svr)\n",
    "print()\n",
    "print('MSE-SVR Regression:\\t',MSE_svr)\n",
    "print()\n",
    "print('RMSE SVR Regression:\\t',RMSE_svr)"
   ]
  },
  {
   "cell_type": "markdown",
   "id": "d43769cf",
   "metadata": {},
   "source": [
    "# 5. Boosting - GradientBoost"
   ]
  },
  {
   "cell_type": "code",
   "execution_count": 57,
   "id": "f9bab978",
   "metadata": {},
   "outputs": [
    {
     "name": "stdout",
     "output_type": "stream",
     "text": [
      "****************************************************************************************************\n",
      "GradientBoosting Regression Model\n",
      "****************************************************************************************************\n",
      "\n",
      " Training Phase\n",
      "Hyperparameter:\n",
      " {'alpha': 0.9, 'ccp_alpha': 0.0, 'criterion': 'friedman_mse', 'init': None, 'learning_rate': 0.1, 'loss': 'squared_error', 'max_depth': 3, 'max_features': None, 'max_leaf_nodes': None, 'min_impurity_decrease': 0.0, 'min_samples_leaf': 1, 'min_samples_split': 2, 'min_weight_fraction_leaf': 0.0, 'n_estimators': 15, 'n_iter_no_change': None, 'random_state': None, 'subsample': 1.0, 'tol': 0.0001, 'validation_fraction': 0.1, 'verbose': 0, 'warm_start': False}\n",
      "Training Completed\n",
      "====================================================================================================\n",
      "\n",
      " Test Phase\n",
      "\n",
      "Testing completed\n",
      "====================================================================================================\n"
     ]
    },
    {
     "name": "stderr",
     "output_type": "stream",
     "text": [
      "C:\\Users\\ADMIN\\anaconda3\\Lib\\site-packages\\sklearn\\ensemble\\_gb.py:437: DataConversionWarning: A column-vector y was passed when a 1d array was expected. Please change the shape of y to (n_samples, ), for example using ravel().\n",
      "  y = column_or_1d(y, warn=True)\n"
     ]
    }
   ],
   "source": [
    "from sklearn.ensemble import GradientBoostingRegressor\n",
    "grad_boost=GradientBoostingRegressor(n_estimators=15)\n",
    "print('*'*100)\n",
    "print('GradientBoosting Regression Model')\n",
    "print('*'*100)\n",
    "print('\\n Training Phase')\n",
    "grad_boost.fit(xtrain,ytrain)\n",
    "print('Hyperparameter:\\n',grad_boost.get_params())\n",
    "print('Training Completed')\n",
    "print('='*100)\n",
    "print('\\n Test Phase')\n",
    "ypred_grad_boost=grad_boost.predict(xtest)\n",
    "print()\n",
    "print('Testing completed')\n",
    "print('='*100)"
   ]
  },
  {
   "cell_type": "code",
   "execution_count": 58,
   "id": "fe4161fa",
   "metadata": {},
   "outputs": [
    {
     "name": "stdout",
     "output_type": "stream",
     "text": [
      "****************************************************************************************************\n",
      "GradientBoosting Regression - Performance Measures\n",
      "****************************************************************************************************\n",
      "Accuracy Score - GradientBoosting Regression:\t 0.36564729932456286\n",
      "\n",
      "MSE-GradientBoosting Regression:\t 0.15858817516885929\n",
      "\n",
      "RMSE GradientBoosting Regression:\t 0.3982313086245973\n"
     ]
    }
   ],
   "source": [
    "from sklearn.metrics import r2_score,mean_squared_error\n",
    "print('*'*100)\n",
    "print('GradientBoosting Regression - Performance Measures')\n",
    "print('*'*100)\n",
    "Accuracy_grad_boost=r2_score(ytest,ypred_grad_boost)\n",
    "MSE_grad_boost=mean_squared_error(ytest,ypred_grad_boost)\n",
    "RMSE_grad_boost=np.sqrt(mean_squared_error(ytest,ypred_grad_boost))\n",
    "print('Accuracy Score - GradientBoosting Regression:\\t',Accuracy_grad_boost)\n",
    "print()\n",
    "print('MSE-GradientBoosting Regression:\\t',MSE_grad_boost)\n",
    "print()\n",
    "print('RMSE GradientBoosting Regression:\\t',RMSE_grad_boost)"
   ]
  },
  {
   "cell_type": "markdown",
   "id": "aceb3895",
   "metadata": {},
   "source": [
    "# 6.Boosting - Adaboost with the base model - Lin Reg"
   ]
  },
  {
   "cell_type": "code",
   "execution_count": 60,
   "id": "05b8133f",
   "metadata": {},
   "outputs": [
    {
     "name": "stdout",
     "output_type": "stream",
     "text": [
      "****************************************************************************************************\n",
      "AdaBoost Regression Model\n",
      "****************************************************************************************************\n",
      "\n",
      " Training Phase\n",
      "Hyperparameter:\n",
      " {'base_estimator__copy_X': True, 'base_estimator__fit_intercept': True, 'base_estimator__n_jobs': None, 'base_estimator__positive': False, 'base_estimator': LinearRegression(), 'estimator': None, 'learning_rate': 1.0, 'loss': 'linear', 'n_estimators': 15, 'random_state': None}\n",
      "Training Completed\n",
      "====================================================================================================\n",
      "\n",
      " Test Phase\n",
      "\n",
      "Testing completed\n",
      "====================================================================================================\n"
     ]
    },
    {
     "name": "stderr",
     "output_type": "stream",
     "text": [
      "C:\\Users\\ADMIN\\anaconda3\\Lib\\site-packages\\sklearn\\utils\\validation.py:1143: DataConversionWarning: A column-vector y was passed when a 1d array was expected. Please change the shape of y to (n_samples, ), for example using ravel().\n",
      "  y = column_or_1d(y, warn=True)\n",
      "C:\\Users\\ADMIN\\anaconda3\\Lib\\site-packages\\sklearn\\ensemble\\_base.py:166: FutureWarning: `base_estimator` was renamed to `estimator` in version 1.2 and will be removed in 1.4.\n",
      "  warnings.warn(\n"
     ]
    }
   ],
   "source": [
    "from sklearn.ensemble import AdaBoostRegressor\n",
    "ada=AdaBoostRegressor(base_estimator=lin_reg,n_estimators=15)\n",
    "print('*'*100)\n",
    "print('AdaBoost Regression Model')\n",
    "print('*'*100)\n",
    "print('\\n Training Phase')\n",
    "ada.fit(xtrain,ytrain)\n",
    "print('Hyperparameter:\\n',ada.get_params())\n",
    "print('Training Completed')\n",
    "print('='*100)\n",
    "print('\\n Test Phase')\n",
    "ypred_ada=ada.predict(xtest)\n",
    "print()\n",
    "print('Testing completed')\n",
    "print('='*100)"
   ]
  },
  {
   "cell_type": "code",
   "execution_count": 61,
   "id": "5d746928",
   "metadata": {},
   "outputs": [
    {
     "name": "stdout",
     "output_type": "stream",
     "text": [
      "****************************************************************************************************\n",
      "Adaboost Regression - Performance Measures\n",
      "****************************************************************************************************\n",
      "Accuracy Score - Adaboost Regression:\t 0.3817170665378794\n",
      "\n",
      "MSE-Adaboost Regression:\t 0.15457073336553015\n",
      "\n",
      "RMSE Adaboost Regression:\t 0.3931548465497153\n"
     ]
    }
   ],
   "source": [
    "from sklearn.metrics import r2_score,mean_squared_error\n",
    "print('*'*100)\n",
    "print('Adaboost Regression - Performance Measures')\n",
    "print('*'*100)\n",
    "Accuracy_ada=r2_score(ytest,ypred_ada)\n",
    "MSE_ada=mean_squared_error(ytest,ypred_ada)\n",
    "RMSE_ada=np.sqrt(mean_squared_error(ytest,ypred_ada))\n",
    "print('Accuracy Score - Adaboost Regression:\\t',Accuracy_ada)\n",
    "print()\n",
    "print('MSE-Adaboost Regression:\\t',MSE_ada)\n",
    "print()\n",
    "print('RMSE Adaboost Regression:\\t',RMSE_ada)"
   ]
  },
  {
   "cell_type": "markdown",
   "id": "225e8333",
   "metadata": {},
   "source": [
    "# Accuracy scores of models"
   ]
  },
  {
   "cell_type": "code",
   "execution_count": 64,
   "id": "2caca010",
   "metadata": {},
   "outputs": [
    {
     "name": "stdout",
     "output_type": "stream",
     "text": [
      "                      Model  Accuracy_score\n",
      "3                       SVR        0.442990\n",
      "0         Linear Regression        0.387473\n",
      "4        Adaboost Regressor        0.381717\n",
      "5  Gradient Boost Regressor        0.365647\n",
      "1            KNN Regression        0.177778\n",
      "2  Decision Tree Regression        0.000000\n"
     ]
    }
   ],
   "source": [
    "scores=[('Linear Regression',Accuracy_lin_reg),\n",
    " ('KNN Regression',Accuracy_knn_reg),\n",
    " ('Decision Tree Regression',Accuracy_dt_reg),\n",
    " ('SVR',Accuracy_svr),\n",
    " ('Adaboost Regressor',Accuracy_ada),\n",
    " ('Gradient Boost Regressor',Accuracy_grad_boost),\n",
    "\n",
    " ]\n",
    "Acc_scores=pd.DataFrame(scores,columns=['Model','Accuracy_score'])\n",
    "print(Acc_scores.sort_values(by='Accuracy_score',ascending=False))"
   ]
  },
  {
   "cell_type": "code",
   "execution_count": 65,
   "id": "97e57f02",
   "metadata": {},
   "outputs": [
    {
     "data": {
      "text/plain": [
       "([0, 1, 2, 3, 4, 5],\n",
       " [Text(0, 0, 'Linear Regression'),\n",
       "  Text(1, 0, 'KNN Regression'),\n",
       "  Text(2, 0, 'Decision Tree Regression'),\n",
       "  Text(3, 0, 'SVR'),\n",
       "  Text(4, 0, 'Adaboost Regressor'),\n",
       "  Text(5, 0, 'Gradient Boost Regressor')])"
      ]
     },
     "execution_count": 65,
     "metadata": {},
     "output_type": "execute_result"
    },
    {
     "data": {
      "image/png": "[encoded data removed]",
      "text/plain": [
       "<Figure size 640x480 with 1 Axes>"
      ]
     },
     "metadata": {},
     "output_type": "display_data"
    }
   ],
   "source": [
    "sns.lineplot(x=Acc_scores['Model'],y=Acc_scores['Accuracy_score'],data=Acc_scores)\n",
    "plt.xticks(rotation=90)"
   ]
  },
  {
   "cell_type": "code",
   "execution_count": null,
   "id": "379d3e0c",
   "metadata": {},
   "outputs": [],
   "source": []
  },
  {
   "cell_type": "code",
   "execution_count": null,
   "id": "fce42511",
   "metadata": {},
   "outputs": [],
   "source": []
  },
  {
   "cell_type": "code",
   "execution_count": null,
   "id": "1c85301e",
   "metadata": {},
   "outputs": [],
   "source": []
  },
  {
   "cell_type": "code",
   "execution_count": null,
   "id": "9caa2908",
   "metadata": {},
   "outputs": [],
   "source": []
  }
 ],
 "metadata": {
  "kernelspec": {
   "display_name": "Python 3 (ipykernel)",
   "language": "python",
   "name": "python3"
  },
  "language_info": {
   "codemirror_mode": {
    "name": "ipython",
    "version": 3
   },
   "file_extension": ".py",
   "mimetype": "text/x-python",
   "name": "python",
   "nbconvert_exporter": "python",
   "pygments_lexer": "ipython3",
   "version": "3.11.5"
  }
 },
 "nbformat": 4,
 "nbformat_minor": 5
}
