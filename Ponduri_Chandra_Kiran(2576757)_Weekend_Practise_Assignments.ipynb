{
 "cells": [
  {
   "cell_type": "markdown",
   "id": "02c18a2b",
   "metadata": {},
   "source": [
    "# 1. Case Study Online Shopping Cart Exception Handling without using oops and use modules"
   ]
  },
  {
   "cell_type": "code",
   "execution_count": 6,
   "id": "d1fe143e",
   "metadata": {},
   "outputs": [
    {
     "name": "stdout",
     "output_type": "stream",
     "text": [
      "None\n",
      "Product ID: travel bags,Quantity: 10\n",
      "None\n",
      "Order processed successfully!\n",
      "None\n"
     ]
    }
   ],
   "source": [
    "def adding_to_cart(cart, product_id, quantity, product_catalog):\n",
    "    try:\n",
    "       \n",
    "        if product_id not in product_catalog:\n",
    "            raise ValueError(\"Product not found in the product catalog\")\n",
    "\n",
    "       \n",
    "        if not isinstance(quantity, int) or quantity < 0:\n",
    "            raise ValueError(\"Invalid quantity. Please enter a positive integer.\")\n",
    "\n",
    "      \n",
    "        if product_id in cart:\n",
    "            cart[product_id] += quantity\n",
    "        else:\n",
    "            cart[product_id] = quantity\n",
    "\n",
    "    except ValueError as ve:\n",
    "        return str(ve)\n",
    "\n",
    "\n",
    "\n",
    "\n",
    "\n",
    "def cart_items(cart):\n",
    "    try:\n",
    "        if not cart:\n",
    "            raise ValueError(\"The cart is empty.\")\n",
    "\n",
    "        \n",
    "        for product_id, quantity in cart.items():\n",
    "            print(f\"Product ID: {product_id},Quantity: {quantity}\")\n",
    "\n",
    "    except ValueError as ve:\n",
    "        return str(ve)\n",
    "\n",
    "\n",
    "def checkingout(cart, product_catalog):\n",
    "    try:\n",
    "    \n",
    "        for product_id, quantity in cart.items():\n",
    "            if quantity > product_catalog.get(product_id, {}).get(\"stock\", 0):\n",
    "                raise ValueError(f\"Insufficient stock for product {product_id}\")\n",
    "\n",
    "     \n",
    "        payment_successful = True\n",
    "\n",
    "        if not payment_successful:\n",
    "            raise ValueError(\"Customer payment method declined.\")\n",
    "\n",
    "       \n",
    "        print(\"Order processed successfully!\")\n",
    "\n",
    "    except ValueError as ve:\n",
    "        return str(ve)\n",
    "\n",
    "\n",
    "\n",
    "\n",
    "\n",
    "\n",
    "\n",
    "cart = {}\n",
    "product_catalog = {\n",
    "    \"travel bags\": {\"stock\": 65},\n",
    "    \"laptops\": {\"stock\": 9},\n",
    "    \"watches\":{\"stock\":15}\n",
    "}\n",
    "\n",
    "\n",
    "add_to_cart_response = adding_to_cart(cart, \"travel bags\", 10, product_catalog)\n",
    "print(add_to_cart_response)\n",
    "\n",
    "view_cart_response = cart_items(cart)\n",
    "print(view_cart_response)\n",
    "\n",
    "\n",
    "checkout_response = checkingout(cart, product_catalog)\n",
    "print(checkout_response)"
   ]
  },
  {
   "cell_type": "markdown",
   "id": "f8e7379f",
   "metadata": {},
   "source": [
    "# 2. Create Python Program to check two strings are Anagrams are not"
   ]
  },
  {
   "cell_type": "code",
   "execution_count": 1,
   "id": "40e316e1",
   "metadata": {},
   "outputs": [
    {
     "name": "stdout",
     "output_type": "stream",
     "text": [
      "enter string 1 : listen\n",
      "enter string 2 : silent\n",
      "listen and silent are anagram.\n"
     ]
    }
   ],
   "source": [
    "str1 = input(\"enter string 1 : \")\n",
    "str2 = input(\"enter string 2 : \")\n",
    "\n",
    "\n",
    "str1 = str1.lower()\n",
    "str2 = str2.lower()\n",
    "\n",
    "\n",
    "if(len(str1) == len(str2)):\n",
    "    sorted_str1 = sorted(str1)\n",
    "    sorted_str2 = sorted(str2)\n",
    "    if(sorted_str1 == sorted_str2):\n",
    "        print(str1 + \" and \" + str2 + \" are anagram.\")\n",
    "    else:\n",
    "        print(str1 + \" and \" + str2 + \" are not anagram.\")\n",
    "\n",
    "else:\n",
    "    print(str1 + \" and \" + str2 + \" are not anagram.\")"
   ]
  },
  {
   "cell_type": "markdown",
   "id": "8e513177",
   "metadata": {},
   "source": [
    "# 3. Create Python Program to check two strings are Anagrams are not"
   ]
  },
  {
   "cell_type": "code",
   "execution_count": null,
   "id": "e08f658f",
   "metadata": {},
   "outputs": [],
   "source": [
    "str1 = input(\"enter string 1 : \")\n",
    "str2 = input(\"enter string 2 : \")\n",
    "\n",
    "\n",
    "str1 = str1.lower()\n",
    "str2 = str2.lower()\n",
    "\n",
    "\n",
    "if(len(str1) == len(str2)):\n",
    "    sorted_str1 = sorted(str1)\n",
    "    sorted_str2 = sorted(str2)\n",
    "    if(sorted_str1 == sorted_str2):\n",
    "        print(str1 + \" and \" + str2 + \" are anagram.\")\n",
    "    else:\n",
    "        print(str1 + \" and \" + str2 + \" are not anagram.\")\n",
    "\n",
    "else:\n",
    "    print(str1 + \" and \" + str2 + \" are not anagram.\")"
   ]
  },
  {
   "cell_type": "markdown",
   "id": "36e66ce7",
   "metadata": {},
   "source": [
    "## 6.Read the Text file containing a list of names or numbers, sort the data, and write the sorted data back to a new file."
   ]
  },
  {
   "cell_type": "code",
   "execution_count": 4,
   "id": "8e0fdf81",
   "metadata": {},
   "outputs": [
    {
     "name": "stdout",
     "output_type": "stream",
     "text": [
      "Data sorted and saved to 'apple.txt'.\n"
     ]
    }
   ],
   "source": [
    "def read_file(file_name):\n",
    "    try:\n",
    "        with open(file_name, 'r') as file:\n",
    "            data = file.readlines()\n",
    "        return data\n",
    "    except FileNotFoundError:\n",
    "        print(f\"File '{file_name}' not found.\")\n",
    "        return []\n",
    "\n",
    "\n",
    "def write_file(file_name, data):\n",
    "    with open(file_name, 'w') as file:\n",
    "        file.writelines(data)\n",
    "\n",
    "\n",
    "def sort_data(data):\n",
    "    data.sort()\n",
    "\n",
    "input_file_name = 'apple.txt'   \n",
    "input_data = read_file(input_file_name)\n",
    "\n",
    "if input_data:\n",
    "    sort_data(input_data)\n",
    "    write_file(input_file_name, input_data)\n",
    "    print(f\"Data sorted and saved to '{input_file_name}'.\")\n",
    "else:\n",
    "    print(\"No data to process.\")\n",
    "\n"
   ]
  },
  {
   "cell_type": "markdown",
   "id": "0bddbd35",
   "metadata": {},
   "source": [
    " ## 7. Write a Python Script that compares two text files and identifies the differences between them, including added, modified and, deleted lines"
   ]
  },
  {
   "cell_type": "code",
   "execution_count": 5,
   "id": "2f2e9c0c",
   "metadata": {},
   "outputs": [
    {
     "name": "stdout",
     "output_type": "stream",
     "text": [
      "Added Lines:\n",
      "Lorem Ipsum is 181 simply dummy text of the printing 89 and typesetting industry. Lorem Ipsum has been the industry's standard dummy text ever since the 1500 s, when an unknown printer took a galley of type and scrambled it to 57 make a type specimen book. It has survived not only five centuries, but also the leap into electronic typesetting 54, remaining essentially unchanged. It was popularised in the 1960s with the release of Letraset sheets containing Lorem Ipsum passages, and more recently with desktop publishing software like Aldus PageMaker including versions of Lorem Ipsum 1417.\n",
      "\n",
      "Modified Lines:\n",
      "\n",
      "Deleted Lines:\n",
      "\n",
      "\n",
      "Apple Inc. is an American multinational technology company headquartered in Cupertino, California. Apple is the world's largest technology company by revenue, with US$394.3 billion in 2022 revenue.[6] As of March 2023, Apple is the world's biggest company by market capitalization.[7] As of June 2022, Apple is the fourth-largest personal computer vendor by unit sales; the largest manufacturing company by revenue; and the second-largest mobile phone manufacturer in the world. It is considered one of the Big Five American information technology companies, alongside Alphabet (parent company of Google), Amazon, Meta Platforms, and Microsoft.\n",
      "\n",
      "Apple was founded as Apple Computer Company on April 1, 1976, by Steve Wozniak, Steve Jobs (1955â€“2011) and Ronald Wayne to develop and sell Wozniak's Apple I personal computer. It was incorporated by Jobs and Wozniak as Apple Computer, Inc. in 1977. The company's second computer, the Apple II, became a best seller and one of the first mass-produced microcomputers. Apple went public in 1980 to instant financial success. The company developed computers featuring innovative graphical user interfaces, including the 1984 original Macintosh, announced that year in a critically acclaimed advertisement called \"1984\". By 1985, the high cost of its products, and power struggles between executives, caused problems. Wozniak stepped back from Apple and pursued other ventures, while Jobs resigned and founded NeXT, taking some Apple employees with him.\n"
     ]
    }
   ],
   "source": [
    "import difflib\n",
    "\n",
    "def compare_files(file1_path, file2_path):\n",
    "    with open(file1_path, 'r') as file1:\n",
    "        file1_lines = file1.readlines()\n",
    "\n",
    "    with open(file2_path, 'r') as file2:\n",
    "        file2_lines = file2.readlines()\n",
    "\n",
    "\n",
    "    differ = difflib.Differ()\n",
    "    diff = list(differ.compare(file1_lines, file2_lines))\n",
    "\n",
    "\n",
    "    added_lines = [line for line in diff if line.startswith('+ ')]\n",
    "    modified_lines = [line for line in diff if line.startswith('? ')]\n",
    "    deleted_lines = [line for line in diff if line.startswith('- ')]\n",
    "\n",
    "    print(\"Added Lines:\")\n",
    "    for line in added_lines:\n",
    "        print(line[2:])\n",
    "\n",
    "    print(\"\\nModified Lines:\")\n",
    "    for line in modified_lines:\n",
    "        print(line[2:])\n",
    "\n",
    "    print(\"\\nDeleted Lines:\")\n",
    "    for line in deleted_lines:\n",
    "        print(line[2:])\n",
    "\n",
    "file1_path = \"apple.txt\" \n",
    "file2_path = \"sample.txt\" \n",
    "compare_files(file1_path, file2_path)\n"
   ]
  },
  {
   "cell_type": "markdown",
   "id": "0d452483",
   "metadata": {},
   "source": [
    "## 8. Develop a python program that compresses a large text file using compression algorithm and then decompresses it back to original form"
   ]
  },
  {
   "cell_type": "code",
   "execution_count": 6,
   "id": "a989061f",
   "metadata": {},
   "outputs": [
    {
     "name": "stdout",
     "output_type": "stream",
     "text": [
      "Compression complete. Compressed file saved as apple.zlib\n",
      "Decompression complete. Decompressed file saved as decompressed_apple.txt\n"
     ]
    }
   ],
   "source": [
    "import zlib\n",
    "\n",
    "def compress_file(input_file, compressed_file):\n",
    "    try:\n",
    "        with open(input_file, 'rb') as f_in:\n",
    "            data = f_in.read()\n",
    "            compressed_data = zlib.compress(data, zlib.Z_BEST_COMPRESSION)\n",
    "        with open(compressed_file, 'wb') as f_out:\n",
    "            f_out.write(compressed_data)\n",
    "        print(f\"Compression complete. Compressed file saved as {compressed_file}\")\n",
    "    except Exception as e:\n",
    "        print(f\"Error during compression: {str(e)}\")\n",
    "\n",
    "def decompress_file(compressed_file, decompressed_file):\n",
    "    try:\n",
    "        with open(compressed_file, 'rb') as f_in:\n",
    "            compressed_data = f_in.read()\n",
    "            decompressed_data = zlib.decompress(compressed_data)\n",
    "        with open(decompressed_file, 'wb') as f_out:\n",
    "            f_out.write(decompressed_data)\n",
    "        print(f\"Decompression complete. Decompressed file saved as {decompressed_file}\")\n",
    "    except Exception as e:\n",
    "        print(f\"Error during decompression: {str(e)}\")\n",
    "\n",
    "\n",
    "input_file = \"apple.txt\"\n",
    "compressed_file = \"apple.zlib\"\n",
    "decompressed_file = \"decompressed_apple.txt\"\n",
    "compress_file(input_file, compressed_file)\n",
    "decompress_file(compressed_file, decompressed_file)\n"
   ]
  },
  {
   "cell_type": "markdown",
   "id": "4ff013dc",
   "metadata": {},
   "source": [
    "## 9. Read a binary file (e.g an image or audio file) in python and perform operation such as resizing an image or modifying audio data"
   ]
  },
  {
   "cell_type": "code",
   "execution_count": null,
   "id": "7bebee11",
   "metadata": {},
   "outputs": [],
   "source": [
    "from PIL import Image\n",
    "\n",
    "image_path = \"G:\\Downloads\\sample.jpg\"\n",
    "img = Image.open(image_path)\n",
    "new_width = 300\n",
    "new_height = 200\n",
    "resized_img = img.resize((new_width, new_height))\n",
    "resized_img.save(\"resized_image.jpg\")\n",
    "img.close()\n",
    "resized_img.close()"
   ]
  },
  {
   "cell_type": "markdown",
   "id": "7c6a50ab",
   "metadata": {},
   "source": [
    "## 10.Write a Python Program That combines the contents of multiple text files into a single file using python . Each file should be appended at the end of the resulting file"
   ]
  },
  {
   "cell_type": "code",
   "execution_count": 11,
   "id": "1848d20e",
   "metadata": {},
   "outputs": [
    {
     "name": "stdout",
     "output_type": "stream",
     "text": [
      "Combined 3 files into combined_output.txt\n",
      "\n",
      "Apple Inc. is an American multinational technology company headquartered in Cupertino, California. Apple is the world's largest technology company by revenue, with US$394.3 billion in 2022 revenue.[6] As of March 2023, Apple is the world's biggest company by market capitalization.[7] As of June 2022, Apple is the fourth-largest personal computer vendor by unit sales; the largest manufacturing company by revenue; and the second-largest mobile phone manufacturer in the world. It is considered one of the Big Five American information technology companies, alongside Alphabet (parent company of Google), Amazon, Meta Platforms, and Microsoft.\n",
      "Apple was founded as Apple Computer Company on April 1, 1976, by Steve Wozniak, Steve Jobs (1955â€“2011) and Ronald Wayne to develop and sell Wozniak's Apple I personal computer. It was incorporated by Jobs and Wozniak as Apple Computer, Inc. in 1977. The company's second computer, the Apple II, became a best seller and one of the first mass-produced microcomputers. Apple went public in 1980 to instant financial success. The company developed computers featuring innovative graphical user interfaces, including the 1984 original Macintosh, announced that year in a critically acclaimed advertisement called \"1984\". By 1985, the high cost of its products, and power struggles between executives, caused problems. Wozniak stepped back from Apple and pursued other ventures, while Jobs resigned and founded NeXT, taking some Apple employees with him.\n",
      "Lorem Ipsum is 181 simply dummy text of the printing 89 and typesetting industry. Lorem Ipsum has been the industry's standard dummy text ever since the 1500 s, when an unknown printer took a galley of type and scrambled it to 57 make a type specimen book. It has survived not only five centuries, but also the leap into electronic typesetting 54, remaining essentially unchanged. It was popularised in the 1960s with the release of Letraset sheets containing Lorem Ipsum passages, and more recently with desktop publishing software like Aldus PageMaker including versions of Lorem Ipsum 1417.\n",
      "Java is a high-level, general-purpose programming language. Java is dynamically typed and garbage-collected. It supports multiple programming paradigms, including structured (particularly procedural), object-oriented and functional programming.Guido van Rossum began working on Java in the late 1980s as a successor to the ABC programming language and first released it in 1991 as Java 0.9.0\n",
      "\n"
     ]
    }
   ],
   "source": [
    "def files_combine(input_files, output_file):\n",
    "    try:\n",
    "        with open(output_file, \"w\") as output:\n",
    "            for input_file in input_files:\n",
    "                with open(input_file, \"r\") as file:\n",
    "                    content = file.read()\n",
    "                    output.write(content)\n",
    "                    output.write(\"\\n\")\n",
    "\n",
    "        print(f\"Combined {len(input_files)} files into {output_file}\")\n",
    "\n",
    "    except Exception as e:\n",
    "        print(f\"An error occurred: {str(e)}\")\n",
    "\n",
    "\n",
    "input_files = [\"apple.txt\", \"sample.txt\", \"java.txt\"]\n",
    "output_file = \"combined_output.txt\"\n",
    "files_combine(input_files, output_file)\n",
    "\n",
    "with open(\"combined_output.txt\",'r') as file:\n",
    "    print(file.read())\n"
   ]
  },
  {
   "cell_type": "markdown",
   "id": "d9a4e98a",
   "metadata": {},
   "source": [
    "## 11. Create a Python Script that accepts a text file as a command line arguement, and counts the number of words, lines, and characters in a file."
   ]
  },
  {
   "cell_type": "code",
   "execution_count": null,
   "id": "497bd81e",
   "metadata": {},
   "outputs": [],
   "source": [
    "import sys\n",
    "import argparse\n",
    "\n",
    "def file_count(file_path):\n",
    "    try:\n",
    "        with open(file_path, 'r') as file:\n",
    "            content = file.read()\n",
    "            words = len(content.split())\n",
    "            lines = len(content.splitlines())\n",
    "            char = len(content)\n",
    "\n",
    "            print(f\"Total No. of Words: {words}\")\n",
    "            print(f\"Total No. of Lines: {lines}\")\n",
    "            print(f\"Total No.of Characters: {char}\")\n",
    "\n",
    "    except FileNotFoundError:\n",
    "        print(f\"File '{file_path}' not found.\")\n",
    "    except Exception as e:\n",
    "        print(f\"An error occurred: {str(e)}\")\n",
    "\n",
    "        \n",
    "parser = argparse.ArgumentParser(description=\"Count words, lines, and characters in a text file.\")\n",
    "parser.add_argument(\"file_path\", help=\"Path to the text file\")\n",
    "args = parser.parse_args()\n",
    "file_count(args.file_path)\n"
   ]
  },
  {
   "cell_type": "markdown",
   "id": "00698cad",
   "metadata": {},
   "source": [
    "## 12. Build a command-Line calculator that accepts a mathematical Expression as string arguement and evaluates it , and prints the result"
   ]
  },
  {
   "cell_type": "code",
   "execution_count": null,
   "id": "9580b527",
   "metadata": {},
   "outputs": [],
   "source": [
    "import sys\n",
    "import argparse\n",
    "def calculate(expression):\n",
    "    try:\n",
    "        result = eval(expression)\n",
    "        print(f\"Result: {result}\")\n",
    "    except Exception as e:\n",
    "        print(f\"Error: {str(e)}\")\n",
    "\n",
    "\n",
    "parser = argparse.ArgumentParser(description=\"Command-Line Calculator\")\n",
    "parser.add_argument(\"expression\", help=\"Mathematical expression to evaluate\")\n",
    "args = parser.parse_args()\n",
    "calculate(args.expression)\n"
   ]
  },
  {
   "cell_type": "markdown",
   "id": "78a682e4",
   "metadata": {},
   "source": [
    "## 13. Implement a python script that takes a csv file and two column names as command-line arguements. The Script should calculate the average of values in one column and store the result in another column in the same file"
   ]
  },
  {
   "cell_type": "code",
   "execution_count": null,
   "id": "00f11f7a",
   "metadata": {},
   "outputs": [],
   "source": [
    "import sys\n",
    "import argparse\n",
    "import pandas as pd\n",
    "\n",
    "def avg_calc(inpfile, outfile, value_column, result_column):\n",
    "    try:\n",
    "\n",
    "        df = pd.read_csv(inp_file)\n",
    "\n",
    "        average_value = df[value_column].mean()\n",
    "\n",
    "        df[result_column] = average_value\n",
    "\n",
    "        df.to_csv(out_file, index=False)\n",
    "\n",
    "        print(f\"Average of '{value_column}' column: {average_value}\")\n",
    "        print(f\"Updated data saved to '{out_file}'\")\n",
    "\n",
    "    except Exception as e:\n",
    "        print(f\"An error occurred: {str(e)}\")\n",
    "\n",
    "\n",
    "parser = argparse.ArgumentParser(description=\"Calculate and store the average of values in a CSV file.\")\n",
    "parser.add_argument(\"input_file\", help=\"Path to the input CSV file\")\n",
    "parser.add_argument(\"output_file\", help=\"Path to the output CSV file\")\n",
    "parser.add_argument(\"value_column\", help=\"Name of the column to calculate the average from\")\n",
    "parser.add_argument(\"result_column\", help=\"Name of the column to store the average result\")\n",
    "args = parser.parse_args()\n",
    "calculate_average(args.input_file, args.output_file, args.value_column, args.result_column)\n"
   ]
  },
  {
   "cell_type": "markdown",
   "id": "53734d95",
   "metadata": {},
   "source": [
    "## 14. Write a Python Script that takes two integer command-line arguments and print their sum"
   ]
  },
  {
   "cell_type": "code",
   "execution_count": null,
   "id": "38311c58",
   "metadata": {},
   "outputs": [],
   "source": [
    "import sys\n",
    "\n",
    "def main():\n",
    "    if len(sys.argv) != 3:\n",
    "        print(\"correct synthax: python script.py <integer1> <integer2>\")\n",
    "        return\n",
    "    \n",
    "    try:\n",
    "        num1 = int(sys.argv[1])\n",
    "        num2 = int(sys.argv[2])\n",
    "        result = num1 + num2\n",
    "        print(f\"The sum of {num1} and {num2} is: {result}\")\n",
    "    except ValueError:\n",
    "        print(\"Please provide valid integer arguments.\")\n",
    "\n",
    "if __name__ == \"__main__\":\n",
    "    main()\n"
   ]
  },
  {
   "cell_type": "markdown",
   "id": "fbfb8c33",
   "metadata": {},
   "source": [
    "## 15. Create a custom python Module that includes functions to calculate the factorial of a number and to check if a number is prime . import and use this module  in another python script."
   ]
  },
  {
   "cell_type": "code",
   "execution_count": null,
   "id": "0e512093",
   "metadata": {},
   "outputs": [],
   "source": [
    "# fact_prime_functions.py\n",
    "\n",
    "def factorial(n):\n",
    "    if n < 0:\n",
    "        raise ValueError(\"Enter only positive number\")\n",
    "    if n == 0:\n",
    "        return 1\n",
    "    result = 1\n",
    "    for i in range(1, n + 1):\n",
    "        result *= i\n",
    "    return result\n",
    "\n",
    "def is_prime(num):\n",
    "    count=0;\n",
    "    while i<=num:\n",
    "        if num%i==0:\n",
    "            count=count+1;\n",
    "        i=i+1\n",
    "    if count==2:\n",
    "        return True\n",
    "    else:\n",
    "        return False"
   ]
  },
  {
   "cell_type": "code",
   "execution_count": null,
   "id": "c7b75d43",
   "metadata": {},
   "outputs": [],
   "source": [
    "# main_script.py\n",
    "import fact_prime_functions\n",
    "\n",
    "n = 5\n",
    "factorial_result = math_functions.factorial(n)\n",
    "print(f\"The factorial of {n} is: {factorial_result}\")\n",
    "\n",
    "num = 17\n",
    "if math_functions.is_prime(num):\n",
    "    print(f\"{num} is prime number.\")\n",
    "else:\n",
    "    print(f\"{num} is not prime number.\")\n"
   ]
  },
  {
   "cell_type": "markdown",
   "id": "fd8be537",
   "metadata": {},
   "source": [
    "## 16. Create a Python Module named calculator.py that contains functions for each of the four operations(addition,subtraction,multiplication, and division).Each Function should take two arguments, perform the respective operation, and return the result."
   ]
  },
  {
   "cell_type": "code",
   "execution_count": null,
   "id": "c7c26542",
   "metadata": {},
   "outputs": [],
   "source": [
    "# calculator.py\n",
    "\n",
    "def add(x, y):\n",
    "    return x + y\n",
    "\n",
    "def subtract(x, y):\n",
    "    return x - y\n",
    "\n",
    "def multiply(x, y):\n",
    "    return x * y\n",
    "\n",
    "def divide(x, y):\n",
    "    if y == 0:\n",
    "        raise ValueError(\"Can't divide by Zero\")\n",
    "    else:\n",
    "    return x / y\n"
   ]
  },
  {
   "cell_type": "code",
   "execution_count": null,
   "id": "7ac9a6c3",
   "metadata": {},
   "outputs": [],
   "source": [
    "# main_script.py\n",
    "\n",
    "import calculator\n",
    "\n",
    "\n",
    "num1 = int(input(\"enter value of number 1 :\"))\n",
    "num2 = int(input(\"enter value of number 2 :\"))\n",
    "\n",
    "\n",
    "result_add = calculator.add(num1, num2)\n",
    "print(f\"{num1} + {num2} = {result_add}\")\n",
    "\n",
    "result_sub = calculator.subtract(num1, num2)\n",
    "print(f\"{num1} - {num2} = {result_sub}\")\n",
    "\n",
    "\n",
    "result_mul = calculator.multiply(num1, num2)\n",
    "print(f\"{num1} * {num2} = {result_mul}\")\n",
    "\n",
    "\n",
    "try:\n",
    "    result_div = calculator.divide(num1, num2)\n",
    "    print(f\"{num1} / {num2} = {result_div}\")\n",
    "except ValueError as e:\n",
    "    print(e)\n"
   ]
  }
 ],
 "metadata": {
  "kernelspec": {
   "display_name": "Python 3 (ipykernel)",
   "language": "python",
   "name": "python3"
  },
  "language_info": {
   "codemirror_mode": {
    "name": "ipython",
    "version": 3
   },
   "file_extension": ".py",
   "mimetype": "text/x-python",
   "name": "python",
   "nbconvert_exporter": "python",
   "pygments_lexer": "ipython3",
   "version": "3.11.4"
  }
 },
 "nbformat": 4,
 "nbformat_minor": 5
}
